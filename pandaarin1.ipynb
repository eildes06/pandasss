{
  "nbformat": 4,
  "nbformat_minor": 0,
  "metadata": {
    "colab": {
      "name": "pandaarin1.ipynb",
      "provenance": [],
      "authorship_tag": "ABX9TyOurdDAf9Bq3j4S+f+XfHrc",
      "include_colab_link": true
    },
    "kernelspec": {
      "name": "python3",
      "display_name": "Python 3"
    },
    "language_info": {
      "name": "python"
    }
  },
  "cells": [
    {
      "cell_type": "markdown",
      "metadata": {
        "id": "view-in-github",
        "colab_type": "text"
      },
      "source": [
        "<a href=\"https://colab.research.google.com/github/eildes06/pandasss/blob/main/pandaarin1.ipynb\" target=\"_parent\"><img src=\"https://colab.research.google.com/assets/colab-badge.svg\" alt=\"Open In Colab\"/></a>"
      ]
    },
    {
      "cell_type": "code",
      "execution_count": 2,
      "metadata": {
        "colab": {
          "base_uri": "https://localhost:8080/"
        },
        "id": "y1X4qMIsTVRM",
        "outputId": "f40d8d40-ea81-4d30-f886-861c7afa50b7"
      },
      "outputs": [
        {
          "output_type": "stream",
          "name": "stdout",
          "text": [
            "['arik', 23, 'Ce']\n",
            "<class 'list'>\n",
            "\n",
            "0    arik\n",
            "1      23\n",
            "2      Ce\n",
            "dtype: object\n",
            "<class 'pandas.core.series.Series'>\n"
          ]
        }
      ],
      "source": [
        "#panda serisi farkli veri turlerini ayni anda icine alabilir \n",
        "#numpy almaz ayni tip seviyor o\n",
        "#numpy da index no gelir ama gorunmez burda gelir ve gorunur\n",
        "#series tek boyutlu olan\n",
        "\n",
        "\n",
        "import pandas as pd\n",
        "student =[\"arik\",23,\"Ce\"]\n",
        "print(student)\n",
        "print(type(student))\n",
        "print()\n",
        "\n",
        "ps_student =pd.Series(student)\n",
        "print(ps_student)\n",
        "print(type(ps_student))"
      ]
    },
    {
      "cell_type": "code",
      "source": [
        "#mesela burda dicteki key degerlerini panda index serisi olarak aliyor.Value larida burda sutun olark aliyor\n",
        "\n",
        "student={\n",
        "    \"name\": \"jane\",\n",
        "    \"age\": 30,\n",
        "    \"depart\":\"Ce\"\n",
        "}\n",
        "\n",
        "print(student)\n",
        "print(type(student))\n",
        "print()\n",
        "\n",
        "ps_student =pd.Series(student)\n",
        "print(ps_student)\n",
        "print(type(ps_student))\n"
      ],
      "metadata": {
        "colab": {
          "base_uri": "https://localhost:8080/"
        },
        "id": "CKg7Zdk0XCuh",
        "outputId": "ec218536-282c-4a52-8cd1-1d6bc365c1ea"
      },
      "execution_count": 3,
      "outputs": [
        {
          "output_type": "stream",
          "name": "stdout",
          "text": [
            "{'name': 'jane', 'age': 30, 'depart': 'Ce'}\n",
            "<class 'dict'>\n",
            "\n",
            "name      jane\n",
            "age         30\n",
            "depart      Ce\n",
            "dtype: object\n",
            "<class 'pandas.core.series.Series'>\n"
          ]
        }
      ]
    },
    {
      "cell_type": "code",
      "source": [
        "#kendi panda serimiz olusturalim\n",
        "student=pd.Series([\"jane\",23,\"ce\"])\n",
        "print(student)\n",
        "print(type(student))"
      ],
      "metadata": {
        "colab": {
          "base_uri": "https://localhost:8080/"
        },
        "id": "z-mjDmGTXC4i",
        "outputId": "b9673e41-d234-488a-cbb8-d0461fbe9757"
      },
      "execution_count": 5,
      "outputs": [
        {
          "output_type": "stream",
          "name": "stdout",
          "text": [
            "0    jane\n",
            "1      23\n",
            "2      ce\n",
            "dtype: object\n",
            "<class 'pandas.core.series.Series'>\n"
          ]
        }
      ]
    },
    {
      "cell_type": "code",
      "source": [
        "number=pd.Series([24,3,57,67])\n",
        "print(number)\n",
        "print(type(number))"
      ],
      "metadata": {
        "colab": {
          "base_uri": "https://localhost:8080/"
        },
        "id": "-fpmygsVXC8E",
        "outputId": "ef31810a-7c07-461a-bc7d-39cca91853dd"
      },
      "execution_count": 6,
      "outputs": [
        {
          "output_type": "stream",
          "name": "stdout",
          "text": [
            "0    24\n",
            "1     3\n",
            "2    57\n",
            "3    67\n",
            "dtype: int64\n",
            "<class 'pandas.core.series.Series'>\n"
          ]
        }
      ]
    },
    {
      "cell_type": "code",
      "source": [
        "booleans=pd.Series([True,False, True, False, False])\n",
        "print(booleans)\n",
        "print(type(booleans))"
      ],
      "metadata": {
        "colab": {
          "base_uri": "https://localhost:8080/"
        },
        "id": "p3e4xKOOYuJb",
        "outputId": "a9699473-b33e-4f7a-a355-22ff6d7d4667"
      },
      "execution_count": 7,
      "outputs": [
        {
          "output_type": "stream",
          "name": "stdout",
          "text": [
            "0     True\n",
            "1    False\n",
            "2     True\n",
            "3    False\n",
            "4    False\n",
            "dtype: bool\n",
            "<class 'pandas.core.series.Series'>\n"
          ]
        }
      ]
    },
    {
      "cell_type": "code",
      "source": [
        "student=pd.Series(data=[\"jane\",23,\"ce\"],index=[\"name\",\"age\",\"dep\"])\n",
        "\n",
        "print(student)\n",
        "print(type(student))\n",
        "\n",
        "print()\n",
        "print((student.values))\n",
        "\n",
        "print()\n",
        "print(student.index)\n",
        "\n",
        "print()\n",
        "print(student.shape)#tupple 3 elemanli\n",
        "\n",
        "print()\n",
        "print(student.ndim)# data serisi tek boyutlu\n",
        "\n",
        "print()\n",
        "print(student.size)#eleman sayisi\n",
        "student.name=\"maradonna\"\n",
        "print()\n",
        "print(student.name)\n",
        "\n",
        "print()\n",
        "print(student.dtype)\n"
      ],
      "metadata": {
        "colab": {
          "base_uri": "https://localhost:8080/"
        },
        "id": "EsPqD4VDZD2j",
        "outputId": "af23d502-8264-4ca1-cee6-81dd7deff3a2"
      },
      "execution_count": 12,
      "outputs": [
        {
          "output_type": "stream",
          "name": "stdout",
          "text": [
            "name    jane\n",
            "age       23\n",
            "dep       ce\n",
            "dtype: object\n",
            "<class 'pandas.core.series.Series'>\n",
            "\n",
            "['jane' 23 'ce']\n",
            "\n",
            "Index(['name', 'age', 'dep'], dtype='object')\n",
            "\n",
            "(3,)\n",
            "\n",
            "1\n",
            "\n",
            "3\n",
            "\n",
            "maradonna\n",
            "\n",
            "object\n"
          ]
        }
      ]
    },
    {
      "cell_type": "code",
      "source": [
        "#bir veriyi bulmaya calisialim\n",
        "\n",
        "x=\"name\" in student\n",
        "print(x)\n",
        "y=\"job\" in student\n",
        "print(y)"
      ],
      "metadata": {
        "colab": {
          "base_uri": "https://localhost:8080/"
        },
        "id": "JUFhygddZn15",
        "outputId": "c061d96b-dbb2-4267-de2c-aee893e7c5d6"
      },
      "execution_count": 14,
      "outputs": [
        {
          "output_type": "stream",
          "name": "stdout",
          "text": [
            "True\n",
            "False\n"
          ]
        }
      ]
    },
    {
      "cell_type": "code",
      "source": [
        "#degerler icnde\n",
        "x=\"jane\" in student.values\n",
        "print(x)\n",
        "y=\"arin\" in student\n",
        "print(y)\n",
        "\n"
      ],
      "metadata": {
        "colab": {
          "base_uri": "https://localhost:8080/"
        },
        "id": "hyHzHhWDeXmV",
        "outputId": "98acb9a2-0db5-4ea8-dbcc-ee0820eef070"
      },
      "execution_count": 15,
      "outputs": [
        {
          "output_type": "stream",
          "name": "stdout",
          "text": [
            "True\n",
            "False\n"
          ]
        }
      ]
    },
    {
      "cell_type": "code",
      "source": [
        "#methodalar\n",
        "numbers=pd.Series([4,2.5,2])\n",
        "print(numbers)\n",
        "print(numbers.sum())\n",
        "print(numbers.mean())\n",
        "print(numbers.product())\n",
        "print()"
      ],
      "metadata": {
        "colab": {
          "base_uri": "https://localhost:8080/"
        },
        "id": "kztvTD1UZgqt",
        "outputId": "05ad9209-d042-480f-b396-eefcdfe7d0ad"
      },
      "execution_count": 16,
      "outputs": [
        {
          "output_type": "stream",
          "name": "stdout",
          "text": [
            "0    4.0\n",
            "1    2.5\n",
            "2    2.0\n",
            "dtype: float64\n",
            "8.5\n",
            "2.8333333333333335\n",
            "20.0\n",
            "\n"
          ]
        }
      ]
    },
    {
      "cell_type": "code",
      "source": [
        ""
      ],
      "metadata": {
        "id": "bF7xen6tgZgo"
      },
      "execution_count": null,
      "outputs": []
    },
    {
      "cell_type": "code",
      "source": [
        ""
      ],
      "metadata": {
        "id": "-lRX0GMhXC_M"
      },
      "execution_count": null,
      "outputs": []
    }
  ]
}