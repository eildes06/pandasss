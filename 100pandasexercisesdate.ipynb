{
  "nbformat": 4,
  "nbformat_minor": 0,
  "metadata": {
    "colab": {
      "name": "100pandasexercisesdate.ipynb",
      "provenance": [],
      "authorship_tag": "ABX9TyNa+i1AuBS2ufhLVJNuQKkx",
      "include_colab_link": true
    },
    "kernelspec": {
      "name": "python3",
      "display_name": "Python 3"
    },
    "language_info": {
      "name": "python"
    }
  },
  "cells": [
    {
      "cell_type": "markdown",
      "metadata": {
        "id": "view-in-github",
        "colab_type": "text"
      },
      "source": [
        "<a href=\"https://colab.research.google.com/github/eildes06/pandasss/blob/main/100pandasexercisesdate.ipynb\" target=\"_parent\"><img src=\"https://colab.research.google.com/assets/colab-badge.svg\" alt=\"Open In Colab\"/></a>"
      ]
    },
    {
      "cell_type": "code",
      "source": [
        "import pandas as pd\n",
        "import numpy as np"
      ],
      "metadata": {
        "id": "5B36zOE8jz4p"
      },
      "execution_count": 1,
      "outputs": []
    },
    {
      "cell_type": "code",
      "execution_count": 2,
      "metadata": {
        "colab": {
          "base_uri": "https://localhost:8080/"
        },
        "id": "nehph3X6jtiE",
        "outputId": "431b78b9-e8a2-4de1-f3db-cb3ad2d849a7"
      },
      "outputs": [
        {
          "output_type": "execute_result",
          "data": {
            "text/plain": [
              "2015-01-01    0.679170\n",
              "2015-01-02    0.253032\n",
              "2015-01-05    0.933970\n",
              "2015-01-06    0.535768\n",
              "2015-01-07    0.298315\n",
              "                ...   \n",
              "2015-12-25    0.522595\n",
              "2015-12-28    0.021342\n",
              "2015-12-29    0.566904\n",
              "2015-12-30    0.618046\n",
              "2015-12-31    0.029204\n",
              "Freq: B, Length: 261, dtype: float64"
            ]
          },
          "metadata": {},
          "execution_count": 2
        }
      ],
      "source": [
        "dti = pd.date_range(start='2015-01-01', end='2015-12-31', freq='B')\n",
        "s = pd.Series(np.random.rand(len(dti)), index=dti)\n",
        "s"
      ]
    },
    {
      "cell_type": "code",
      "source": [
        "s[s.index.weekday==2].sum()"
      ],
      "metadata": {
        "colab": {
          "base_uri": "https://localhost:8080/"
        },
        "id": "CsfA6KeflhkM",
        "outputId": "f1928d8c-b732-4748-e5a4-71927926581d"
      },
      "execution_count": 3,
      "outputs": [
        {
          "output_type": "execute_result",
          "data": {
            "text/plain": [
              "29.2417303629409"
            ]
          },
          "metadata": {},
          "execution_count": 3
        }
      ]
    },
    {
      "cell_type": "code",
      "source": [
        "s.resample(\"M\").mean()"
      ],
      "metadata": {
        "colab": {
          "base_uri": "https://localhost:8080/"
        },
        "id": "CYoZXu3gl083",
        "outputId": "c4ff223b-f951-435a-e265-9b84e5292db7"
      },
      "execution_count": 4,
      "outputs": [
        {
          "output_type": "execute_result",
          "data": {
            "text/plain": [
              "2015-01-31    0.573776\n",
              "2015-02-28    0.595802\n",
              "2015-03-31    0.446995\n",
              "2015-04-30    0.424541\n",
              "2015-05-31    0.594288\n",
              "2015-06-30    0.579255\n",
              "2015-07-31    0.536970\n",
              "2015-08-31    0.501401\n",
              "2015-09-30    0.593462\n",
              "2015-10-31    0.594682\n",
              "2015-11-30    0.550437\n",
              "2015-12-31    0.513791\n",
              "Freq: M, dtype: float64"
            ]
          },
          "metadata": {},
          "execution_count": 4
        }
      ]
    },
    {
      "cell_type": "code",
      "source": [
        "s.groupby(pd.Grouper(freq=\"4m\")).idxmax()"
      ],
      "metadata": {
        "colab": {
          "base_uri": "https://localhost:8080/"
        },
        "id": "19UlwhOhmC7S",
        "outputId": "8d27b5bc-f584-4c6d-c48b-43db3e6b8aaa"
      },
      "execution_count": 5,
      "outputs": [
        {
          "output_type": "execute_result",
          "data": {
            "text/plain": [
              "2015-01-31   2015-01-22\n",
              "2015-05-31   2015-02-03\n",
              "2015-09-30   2015-09-08\n",
              "2016-01-31   2015-12-09\n",
              "Freq: 4M, dtype: datetime64[ns]"
            ]
          },
          "metadata": {},
          "execution_count": 5
        }
      ]
    },
    {
      "cell_type": "code",
      "source": [
        " pd.date_range('2015-01-01', '2016-12-31', freq='WOM-3THU')"
      ],
      "metadata": {
        "colab": {
          "base_uri": "https://localhost:8080/"
        },
        "id": "RIZIBne4mC4C",
        "outputId": "51ec626f-8963-4d8a-c630-a7857d718fc8"
      },
      "execution_count": 6,
      "outputs": [
        {
          "output_type": "execute_result",
          "data": {
            "text/plain": [
              "DatetimeIndex(['2015-01-15', '2015-02-19', '2015-03-19', '2015-04-16',\n",
              "               '2015-05-21', '2015-06-18', '2015-07-16', '2015-08-20',\n",
              "               '2015-09-17', '2015-10-15', '2015-11-19', '2015-12-17',\n",
              "               '2016-01-21', '2016-02-18', '2016-03-17', '2016-04-21',\n",
              "               '2016-05-19', '2016-06-16', '2016-07-21', '2016-08-18',\n",
              "               '2016-09-15', '2016-10-20', '2016-11-17', '2016-12-15'],\n",
              "              dtype='datetime64[ns]', freq='WOM-3THU')"
            ]
          },
          "metadata": {},
          "execution_count": 6
        }
      ]
    },
    {
      "cell_type": "code",
      "source": [
        ""
      ],
      "metadata": {
        "id": "DywEmAVymC0i"
      },
      "execution_count": null,
      "outputs": []
    }
  ]
}