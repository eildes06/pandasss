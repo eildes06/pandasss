{
  "cells": [
    {
      "cell_type": "markdown",
      "metadata": {
        "id": "view-in-github",
        "colab_type": "text"
      },
      "source": [
        "<a href=\"https://colab.research.google.com/github/eildes06/pandasss/blob/main/DAwPy_S4_class_notes.ipynb\" target=\"_parent\"><img src=\"https://colab.research.google.com/assets/colab-badge.svg\" alt=\"Open In Colab\"/></a>"
      ]
    },
    {
      "cell_type": "markdown",
      "id": "4e5acb64",
      "metadata": {
        "toc": true,
        "id": "4e5acb64"
      },
      "source": [
        "<h1>Table of Contents<span class=\"tocSkip\"></span></h1>\n",
        "<div class=\"toc\"><ul class=\"toc-item\"><li><span><a href=\"#Control-pandas'-display\" data-toc-modified-id=\"Control-pandas'-display-1\"><span class=\"toc-item-num\">1&nbsp;&nbsp;</span>Control pandas' display</a></span></li><li><span><a href=\"#Constructors\" data-toc-modified-id=\"Constructors-2\"><span class=\"toc-item-num\">2&nbsp;&nbsp;</span>Constructors</a></span><ul class=\"toc-item\"><li><span><a href=\"#Do-elements-exist?\" data-toc-modified-id=\"Do-elements-exist?-2.1\"><span class=\"toc-item-num\">2.1&nbsp;&nbsp;</span>Do elements exist?</a></span></li><li><span><a href=\"#Random-numbers\" data-toc-modified-id=\"Random-numbers-2.2\"><span class=\"toc-item-num\">2.2&nbsp;&nbsp;</span>Random numbers</a></span></li><li><span><a href=\"#More-indexing-and-selection\" data-toc-modified-id=\"More-indexing-and-selection-2.3\"><span class=\"toc-item-num\">2.3&nbsp;&nbsp;</span>More indexing and selection</a></span></li></ul></li><li><span><a href=\"#Adding-rows-and-columns\" data-toc-modified-id=\"Adding-rows-and-columns-3\"><span class=\"toc-item-num\">3&nbsp;&nbsp;</span>Adding rows and columns</a></span><ul class=\"toc-item\"><li><span><a href=\"#Dropping-rows-and-columns\" data-toc-modified-id=\"Dropping-rows-and-columns-3.1\"><span class=\"toc-item-num\">3.1&nbsp;&nbsp;</span>Dropping rows and columns</a></span></li></ul></li></ul></div>"
      ]
    },
    {
      "cell_type": "markdown",
      "id": "b52f3844",
      "metadata": {
        "id": "b52f3844"
      },
      "source": [
        "___\n",
        "\n",
        "<p style=\"text-align: center;\"><img src=\"https://docs.google.com/uc?id=1lY0Uj5R04yMY3-ZppPWxqCr5pvBLYPnV\" class=\"img-fluid\" alt=\"CLRSWY\"></p>\n",
        "\n",
        "___"
      ]
    },
    {
      "cell_type": "code",
      "execution_count": null,
      "id": "69cf44c8",
      "metadata": {
        "id": "69cf44c8"
      },
      "outputs": [],
      "source": [
        "# The \"usual suspects\"\n",
        "import numpy as np\n",
        "import pandas as pd"
      ]
    },
    {
      "cell_type": "markdown",
      "id": "b31d962f",
      "metadata": {
        "id": "b31d962f"
      },
      "source": [
        "# Control pandas' display"
      ]
    },
    {
      "cell_type": "code",
      "execution_count": null,
      "id": "7fab9ec7",
      "metadata": {
        "id": "7fab9ec7"
      },
      "outputs": [],
      "source": [
        "#https://pandas.pydata.org/pandas-docs/stable/user_guide/options.html\n",
        "pd.set_option('precision', 3)  #for floats  1.333333333333333333333   1.33\n",
        "pd.options.display.max_rows = 5\n",
        "pd.options.display.max_columns = 20\n",
        "# also possible to set 'context'\n"
      ]
    },
    {
      "cell_type": "markdown",
      "id": "5ca4c0e3",
      "metadata": {
        "id": "5ca4c0e3"
      },
      "source": [
        "# Constructors"
      ]
    },
    {
      "cell_type": "code",
      "execution_count": null,
      "id": "cc4a8782",
      "metadata": {
        "id": "cc4a8782",
        "outputId": "ba790207-6cc1-444d-f59a-806fef227f68"
      },
      "outputs": [
        {
          "data": {
            "text/plain": [
              "[0, 1, 2, 3, 4, 5, 6, 7, 8, 9]"
            ]
          },
          "execution_count": 5,
          "metadata": {},
          "output_type": "execute_result"
        }
      ],
      "source": [
        "data = [i for i in range(10)]\n",
        "data"
      ]
    },
    {
      "cell_type": "code",
      "execution_count": null,
      "id": "77dfa184",
      "metadata": {
        "id": "77dfa184",
        "outputId": "d90af4e2-c8bf-4c34-95cd-6072b28cb075"
      },
      "outputs": [
        {
          "data": {
            "text/html": [
              "<div>\n",
              "<style scoped>\n",
              "    .dataframe tbody tr th:only-of-type {\n",
              "        vertical-align: middle;\n",
              "    }\n",
              "\n",
              "    .dataframe tbody tr th {\n",
              "        vertical-align: top;\n",
              "    }\n",
              "\n",
              "    .dataframe thead th {\n",
              "        text-align: right;\n",
              "    }\n",
              "</style>\n",
              "<table border=\"1\" class=\"dataframe\">\n",
              "  <thead>\n",
              "    <tr style=\"text-align: right;\">\n",
              "      <th></th>\n",
              "      <th>col1</th>\n",
              "    </tr>\n",
              "  </thead>\n",
              "  <tbody>\n",
              "    <tr>\n",
              "      <th>0</th>\n",
              "      <td>0</td>\n",
              "    </tr>\n",
              "    <tr>\n",
              "      <th>1</th>\n",
              "      <td>1</td>\n",
              "    </tr>\n",
              "    <tr>\n",
              "      <th>...</th>\n",
              "      <td>...</td>\n",
              "    </tr>\n",
              "    <tr>\n",
              "      <th>8</th>\n",
              "      <td>8</td>\n",
              "    </tr>\n",
              "    <tr>\n",
              "      <th>9</th>\n",
              "      <td>9</td>\n",
              "    </tr>\n",
              "  </tbody>\n",
              "</table>\n",
              "<p>10 rows × 1 columns</p>\n",
              "</div>"
            ],
            "text/plain": [
              "    col1\n",
              "0      0\n",
              "1      1\n",
              "..   ...\n",
              "8      8\n",
              "9      9\n",
              "\n",
              "[10 rows x 1 columns]"
            ]
          },
          "execution_count": 6,
          "metadata": {},
          "output_type": "execute_result"
        }
      ],
      "source": [
        "pd.DataFrame(data, columns=['col1'])"
      ]
    },
    {
      "cell_type": "code",
      "execution_count": null,
      "id": "e0e44264",
      "metadata": {
        "id": "e0e44264",
        "outputId": "711d3d9f-3096-4f6d-ab95-bb9002ea9c08"
      },
      "outputs": [
        {
          "data": {
            "text/html": [
              "<div>\n",
              "<style scoped>\n",
              "    .dataframe tbody tr th:only-of-type {\n",
              "        vertical-align: middle;\n",
              "    }\n",
              "\n",
              "    .dataframe tbody tr th {\n",
              "        vertical-align: top;\n",
              "    }\n",
              "\n",
              "    .dataframe thead th {\n",
              "        text-align: right;\n",
              "    }\n",
              "</style>\n",
              "<table border=\"1\" class=\"dataframe\">\n",
              "  <thead>\n",
              "    <tr style=\"text-align: right;\">\n",
              "      <th></th>\n",
              "      <th>col1</th>\n",
              "    </tr>\n",
              "  </thead>\n",
              "  <tbody>\n",
              "    <tr>\n",
              "      <th>0</th>\n",
              "      <td>0</td>\n",
              "    </tr>\n",
              "    <tr>\n",
              "      <th>1</th>\n",
              "      <td>1</td>\n",
              "    </tr>\n",
              "    <tr>\n",
              "      <th>...</th>\n",
              "      <td>...</td>\n",
              "    </tr>\n",
              "    <tr>\n",
              "      <th>8</th>\n",
              "      <td>8</td>\n",
              "    </tr>\n",
              "    <tr>\n",
              "      <th>9</th>\n",
              "      <td>9</td>\n",
              "    </tr>\n",
              "  </tbody>\n",
              "</table>\n",
              "<p>10 rows × 1 columns</p>\n",
              "</div>"
            ],
            "text/plain": [
              "    col1\n",
              "0      0\n",
              "1      1\n",
              "..   ...\n",
              "8      8\n",
              "9      9\n",
              "\n",
              "[10 rows x 1 columns]"
            ]
          },
          "execution_count": 7,
          "metadata": {},
          "output_type": "execute_result"
        }
      ],
      "source": [
        "df = pd.DataFrame(data, columns=['col1'])\n",
        "df"
      ]
    },
    {
      "cell_type": "code",
      "execution_count": null,
      "id": "acf9e7ad",
      "metadata": {
        "id": "acf9e7ad",
        "outputId": "57b02617-0862-4b3e-e966-8ddeb6d11312"
      },
      "outputs": [
        {
          "data": {
            "text/plain": [
              "Index(['col1'], dtype='object')"
            ]
          },
          "execution_count": 8,
          "metadata": {},
          "output_type": "execute_result"
        }
      ],
      "source": [
        "df.columns"
      ]
    },
    {
      "cell_type": "code",
      "execution_count": null,
      "id": "be379441",
      "metadata": {
        "id": "be379441",
        "outputId": "e6817069-f8f1-499f-9118-c7382ac7d853"
      },
      "outputs": [
        {
          "data": {
            "text/plain": [
              "RangeIndex(start=0, stop=10, step=1)"
            ]
          },
          "execution_count": 9,
          "metadata": {},
          "output_type": "execute_result"
        }
      ],
      "source": [
        "df.index"
      ]
    },
    {
      "cell_type": "code",
      "execution_count": null,
      "id": "6fe0a9e1",
      "metadata": {
        "id": "6fe0a9e1",
        "outputId": "8bb6dcb7-6e6d-4586-9bd9-8967e0df07f7"
      },
      "outputs": [
        {
          "data": {
            "text/plain": [
              "array([[0],\n",
              "       [1],\n",
              "       [2],\n",
              "       [3],\n",
              "       [4],\n",
              "       [5],\n",
              "       [6],\n",
              "       [7],\n",
              "       [8],\n",
              "       [9]], dtype=int64)"
            ]
          },
          "execution_count": 10,
          "metadata": {},
          "output_type": "execute_result"
        }
      ],
      "source": [
        "df.values"
      ]
    },
    {
      "cell_type": "code",
      "execution_count": null,
      "id": "e643e9fb",
      "metadata": {
        "id": "e643e9fb",
        "outputId": "21b8f591-e25f-4863-89f2-42a0916b74e7"
      },
      "outputs": [
        {
          "data": {
            "text/html": [
              "<div>\n",
              "<style scoped>\n",
              "    .dataframe tbody tr th:only-of-type {\n",
              "        vertical-align: middle;\n",
              "    }\n",
              "\n",
              "    .dataframe tbody tr th {\n",
              "        vertical-align: top;\n",
              "    }\n",
              "\n",
              "    .dataframe thead th {\n",
              "        text-align: right;\n",
              "    }\n",
              "</style>\n",
              "<table border=\"1\" class=\"dataframe\">\n",
              "  <thead>\n",
              "    <tr style=\"text-align: right;\">\n",
              "      <th></th>\n",
              "      <th>0</th>\n",
              "    </tr>\n",
              "  </thead>\n",
              "  <tbody>\n",
              "    <tr>\n",
              "      <th>0</th>\n",
              "      <td>1</td>\n",
              "    </tr>\n",
              "    <tr>\n",
              "      <th>1</th>\n",
              "      <td>2</td>\n",
              "    </tr>\n",
              "    <tr>\n",
              "      <th>2</th>\n",
              "      <td>3</td>\n",
              "    </tr>\n",
              "    <tr>\n",
              "      <th>3</th>\n",
              "      <td>5</td>\n",
              "    </tr>\n",
              "  </tbody>\n",
              "</table>\n",
              "</div>"
            ],
            "text/plain": [
              "   0\n",
              "0  1\n",
              "1  2\n",
              "2  3\n",
              "3  5"
            ]
          },
          "execution_count": 11,
          "metadata": {},
          "output_type": "execute_result"
        }
      ],
      "source": [
        "s = set ([1, 2, 3, 3, 2, 1, 5, 3])\n",
        "pd.DataFrame(s)"
      ]
    },
    {
      "cell_type": "code",
      "execution_count": null,
      "id": "375f71a4",
      "metadata": {
        "id": "375f71a4",
        "outputId": "446bbdf6-0df9-4039-f68f-5cbf9e5798a1"
      },
      "outputs": [
        {
          "data": {
            "text/plain": [
              "array([ 2,  4,  6,  8, 10, 12, 14])"
            ]
          },
          "execution_count": 12,
          "metadata": {},
          "output_type": "execute_result"
        }
      ],
      "source": [
        "m = np.arange(2, 15, 2)\n",
        "m"
      ]
    },
    {
      "cell_type": "code",
      "execution_count": null,
      "id": "7b5129b2",
      "metadata": {
        "id": "7b5129b2"
      },
      "outputs": [],
      "source": [
        "df = pd.DataFrame(m)"
      ]
    },
    {
      "cell_type": "code",
      "execution_count": null,
      "id": "b05734eb",
      "metadata": {
        "id": "b05734eb",
        "outputId": "07bf7f38-4033-4efd-8782-8b2f9d5069ce"
      },
      "outputs": [
        {
          "data": {
            "text/html": [
              "<div>\n",
              "<style scoped>\n",
              "    .dataframe tbody tr th:only-of-type {\n",
              "        vertical-align: middle;\n",
              "    }\n",
              "\n",
              "    .dataframe tbody tr th {\n",
              "        vertical-align: top;\n",
              "    }\n",
              "\n",
              "    .dataframe thead th {\n",
              "        text-align: right;\n",
              "    }\n",
              "</style>\n",
              "<table border=\"1\" class=\"dataframe\">\n",
              "  <thead>\n",
              "    <tr style=\"text-align: right;\">\n",
              "      <th></th>\n",
              "      <th>0</th>\n",
              "    </tr>\n",
              "  </thead>\n",
              "  <tbody>\n",
              "    <tr>\n",
              "      <th>0</th>\n",
              "      <td>2</td>\n",
              "    </tr>\n",
              "    <tr>\n",
              "      <th>1</th>\n",
              "      <td>4</td>\n",
              "    </tr>\n",
              "    <tr>\n",
              "      <th>2</th>\n",
              "      <td>6</td>\n",
              "    </tr>\n",
              "    <tr>\n",
              "      <th>3</th>\n",
              "      <td>8</td>\n",
              "    </tr>\n",
              "    <tr>\n",
              "      <th>4</th>\n",
              "      <td>10</td>\n",
              "    </tr>\n",
              "  </tbody>\n",
              "</table>\n",
              "</div>"
            ],
            "text/plain": [
              "    0\n",
              "0   2\n",
              "1   4\n",
              "2   6\n",
              "3   8\n",
              "4  10"
            ]
          },
          "execution_count": 14,
          "metadata": {},
          "output_type": "execute_result"
        }
      ],
      "source": [
        "df.head()"
      ]
    },
    {
      "cell_type": "code",
      "execution_count": null,
      "id": "9ea14106",
      "metadata": {
        "id": "9ea14106",
        "outputId": "bacf033f-15c7-46a5-9953-ba3b23ab1aa4"
      },
      "outputs": [
        {
          "data": {
            "text/html": [
              "<div>\n",
              "<style scoped>\n",
              "    .dataframe tbody tr th:only-of-type {\n",
              "        vertical-align: middle;\n",
              "    }\n",
              "\n",
              "    .dataframe tbody tr th {\n",
              "        vertical-align: top;\n",
              "    }\n",
              "\n",
              "    .dataframe thead th {\n",
              "        text-align: right;\n",
              "    }\n",
              "</style>\n",
              "<table border=\"1\" class=\"dataframe\">\n",
              "  <thead>\n",
              "    <tr style=\"text-align: right;\">\n",
              "      <th></th>\n",
              "      <th>0</th>\n",
              "    </tr>\n",
              "  </thead>\n",
              "  <tbody>\n",
              "    <tr>\n",
              "      <th>5</th>\n",
              "      <td>12</td>\n",
              "    </tr>\n",
              "    <tr>\n",
              "      <th>6</th>\n",
              "      <td>14</td>\n",
              "    </tr>\n",
              "  </tbody>\n",
              "</table>\n",
              "</div>"
            ],
            "text/plain": [
              "    0\n",
              "5  12\n",
              "6  14"
            ]
          },
          "execution_count": 15,
          "metadata": {},
          "output_type": "execute_result"
        }
      ],
      "source": [
        "df.tail(2)"
      ]
    },
    {
      "cell_type": "code",
      "execution_count": null,
      "id": "897a6007",
      "metadata": {
        "id": "897a6007",
        "outputId": "3923b11a-617d-4212-f9d9-1c3d3d8d8187"
      },
      "outputs": [
        {
          "data": {
            "text/html": [
              "<div>\n",
              "<style scoped>\n",
              "    .dataframe tbody tr th:only-of-type {\n",
              "        vertical-align: middle;\n",
              "    }\n",
              "\n",
              "    .dataframe tbody tr th {\n",
              "        vertical-align: top;\n",
              "    }\n",
              "\n",
              "    .dataframe thead th {\n",
              "        text-align: right;\n",
              "    }\n",
              "</style>\n",
              "<table border=\"1\" class=\"dataframe\">\n",
              "  <thead>\n",
              "    <tr style=\"text-align: right;\">\n",
              "      <th></th>\n",
              "      <th>0</th>\n",
              "    </tr>\n",
              "  </thead>\n",
              "  <tbody>\n",
              "    <tr>\n",
              "      <th>1</th>\n",
              "      <td>4</td>\n",
              "    </tr>\n",
              "    <tr>\n",
              "      <th>0</th>\n",
              "      <td>2</td>\n",
              "    </tr>\n",
              "    <tr>\n",
              "      <th>3</th>\n",
              "      <td>8</td>\n",
              "    </tr>\n",
              "  </tbody>\n",
              "</table>\n",
              "</div>"
            ],
            "text/plain": [
              "   0\n",
              "1  4\n",
              "0  2\n",
              "3  8"
            ]
          },
          "execution_count": 16,
          "metadata": {},
          "output_type": "execute_result"
        }
      ],
      "source": [
        "df.sample(3)"
      ]
    },
    {
      "cell_type": "code",
      "execution_count": null,
      "id": "93feb868",
      "metadata": {
        "id": "93feb868"
      },
      "outputs": [],
      "source": [
        "df.columns=['my_col_name']"
      ]
    },
    {
      "cell_type": "code",
      "execution_count": null,
      "id": "9bbdc99a",
      "metadata": {
        "id": "9bbdc99a",
        "outputId": "bfda1b85-55bf-4dbb-d89e-c7640e62be6b"
      },
      "outputs": [
        {
          "data": {
            "text/html": [
              "<div>\n",
              "<style scoped>\n",
              "    .dataframe tbody tr th:only-of-type {\n",
              "        vertical-align: middle;\n",
              "    }\n",
              "\n",
              "    .dataframe tbody tr th {\n",
              "        vertical-align: top;\n",
              "    }\n",
              "\n",
              "    .dataframe thead th {\n",
              "        text-align: right;\n",
              "    }\n",
              "</style>\n",
              "<table border=\"1\" class=\"dataframe\">\n",
              "  <thead>\n",
              "    <tr style=\"text-align: right;\">\n",
              "      <th></th>\n",
              "      <th>my_col_name</th>\n",
              "    </tr>\n",
              "  </thead>\n",
              "  <tbody>\n",
              "    <tr>\n",
              "      <th>0</th>\n",
              "      <td>2</td>\n",
              "    </tr>\n",
              "    <tr>\n",
              "      <th>1</th>\n",
              "      <td>4</td>\n",
              "    </tr>\n",
              "    <tr>\n",
              "      <th>...</th>\n",
              "      <td>...</td>\n",
              "    </tr>\n",
              "    <tr>\n",
              "      <th>5</th>\n",
              "      <td>12</td>\n",
              "    </tr>\n",
              "    <tr>\n",
              "      <th>6</th>\n",
              "      <td>14</td>\n",
              "    </tr>\n",
              "  </tbody>\n",
              "</table>\n",
              "<p>7 rows × 1 columns</p>\n",
              "</div>"
            ],
            "text/plain": [
              "    my_col_name\n",
              "0             2\n",
              "1             4\n",
              "..          ...\n",
              "5            12\n",
              "6            14\n",
              "\n",
              "[7 rows x 1 columns]"
            ]
          },
          "execution_count": 18,
          "metadata": {},
          "output_type": "execute_result"
        }
      ],
      "source": [
        "df"
      ]
    },
    {
      "cell_type": "code",
      "execution_count": null,
      "id": "6d20735a",
      "metadata": {
        "id": "6d20735a",
        "outputId": "aaed5ce0-0c89-43a8-ad2b-15565c74949a"
      },
      "outputs": [
        {
          "data": {
            "text/plain": [
              "(7, 1)"
            ]
          },
          "execution_count": 19,
          "metadata": {},
          "output_type": "execute_result"
        }
      ],
      "source": [
        "df.shape"
      ]
    },
    {
      "cell_type": "code",
      "execution_count": null,
      "id": "3ee9ef27",
      "metadata": {
        "id": "3ee9ef27"
      },
      "outputs": [],
      "source": [
        "# random.randn   df.sample"
      ]
    },
    {
      "cell_type": "code",
      "execution_count": null,
      "id": "42926f0d",
      "metadata": {
        "id": "42926f0d"
      },
      "outputs": [],
      "source": [
        ""
      ]
    },
    {
      "cell_type": "code",
      "execution_count": null,
      "id": "5614048a",
      "metadata": {
        "id": "5614048a"
      },
      "outputs": [],
      "source": [
        "s1 = np.random.randint(2,10, size = 4)\n",
        "s2 = np.random.randint(3,10, size = 4)\n",
        "s3 = np.random.randint(4,15, size = 4)"
      ]
    },
    {
      "cell_type": "code",
      "execution_count": null,
      "id": "14ed5749",
      "metadata": {
        "id": "14ed5749",
        "outputId": "4ec8e28a-43e4-4672-fee7-4fbb787142ba"
      },
      "outputs": [
        {
          "data": {
            "text/html": [
              "<div>\n",
              "<style scoped>\n",
              "    .dataframe tbody tr th:only-of-type {\n",
              "        vertical-align: middle;\n",
              "    }\n",
              "\n",
              "    .dataframe tbody tr th {\n",
              "        vertical-align: top;\n",
              "    }\n",
              "\n",
              "    .dataframe thead th {\n",
              "        text-align: right;\n",
              "    }\n",
              "</style>\n",
              "<table border=\"1\" class=\"dataframe\">\n",
              "  <thead>\n",
              "    <tr style=\"text-align: right;\">\n",
              "      <th></th>\n",
              "      <th>var1</th>\n",
              "      <th>var2</th>\n",
              "      <th>var3</th>\n",
              "    </tr>\n",
              "  </thead>\n",
              "  <tbody>\n",
              "    <tr>\n",
              "      <th>0</th>\n",
              "      <td>6</td>\n",
              "      <td>7</td>\n",
              "      <td>12</td>\n",
              "    </tr>\n",
              "    <tr>\n",
              "      <th>1</th>\n",
              "      <td>6</td>\n",
              "      <td>6</td>\n",
              "      <td>12</td>\n",
              "    </tr>\n",
              "    <tr>\n",
              "      <th>2</th>\n",
              "      <td>2</td>\n",
              "      <td>6</td>\n",
              "      <td>14</td>\n",
              "    </tr>\n",
              "    <tr>\n",
              "      <th>3</th>\n",
              "      <td>7</td>\n",
              "      <td>4</td>\n",
              "      <td>13</td>\n",
              "    </tr>\n",
              "  </tbody>\n",
              "</table>\n",
              "</div>"
            ],
            "text/plain": [
              "   var1  var2  var3\n",
              "0     6     7    12\n",
              "1     6     6    12\n",
              "2     2     6    14\n",
              "3     7     4    13"
            ]
          },
          "execution_count": 22,
          "metadata": {},
          "output_type": "execute_result"
        }
      ],
      "source": [
        "myDict= {'var1':s1,'var2':s2,'var3':s3}\n",
        "df = pd.DataFrame(myDict)  #keys-> cols   #values - >values\n",
        "df"
      ]
    },
    {
      "cell_type": "code",
      "execution_count": null,
      "id": "2146e39e",
      "metadata": {
        "id": "2146e39e",
        "outputId": "977e2748-7dd9-4a42-9821-10ccf390000c"
      },
      "outputs": [
        {
          "data": {
            "text/plain": [
              "Index(['var1', 'var2', 'var3'], dtype='object')"
            ]
          },
          "execution_count": 23,
          "metadata": {},
          "output_type": "execute_result"
        }
      ],
      "source": [
        "df.columns"
      ]
    },
    {
      "cell_type": "code",
      "execution_count": null,
      "id": "f4df036e",
      "metadata": {
        "id": "f4df036e",
        "outputId": "f0e03db5-3d3f-4fe3-e422-90d8e62d3445"
      },
      "outputs": [
        {
          "data": {
            "text/plain": [
              "RangeIndex(start=0, stop=4, step=1)"
            ]
          },
          "execution_count": 24,
          "metadata": {},
          "output_type": "execute_result"
        }
      ],
      "source": [
        "df.index"
      ]
    },
    {
      "cell_type": "code",
      "execution_count": null,
      "id": "ad3bab16",
      "metadata": {
        "id": "ad3bab16",
        "outputId": "92669832-c127-46ba-8407-ff376c16c939"
      },
      "outputs": [
        {
          "data": {
            "text/html": [
              "<div>\n",
              "<style scoped>\n",
              "    .dataframe tbody tr th:only-of-type {\n",
              "        vertical-align: middle;\n",
              "    }\n",
              "\n",
              "    .dataframe tbody tr th {\n",
              "        vertical-align: top;\n",
              "    }\n",
              "\n",
              "    .dataframe thead th {\n",
              "        text-align: right;\n",
              "    }\n",
              "</style>\n",
              "<table border=\"1\" class=\"dataframe\">\n",
              "  <thead>\n",
              "    <tr style=\"text-align: right;\">\n",
              "      <th></th>\n",
              "      <th>var1</th>\n",
              "      <th>var2</th>\n",
              "      <th>var3</th>\n",
              "    </tr>\n",
              "  </thead>\n",
              "  <tbody>\n",
              "    <tr>\n",
              "      <th>a</th>\n",
              "      <td>6</td>\n",
              "      <td>7</td>\n",
              "      <td>12</td>\n",
              "    </tr>\n",
              "    <tr>\n",
              "      <th>b</th>\n",
              "      <td>6</td>\n",
              "      <td>6</td>\n",
              "      <td>12</td>\n",
              "    </tr>\n",
              "    <tr>\n",
              "      <th>c</th>\n",
              "      <td>2</td>\n",
              "      <td>6</td>\n",
              "      <td>14</td>\n",
              "    </tr>\n",
              "    <tr>\n",
              "      <th>d</th>\n",
              "      <td>7</td>\n",
              "      <td>4</td>\n",
              "      <td>13</td>\n",
              "    </tr>\n",
              "  </tbody>\n",
              "</table>\n",
              "</div>"
            ],
            "text/plain": [
              "   var1  var2  var3\n",
              "a     6     7    12\n",
              "b     6     6    12\n",
              "c     2     6    14\n",
              "d     7     4    13"
            ]
          },
          "execution_count": 25,
          "metadata": {},
          "output_type": "execute_result"
        }
      ],
      "source": [
        "df.index = ['a', 'b', 'c', 'd']\n",
        "df"
      ]
    },
    {
      "cell_type": "markdown",
      "id": "d99e43ba",
      "metadata": {
        "id": "d99e43ba"
      },
      "source": [
        "##  Do elements exist?"
      ]
    },
    {
      "cell_type": "code",
      "execution_count": null,
      "id": "5fb8c3ac",
      "metadata": {
        "id": "5fb8c3ac",
        "outputId": "842b34ca-84a2-4512-8868-c0c0f7e636d2"
      },
      "outputs": [
        {
          "data": {
            "text/plain": [
              "True"
            ]
          },
          "execution_count": 26,
          "metadata": {},
          "output_type": "execute_result"
        }
      ],
      "source": [
        "'a' in {'a':1, 'b': 2}"
      ]
    },
    {
      "cell_type": "code",
      "execution_count": null,
      "id": "21a75f25",
      "metadata": {
        "id": "21a75f25",
        "outputId": "e19c58e7-21fb-4b36-cf50-d17ab2d32d14"
      },
      "outputs": [
        {
          "data": {
            "text/plain": [
              "True"
            ]
          },
          "execution_count": 27,
          "metadata": {},
          "output_type": "execute_result"
        }
      ],
      "source": [
        "'var1' in df"
      ]
    },
    {
      "cell_type": "code",
      "execution_count": null,
      "id": "9df6325b",
      "metadata": {
        "id": "9df6325b",
        "outputId": "412b9eaf-9801-42c6-9c4f-68d2c07eaceb"
      },
      "outputs": [
        {
          "data": {
            "text/plain": [
              "array([ True, False, False, False])"
            ]
          },
          "execution_count": 28,
          "metadata": {},
          "output_type": "execute_result"
        }
      ],
      "source": [
        "df.index.isin( [ 'a'  ]   )"
      ]
    },
    {
      "cell_type": "code",
      "execution_count": null,
      "id": "f490811d",
      "metadata": {
        "id": "f490811d",
        "outputId": "b65da928-0c38-4e61-d190-a11c846ef267"
      },
      "outputs": [
        {
          "data": {
            "text/plain": [
              "array([ True,  True, False, False])"
            ]
          },
          "execution_count": 29,
          "metadata": {},
          "output_type": "execute_result"
        }
      ],
      "source": [
        "df.index.isin( [ 'a', 'b'  ]   )"
      ]
    },
    {
      "cell_type": "code",
      "execution_count": null,
      "id": "328b893d",
      "metadata": {
        "id": "328b893d"
      },
      "outputs": [],
      "source": [
        "filterx = df.index.isin( [ 'a', 'b'  ]   )"
      ]
    },
    {
      "cell_type": "code",
      "execution_count": null,
      "id": "c5645304",
      "metadata": {
        "id": "c5645304",
        "outputId": "87e70a19-4e67-42e8-c59d-3b4409691c0c"
      },
      "outputs": [
        {
          "data": {
            "text/plain": [
              "Index(['a', 'b'], dtype='object')"
            ]
          },
          "execution_count": 31,
          "metadata": {},
          "output_type": "execute_result"
        }
      ],
      "source": [
        "df.index[filterx]"
      ]
    },
    {
      "cell_type": "markdown",
      "id": "13e4f9f8",
      "metadata": {
        "id": "13e4f9f8"
      },
      "source": [
        "## Random numbers"
      ]
    },
    {
      "cell_type": "code",
      "execution_count": null,
      "id": "48bf77bd",
      "metadata": {
        "id": "48bf77bd"
      },
      "outputs": [],
      "source": [
        "# random.seed() provides a clean start point\n",
        "from numpy.random import randn\n",
        "\n",
        "SEED = 100\n",
        "np.random.seed(SEED)"
      ]
    },
    {
      "cell_type": "code",
      "execution_count": null,
      "id": "beb4f05c",
      "metadata": {
        "id": "beb4f05c",
        "outputId": "23a0475e-7a5f-4e18-befc-aee435cca8bf"
      },
      "outputs": [
        {
          "data": {
            "text/plain": [
              "array([-1.74976547,  0.3426804 ,  1.1530358 ])"
            ]
          },
          "execution_count": 39,
          "metadata": {},
          "output_type": "execute_result"
        }
      ],
      "source": [
        "np.random.randn(3)"
      ]
    },
    {
      "cell_type": "code",
      "execution_count": null,
      "id": "ebafa2bb",
      "metadata": {
        "id": "ebafa2bb",
        "outputId": "5d47f6f6-54c4-4c6f-83b8-f23032902b59"
      },
      "outputs": [
        {
          "data": {
            "text/plain": [
              "array([-0.25243604,  0.98132079,  0.51421884])"
            ]
          },
          "execution_count": 40,
          "metadata": {},
          "output_type": "execute_result"
        }
      ],
      "source": [
        "np.random.randn(3)"
      ]
    },
    {
      "cell_type": "code",
      "execution_count": null,
      "id": "8de80da1",
      "metadata": {
        "id": "8de80da1",
        "outputId": "fe0179fc-63bb-417a-d227-7acb829fbf35"
      },
      "outputs": [
        {
          "data": {
            "text/plain": [
              "array([-1.74976547,  0.3426804 ,  1.1530358 ])"
            ]
          },
          "execution_count": 41,
          "metadata": {},
          "output_type": "execute_result"
        }
      ],
      "source": [
        "np.random.seed(SEED)\n",
        "np.random.randn(3)"
      ]
    },
    {
      "cell_type": "code",
      "execution_count": null,
      "id": "9489fe39",
      "metadata": {
        "scrolled": true,
        "id": "9489fe39",
        "outputId": "480dffb4-33c8-4c38-ca4f-fceb4d8cf89a"
      },
      "outputs": [
        {
          "data": {
            "text/plain": [
              "array([ 0.22117967, -1.07004333, -0.18949583])"
            ]
          },
          "execution_count": 37,
          "metadata": {},
          "output_type": "execute_result"
        }
      ],
      "source": [
        "import numpy as np\n",
        "np.random.randn(3)\n"
      ]
    },
    {
      "cell_type": "markdown",
      "id": "69fecba8",
      "metadata": {
        "id": "69fecba8"
      },
      "source": [
        "## More indexing and selection"
      ]
    },
    {
      "cell_type": "code",
      "execution_count": null,
      "id": "fe6319c7",
      "metadata": {
        "id": "fe6319c7"
      },
      "outputs": [],
      "source": [
        "#namespace  {names: objects}    {'print':  <function print>, 'dir': <function dir}"
      ]
    },
    {
      "cell_type": "code",
      "execution_count": null,
      "id": "102a4209",
      "metadata": {
        "id": "102a4209"
      },
      "outputs": [],
      "source": [
        "import pandas   # --> pandas: <library pandas>\n",
        "import pandas as pd  #  --> 'pd': <library pandas>"
      ]
    },
    {
      "cell_type": "code",
      "execution_count": null,
      "id": "b777ad36",
      "metadata": {
        "id": "b777ad36"
      },
      "outputs": [],
      "source": [
        "df = df = pd.DataFrame(randn(5,4), index = 'A B C D E'.split(), columns = 'W X Y Z'.split())\n",
        "df"
      ]
    },
    {
      "cell_type": "code",
      "execution_count": null,
      "id": "462fb1db",
      "metadata": {
        "id": "462fb1db"
      },
      "outputs": [],
      "source": [
        "df['Y']"
      ]
    },
    {
      "cell_type": "code",
      "execution_count": null,
      "id": "b357e32c",
      "metadata": {
        "scrolled": true,
        "id": "b357e32c"
      },
      "outputs": [],
      "source": [
        "df.Y  #SQL Syntax  'Y', 'Y_col' works  'Y col' does not"
      ]
    },
    {
      "cell_type": "code",
      "execution_count": null,
      "id": "e26806ef",
      "metadata": {
        "id": "e26806ef"
      },
      "outputs": [],
      "source": [
        "df.columns[2]"
      ]
    },
    {
      "cell_type": "code",
      "execution_count": null,
      "id": "79060fb9",
      "metadata": {
        "id": "79060fb9"
      },
      "outputs": [],
      "source": [
        "df [ df.columns[2]  ]\n",
        "#type( df [ df.columns[2]  ])"
      ]
    },
    {
      "cell_type": "code",
      "execution_count": null,
      "id": "0c6bf9f4",
      "metadata": {
        "id": "0c6bf9f4"
      },
      "outputs": [],
      "source": [
        "## extract a DataFrame\n",
        "\n",
        "df [  ['Y']    ]"
      ]
    },
    {
      "cell_type": "code",
      "execution_count": null,
      "id": "2f03f760",
      "metadata": {
        "id": "2f03f760"
      },
      "outputs": [],
      "source": [
        "df = pd.DataFrame(np.random.randn(5,4), index = 'A B C D E'.split(), columns = 'W X Y Z'.split())"
      ]
    },
    {
      "cell_type": "code",
      "execution_count": null,
      "id": "0b145170",
      "metadata": {
        "id": "0b145170",
        "outputId": "29f49c58-1605-46af-e245-b6e7f99029f5"
      },
      "outputs": [
        {
          "data": {
            "text/html": [
              "<div>\n",
              "<style scoped>\n",
              "    .dataframe tbody tr th:only-of-type {\n",
              "        vertical-align: middle;\n",
              "    }\n",
              "\n",
              "    .dataframe tbody tr th {\n",
              "        vertical-align: top;\n",
              "    }\n",
              "\n",
              "    .dataframe thead th {\n",
              "        text-align: right;\n",
              "    }\n",
              "</style>\n",
              "<table border=\"1\" class=\"dataframe\">\n",
              "  <thead>\n",
              "    <tr style=\"text-align: right;\">\n",
              "      <th></th>\n",
              "      <th>W</th>\n",
              "      <th>X</th>\n",
              "      <th>Y</th>\n",
              "      <th>Z</th>\n",
              "    </tr>\n",
              "  </thead>\n",
              "  <tbody>\n",
              "    <tr>\n",
              "      <th>A</th>\n",
              "      <td>-0.252</td>\n",
              "      <td>0.981</td>\n",
              "      <td>0.514</td>\n",
              "      <td>0.221</td>\n",
              "    </tr>\n",
              "    <tr>\n",
              "      <th>B</th>\n",
              "      <td>-1.070</td>\n",
              "      <td>-0.189</td>\n",
              "      <td>0.255</td>\n",
              "      <td>-0.458</td>\n",
              "    </tr>\n",
              "    <tr>\n",
              "      <th>C</th>\n",
              "      <td>0.435</td>\n",
              "      <td>-0.584</td>\n",
              "      <td>0.817</td>\n",
              "      <td>0.673</td>\n",
              "    </tr>\n",
              "    <tr>\n",
              "      <th>D</th>\n",
              "      <td>-0.104</td>\n",
              "      <td>-0.531</td>\n",
              "      <td>1.030</td>\n",
              "      <td>-0.438</td>\n",
              "    </tr>\n",
              "    <tr>\n",
              "      <th>E</th>\n",
              "      <td>-1.118</td>\n",
              "      <td>1.619</td>\n",
              "      <td>1.542</td>\n",
              "      <td>-0.252</td>\n",
              "    </tr>\n",
              "  </tbody>\n",
              "</table>\n",
              "</div>"
            ],
            "text/plain": [
              "       W      X      Y      Z\n",
              "A -0.252  0.981  0.514  0.221\n",
              "B -1.070 -0.189  0.255 -0.458\n",
              "C  0.435 -0.584  0.817  0.673\n",
              "D -0.104 -0.531  1.030 -0.438\n",
              "E -1.118  1.619  1.542 -0.252"
            ]
          },
          "execution_count": 44,
          "metadata": {},
          "output_type": "execute_result"
        }
      ],
      "source": [
        "df"
      ]
    },
    {
      "cell_type": "code",
      "execution_count": null,
      "id": "37e5f740",
      "metadata": {
        "id": "37e5f740",
        "outputId": "739186e1-402f-40c9-8207-f27e7235991c"
      },
      "outputs": [
        {
          "data": {
            "text/html": [
              "<div>\n",
              "<style scoped>\n",
              "    .dataframe tbody tr th:only-of-type {\n",
              "        vertical-align: middle;\n",
              "    }\n",
              "\n",
              "    .dataframe tbody tr th {\n",
              "        vertical-align: top;\n",
              "    }\n",
              "\n",
              "    .dataframe thead th {\n",
              "        text-align: right;\n",
              "    }\n",
              "</style>\n",
              "<table border=\"1\" class=\"dataframe\">\n",
              "  <thead>\n",
              "    <tr style=\"text-align: right;\">\n",
              "      <th></th>\n",
              "      <th>Y</th>\n",
              "      <th>W</th>\n",
              "      <th>Y</th>\n",
              "    </tr>\n",
              "  </thead>\n",
              "  <tbody>\n",
              "    <tr>\n",
              "      <th>A</th>\n",
              "      <td>0.514</td>\n",
              "      <td>-0.252</td>\n",
              "      <td>0.514</td>\n",
              "    </tr>\n",
              "    <tr>\n",
              "      <th>B</th>\n",
              "      <td>0.255</td>\n",
              "      <td>-1.070</td>\n",
              "      <td>0.255</td>\n",
              "    </tr>\n",
              "    <tr>\n",
              "      <th>C</th>\n",
              "      <td>0.817</td>\n",
              "      <td>0.435</td>\n",
              "      <td>0.817</td>\n",
              "    </tr>\n",
              "    <tr>\n",
              "      <th>D</th>\n",
              "      <td>1.030</td>\n",
              "      <td>-0.104</td>\n",
              "      <td>1.030</td>\n",
              "    </tr>\n",
              "    <tr>\n",
              "      <th>E</th>\n",
              "      <td>1.542</td>\n",
              "      <td>-1.118</td>\n",
              "      <td>1.542</td>\n",
              "    </tr>\n",
              "  </tbody>\n",
              "</table>\n",
              "</div>"
            ],
            "text/plain": [
              "       Y      W      Y\n",
              "A  0.514 -0.252  0.514\n",
              "B  0.255 -1.070  0.255\n",
              "C  0.817  0.435  0.817\n",
              "D  1.030 -0.104  1.030\n",
              "E  1.542 -1.118  1.542"
            ]
          },
          "execution_count": 45,
          "metadata": {},
          "output_type": "execute_result"
        }
      ],
      "source": [
        "df [  ['Y', 'W', 'Y']    ]   #  df ['Y' ]"
      ]
    },
    {
      "cell_type": "code",
      "execution_count": null,
      "id": "e7605950",
      "metadata": {
        "id": "e7605950",
        "outputId": "3b689c69-8900-4669-caf6-47133dd73c4a"
      },
      "outputs": [
        {
          "data": {
            "text/html": [
              "<div>\n",
              "<style scoped>\n",
              "    .dataframe tbody tr th:only-of-type {\n",
              "        vertical-align: middle;\n",
              "    }\n",
              "\n",
              "    .dataframe tbody tr th {\n",
              "        vertical-align: top;\n",
              "    }\n",
              "\n",
              "    .dataframe thead th {\n",
              "        text-align: right;\n",
              "    }\n",
              "</style>\n",
              "<table border=\"1\" class=\"dataframe\">\n",
              "  <thead>\n",
              "    <tr style=\"text-align: right;\">\n",
              "      <th></th>\n",
              "      <th>W</th>\n",
              "      <th>X</th>\n",
              "      <th>Y</th>\n",
              "      <th>Z</th>\n",
              "    </tr>\n",
              "  </thead>\n",
              "  <tbody>\n",
              "    <tr>\n",
              "      <th>A</th>\n",
              "      <td>-0.252</td>\n",
              "      <td>0.981</td>\n",
              "      <td>0.514</td>\n",
              "      <td>0.221</td>\n",
              "    </tr>\n",
              "    <tr>\n",
              "      <th>B</th>\n",
              "      <td>-1.070</td>\n",
              "      <td>-0.189</td>\n",
              "      <td>0.255</td>\n",
              "      <td>-0.458</td>\n",
              "    </tr>\n",
              "    <tr>\n",
              "      <th>C</th>\n",
              "      <td>0.435</td>\n",
              "      <td>-0.584</td>\n",
              "      <td>0.817</td>\n",
              "      <td>0.673</td>\n",
              "    </tr>\n",
              "  </tbody>\n",
              "</table>\n",
              "</div>"
            ],
            "text/plain": [
              "       W      X      Y      Z\n",
              "A -0.252  0.981  0.514  0.221\n",
              "B -1.070 -0.189  0.255 -0.458\n",
              "C  0.435 -0.584  0.817  0.673"
            ]
          },
          "execution_count": 46,
          "metadata": {},
          "output_type": "execute_result"
        }
      ],
      "source": [
        "df [ \"A\":\"C\"  ]"
      ]
    },
    {
      "cell_type": "code",
      "execution_count": null,
      "id": "e0afea0b",
      "metadata": {
        "id": "e0afea0b",
        "outputId": "9071c7cf-27df-481f-f7d4-1e03def9aff1"
      },
      "outputs": [
        {
          "data": {
            "text/html": [
              "<div>\n",
              "<style scoped>\n",
              "    .dataframe tbody tr th:only-of-type {\n",
              "        vertical-align: middle;\n",
              "    }\n",
              "\n",
              "    .dataframe tbody tr th {\n",
              "        vertical-align: top;\n",
              "    }\n",
              "\n",
              "    .dataframe thead th {\n",
              "        text-align: right;\n",
              "    }\n",
              "</style>\n",
              "<table border=\"1\" class=\"dataframe\">\n",
              "  <thead>\n",
              "    <tr style=\"text-align: right;\">\n",
              "      <th></th>\n",
              "      <th>Y</th>\n",
              "      <th>Z</th>\n",
              "    </tr>\n",
              "  </thead>\n",
              "  <tbody>\n",
              "    <tr>\n",
              "      <th>A</th>\n",
              "      <td>0.514</td>\n",
              "      <td>0.221</td>\n",
              "    </tr>\n",
              "    <tr>\n",
              "      <th>B</th>\n",
              "      <td>0.255</td>\n",
              "      <td>-0.458</td>\n",
              "    </tr>\n",
              "    <tr>\n",
              "      <th>C</th>\n",
              "      <td>0.817</td>\n",
              "      <td>0.673</td>\n",
              "    </tr>\n",
              "    <tr>\n",
              "      <th>D</th>\n",
              "      <td>1.030</td>\n",
              "      <td>-0.438</td>\n",
              "    </tr>\n",
              "    <tr>\n",
              "      <th>E</th>\n",
              "      <td>1.542</td>\n",
              "      <td>-0.252</td>\n",
              "    </tr>\n",
              "  </tbody>\n",
              "</table>\n",
              "</div>"
            ],
            "text/plain": [
              "       Y      Z\n",
              "A  0.514  0.221\n",
              "B  0.255 -0.458\n",
              "C  0.817  0.673\n",
              "D  1.030 -0.438\n",
              "E  1.542 -0.252"
            ]
          },
          "execution_count": 47,
          "metadata": {},
          "output_type": "execute_result"
        }
      ],
      "source": [
        "df.loc[:  , 'Y':'Z']"
      ]
    },
    {
      "cell_type": "code",
      "execution_count": null,
      "id": "d0e91b5c",
      "metadata": {
        "id": "d0e91b5c"
      },
      "outputs": [],
      "source": [
        "# loc = locate based one index names   (A, B, C ... W X Y Z)\n",
        "# iloc = (index locate) based the numpy indices  (0, 1, 2, 3 ... )"
      ]
    },
    {
      "cell_type": "code",
      "execution_count": null,
      "id": "da5d961d",
      "metadata": {
        "id": "da5d961d",
        "outputId": "9b46e151-ad63-4f84-fca3-c76f7bdf30de"
      },
      "outputs": [
        {
          "data": {
            "text/html": [
              "<div>\n",
              "<style scoped>\n",
              "    .dataframe tbody tr th:only-of-type {\n",
              "        vertical-align: middle;\n",
              "    }\n",
              "\n",
              "    .dataframe tbody tr th {\n",
              "        vertical-align: top;\n",
              "    }\n",
              "\n",
              "    .dataframe thead th {\n",
              "        text-align: right;\n",
              "    }\n",
              "</style>\n",
              "<table border=\"1\" class=\"dataframe\">\n",
              "  <thead>\n",
              "    <tr style=\"text-align: right;\">\n",
              "      <th></th>\n",
              "      <th>Y</th>\n",
              "      <th>Z</th>\n",
              "    </tr>\n",
              "  </thead>\n",
              "  <tbody>\n",
              "    <tr>\n",
              "      <th>A</th>\n",
              "      <td>0.514</td>\n",
              "      <td>0.221</td>\n",
              "    </tr>\n",
              "    <tr>\n",
              "      <th>B</th>\n",
              "      <td>0.255</td>\n",
              "      <td>-0.458</td>\n",
              "    </tr>\n",
              "    <tr>\n",
              "      <th>C</th>\n",
              "      <td>0.817</td>\n",
              "      <td>0.673</td>\n",
              "    </tr>\n",
              "    <tr>\n",
              "      <th>D</th>\n",
              "      <td>1.030</td>\n",
              "      <td>-0.438</td>\n",
              "    </tr>\n",
              "    <tr>\n",
              "      <th>E</th>\n",
              "      <td>1.542</td>\n",
              "      <td>-0.252</td>\n",
              "    </tr>\n",
              "  </tbody>\n",
              "</table>\n",
              "</div>"
            ],
            "text/plain": [
              "       Y      Z\n",
              "A  0.514  0.221\n",
              "B  0.255 -0.458\n",
              "C  0.817  0.673\n",
              "D  1.030 -0.438\n",
              "E  1.542 -0.252"
            ]
          },
          "execution_count": 48,
          "metadata": {},
          "output_type": "execute_result"
        }
      ],
      "source": [
        "df.loc[:  , 'Y': 'Z']"
      ]
    },
    {
      "cell_type": "code",
      "execution_count": null,
      "id": "c1394dc6",
      "metadata": {
        "id": "c1394dc6",
        "outputId": "cdab8b11-9bc7-43f1-b9a5-ee04d9243e01"
      },
      "outputs": [
        {
          "data": {
            "text/html": [
              "<div>\n",
              "<style scoped>\n",
              "    .dataframe tbody tr th:only-of-type {\n",
              "        vertical-align: middle;\n",
              "    }\n",
              "\n",
              "    .dataframe tbody tr th {\n",
              "        vertical-align: top;\n",
              "    }\n",
              "\n",
              "    .dataframe thead th {\n",
              "        text-align: right;\n",
              "    }\n",
              "</style>\n",
              "<table border=\"1\" class=\"dataframe\">\n",
              "  <thead>\n",
              "    <tr style=\"text-align: right;\">\n",
              "      <th></th>\n",
              "      <th>Y</th>\n",
              "      <th>Z</th>\n",
              "    </tr>\n",
              "  </thead>\n",
              "  <tbody>\n",
              "    <tr>\n",
              "      <th>A</th>\n",
              "      <td>0.514</td>\n",
              "      <td>0.221</td>\n",
              "    </tr>\n",
              "    <tr>\n",
              "      <th>B</th>\n",
              "      <td>0.255</td>\n",
              "      <td>-0.458</td>\n",
              "    </tr>\n",
              "  </tbody>\n",
              "</table>\n",
              "</div>"
            ],
            "text/plain": [
              "       Y      Z\n",
              "A  0.514  0.221\n",
              "B  0.255 -0.458"
            ]
          },
          "execution_count": 55,
          "metadata": {},
          "output_type": "execute_result"
        }
      ],
      "source": [
        "df.loc [  ['A', 'B'], [\"Y\", \"Z\"] ]"
      ]
    },
    {
      "cell_type": "code",
      "execution_count": null,
      "id": "7c23d765",
      "metadata": {
        "id": "7c23d765",
        "outputId": "afb418be-5de8-4fd9-e22d-b1931f5a3b3c"
      },
      "outputs": [
        {
          "data": {
            "text/html": [
              "<div>\n",
              "<style scoped>\n",
              "    .dataframe tbody tr th:only-of-type {\n",
              "        vertical-align: middle;\n",
              "    }\n",
              "\n",
              "    .dataframe tbody tr th {\n",
              "        vertical-align: top;\n",
              "    }\n",
              "\n",
              "    .dataframe thead th {\n",
              "        text-align: right;\n",
              "    }\n",
              "</style>\n",
              "<table border=\"1\" class=\"dataframe\">\n",
              "  <thead>\n",
              "    <tr style=\"text-align: right;\">\n",
              "      <th></th>\n",
              "      <th>Y</th>\n",
              "    </tr>\n",
              "  </thead>\n",
              "  <tbody>\n",
              "    <tr>\n",
              "      <th>B</th>\n",
              "      <td>0.255</td>\n",
              "    </tr>\n",
              "    <tr>\n",
              "      <th>C</th>\n",
              "      <td>0.817</td>\n",
              "    </tr>\n",
              "  </tbody>\n",
              "</table>\n",
              "</div>"
            ],
            "text/plain": [
              "       Y\n",
              "B  0.255\n",
              "C  0.817"
            ]
          },
          "execution_count": 56,
          "metadata": {},
          "output_type": "execute_result"
        }
      ],
      "source": [
        "df.iloc[1:3 ,2:3 ]"
      ]
    },
    {
      "cell_type": "code",
      "execution_count": null,
      "id": "3256bcde",
      "metadata": {
        "id": "3256bcde",
        "outputId": "eb1f4e8f-67fa-47c4-da1d-529b3919916b"
      },
      "outputs": [
        {
          "data": {
            "text/plain": [
              "Index(['W', 'X', 'Y', 'Z'], dtype='object')"
            ]
          },
          "execution_count": 58,
          "metadata": {},
          "output_type": "execute_result"
        }
      ],
      "source": [
        "df.columns"
      ]
    },
    {
      "cell_type": "code",
      "execution_count": null,
      "id": "5773586f",
      "metadata": {
        "id": "5773586f"
      },
      "outputs": [],
      "source": [
        "name_of_last = list(df.columns)[-1]"
      ]
    },
    {
      "cell_type": "code",
      "execution_count": null,
      "id": "7145295f",
      "metadata": {
        "id": "7145295f",
        "outputId": "b2350857-a2cc-4d80-c068-8c06413dbef1"
      },
      "outputs": [
        {
          "data": {
            "text/html": [
              "<div>\n",
              "<style scoped>\n",
              "    .dataframe tbody tr th:only-of-type {\n",
              "        vertical-align: middle;\n",
              "    }\n",
              "\n",
              "    .dataframe tbody tr th {\n",
              "        vertical-align: top;\n",
              "    }\n",
              "\n",
              "    .dataframe thead th {\n",
              "        text-align: right;\n",
              "    }\n",
              "</style>\n",
              "<table border=\"1\" class=\"dataframe\">\n",
              "  <thead>\n",
              "    <tr style=\"text-align: right;\">\n",
              "      <th></th>\n",
              "      <th>W</th>\n",
              "      <th>X</th>\n",
              "      <th>Y</th>\n",
              "      <th>Z</th>\n",
              "    </tr>\n",
              "  </thead>\n",
              "  <tbody>\n",
              "    <tr>\n",
              "      <th>A</th>\n",
              "      <td>-0.252</td>\n",
              "      <td>0.981</td>\n",
              "      <td>0.514</td>\n",
              "      <td>0.221</td>\n",
              "    </tr>\n",
              "    <tr>\n",
              "      <th>B</th>\n",
              "      <td>-1.070</td>\n",
              "      <td>-0.189</td>\n",
              "      <td>0.255</td>\n",
              "      <td>-0.458</td>\n",
              "    </tr>\n",
              "    <tr>\n",
              "      <th>C</th>\n",
              "      <td>0.435</td>\n",
              "      <td>-0.584</td>\n",
              "      <td>0.817</td>\n",
              "      <td>0.673</td>\n",
              "    </tr>\n",
              "    <tr>\n",
              "      <th>D</th>\n",
              "      <td>-0.104</td>\n",
              "      <td>-0.531</td>\n",
              "      <td>1.030</td>\n",
              "      <td>-0.438</td>\n",
              "    </tr>\n",
              "    <tr>\n",
              "      <th>E</th>\n",
              "      <td>-1.118</td>\n",
              "      <td>1.619</td>\n",
              "      <td>1.542</td>\n",
              "      <td>-0.252</td>\n",
              "    </tr>\n",
              "  </tbody>\n",
              "</table>\n",
              "</div>"
            ],
            "text/plain": [
              "       W      X      Y      Z\n",
              "A -0.252  0.981  0.514  0.221\n",
              "B -1.070 -0.189  0.255 -0.458\n",
              "C  0.435 -0.584  0.817  0.673\n",
              "D -0.104 -0.531  1.030 -0.438\n",
              "E -1.118  1.619  1.542 -0.252"
            ]
          },
          "execution_count": 61,
          "metadata": {},
          "output_type": "execute_result"
        }
      ],
      "source": [
        "df"
      ]
    },
    {
      "cell_type": "markdown",
      "id": "5779c3c9",
      "metadata": {
        "id": "5779c3c9"
      },
      "source": [
        "# Adding rows and columns"
      ]
    },
    {
      "cell_type": "code",
      "execution_count": null,
      "id": "0bfb7372",
      "metadata": {
        "id": "0bfb7372",
        "outputId": "0ac9a23c-f9f4-4832-c13d-9e4eaeb59d54"
      },
      "outputs": [
        {
          "data": {
            "text/html": [
              "<div>\n",
              "<style scoped>\n",
              "    .dataframe tbody tr th:only-of-type {\n",
              "        vertical-align: middle;\n",
              "    }\n",
              "\n",
              "    .dataframe tbody tr th {\n",
              "        vertical-align: top;\n",
              "    }\n",
              "\n",
              "    .dataframe thead th {\n",
              "        text-align: right;\n",
              "    }\n",
              "</style>\n",
              "<table border=\"1\" class=\"dataframe\">\n",
              "  <thead>\n",
              "    <tr style=\"text-align: right;\">\n",
              "      <th></th>\n",
              "      <th>W</th>\n",
              "      <th>X</th>\n",
              "      <th>Y</th>\n",
              "      <th>Z</th>\n",
              "      <th>new</th>\n",
              "    </tr>\n",
              "  </thead>\n",
              "  <tbody>\n",
              "    <tr>\n",
              "      <th>A</th>\n",
              "      <td>-0.252</td>\n",
              "      <td>0.981</td>\n",
              "      <td>0.514</td>\n",
              "      <td>0.221</td>\n",
              "      <td>NaN</td>\n",
              "    </tr>\n",
              "    <tr>\n",
              "      <th>B</th>\n",
              "      <td>-1.070</td>\n",
              "      <td>-0.189</td>\n",
              "      <td>0.255</td>\n",
              "      <td>-0.458</td>\n",
              "      <td>NaN</td>\n",
              "    </tr>\n",
              "    <tr>\n",
              "      <th>C</th>\n",
              "      <td>0.435</td>\n",
              "      <td>-0.584</td>\n",
              "      <td>0.817</td>\n",
              "      <td>0.673</td>\n",
              "      <td>NaN</td>\n",
              "    </tr>\n",
              "    <tr>\n",
              "      <th>D</th>\n",
              "      <td>-0.104</td>\n",
              "      <td>-0.531</td>\n",
              "      <td>1.030</td>\n",
              "      <td>-0.438</td>\n",
              "      <td>NaN</td>\n",
              "    </tr>\n",
              "    <tr>\n",
              "      <th>E</th>\n",
              "      <td>-1.118</td>\n",
              "      <td>1.619</td>\n",
              "      <td>1.542</td>\n",
              "      <td>-0.252</td>\n",
              "      <td>NaN</td>\n",
              "    </tr>\n",
              "  </tbody>\n",
              "</table>\n",
              "</div>"
            ],
            "text/plain": [
              "       W      X      Y      Z  new\n",
              "A -0.252  0.981  0.514  0.221  NaN\n",
              "B -1.070 -0.189  0.255 -0.458  NaN\n",
              "C  0.435 -0.584  0.817  0.673  NaN\n",
              "D -0.104 -0.531  1.030 -0.438  NaN\n",
              "E -1.118  1.619  1.542 -0.252  NaN"
            ]
          },
          "execution_count": 62,
          "metadata": {},
          "output_type": "execute_result"
        }
      ],
      "source": [
        "df['new'] = np.nan\n",
        "df"
      ]
    },
    {
      "cell_type": "code",
      "execution_count": null,
      "id": "c6546f03",
      "metadata": {
        "id": "c6546f03",
        "outputId": "6b23a9b8-7467-481d-d8fb-64d7a84f749c"
      },
      "outputs": [
        {
          "data": {
            "text/html": [
              "<div>\n",
              "<style scoped>\n",
              "    .dataframe tbody tr th:only-of-type {\n",
              "        vertical-align: middle;\n",
              "    }\n",
              "\n",
              "    .dataframe tbody tr th {\n",
              "        vertical-align: top;\n",
              "    }\n",
              "\n",
              "    .dataframe thead th {\n",
              "        text-align: right;\n",
              "    }\n",
              "</style>\n",
              "<table border=\"1\" class=\"dataframe\">\n",
              "  <thead>\n",
              "    <tr style=\"text-align: right;\">\n",
              "      <th></th>\n",
              "      <th>W</th>\n",
              "      <th>X</th>\n",
              "      <th>Y</th>\n",
              "      <th>Z</th>\n",
              "      <th>new</th>\n",
              "      <th>a</th>\n",
              "    </tr>\n",
              "  </thead>\n",
              "  <tbody>\n",
              "    <tr>\n",
              "      <th>A</th>\n",
              "      <td>-0.252</td>\n",
              "      <td>0.981</td>\n",
              "      <td>0.514</td>\n",
              "      <td>0.221</td>\n",
              "      <td>NaN</td>\n",
              "      <td>1.496</td>\n",
              "    </tr>\n",
              "    <tr>\n",
              "      <th>B</th>\n",
              "      <td>-1.070</td>\n",
              "      <td>-0.189</td>\n",
              "      <td>0.255</td>\n",
              "      <td>-0.458</td>\n",
              "      <td>NaN</td>\n",
              "      <td>0.066</td>\n",
              "    </tr>\n",
              "    <tr>\n",
              "      <th>C</th>\n",
              "      <td>0.435</td>\n",
              "      <td>-0.584</td>\n",
              "      <td>0.817</td>\n",
              "      <td>0.673</td>\n",
              "      <td>NaN</td>\n",
              "      <td>0.233</td>\n",
              "    </tr>\n",
              "    <tr>\n",
              "      <th>D</th>\n",
              "      <td>-0.104</td>\n",
              "      <td>-0.531</td>\n",
              "      <td>1.030</td>\n",
              "      <td>-0.438</td>\n",
              "      <td>NaN</td>\n",
              "      <td>0.498</td>\n",
              "    </tr>\n",
              "    <tr>\n",
              "      <th>E</th>\n",
              "      <td>-1.118</td>\n",
              "      <td>1.619</td>\n",
              "      <td>1.542</td>\n",
              "      <td>-0.252</td>\n",
              "      <td>NaN</td>\n",
              "      <td>3.161</td>\n",
              "    </tr>\n",
              "  </tbody>\n",
              "</table>\n",
              "</div>"
            ],
            "text/plain": [
              "       W      X      Y      Z  new      a\n",
              "A -0.252  0.981  0.514  0.221  NaN  1.496\n",
              "B -1.070 -0.189  0.255 -0.458  NaN  0.066\n",
              "C  0.435 -0.584  0.817  0.673  NaN  0.233\n",
              "D -0.104 -0.531  1.030 -0.438  NaN  0.498\n",
              "E -1.118  1.619  1.542 -0.252  NaN  3.161"
            ]
          },
          "execution_count": 63,
          "metadata": {},
          "output_type": "execute_result"
        }
      ],
      "source": [
        "df['a'] = df['X'] + df['Y']\n",
        "df"
      ]
    },
    {
      "cell_type": "code",
      "execution_count": null,
      "id": "1a9b7a93",
      "metadata": {
        "id": "1a9b7a93",
        "outputId": "fd6e53bf-92b1-4986-c967-6901cbaccc08"
      },
      "outputs": [
        {
          "data": {
            "text/html": [
              "<div>\n",
              "<style scoped>\n",
              "    .dataframe tbody tr th:only-of-type {\n",
              "        vertical-align: middle;\n",
              "    }\n",
              "\n",
              "    .dataframe tbody tr th {\n",
              "        vertical-align: top;\n",
              "    }\n",
              "\n",
              "    .dataframe thead th {\n",
              "        text-align: right;\n",
              "    }\n",
              "</style>\n",
              "<table border=\"1\" class=\"dataframe\">\n",
              "  <thead>\n",
              "    <tr style=\"text-align: right;\">\n",
              "      <th></th>\n",
              "      <th>W</th>\n",
              "      <th>X</th>\n",
              "      <th>Y</th>\n",
              "      <th>Z</th>\n",
              "      <th>new</th>\n",
              "      <th>a</th>\n",
              "      <th>E</th>\n",
              "    </tr>\n",
              "  </thead>\n",
              "  <tbody>\n",
              "    <tr>\n",
              "      <th>A</th>\n",
              "      <td>-0.252</td>\n",
              "      <td>0.981</td>\n",
              "      <td>0.514</td>\n",
              "      <td>0.221</td>\n",
              "      <td>NaN</td>\n",
              "      <td>1.496</td>\n",
              "      <td>777</td>\n",
              "    </tr>\n",
              "    <tr>\n",
              "      <th>B</th>\n",
              "      <td>-1.070</td>\n",
              "      <td>-0.189</td>\n",
              "      <td>0.255</td>\n",
              "      <td>-0.458</td>\n",
              "      <td>NaN</td>\n",
              "      <td>0.066</td>\n",
              "      <td>777</td>\n",
              "    </tr>\n",
              "    <tr>\n",
              "      <th>C</th>\n",
              "      <td>0.435</td>\n",
              "      <td>-0.584</td>\n",
              "      <td>0.817</td>\n",
              "      <td>0.673</td>\n",
              "      <td>NaN</td>\n",
              "      <td>0.233</td>\n",
              "      <td>777</td>\n",
              "    </tr>\n",
              "    <tr>\n",
              "      <th>D</th>\n",
              "      <td>-0.104</td>\n",
              "      <td>-0.531</td>\n",
              "      <td>1.030</td>\n",
              "      <td>-0.438</td>\n",
              "      <td>NaN</td>\n",
              "      <td>0.498</td>\n",
              "      <td>777</td>\n",
              "    </tr>\n",
              "    <tr>\n",
              "      <th>E</th>\n",
              "      <td>-1.118</td>\n",
              "      <td>1.619</td>\n",
              "      <td>1.542</td>\n",
              "      <td>-0.252</td>\n",
              "      <td>NaN</td>\n",
              "      <td>3.161</td>\n",
              "      <td>777</td>\n",
              "    </tr>\n",
              "  </tbody>\n",
              "</table>\n",
              "</div>"
            ],
            "text/plain": [
              "       W      X      Y      Z  new      a    E\n",
              "A -0.252  0.981  0.514  0.221  NaN  1.496  777\n",
              "B -1.070 -0.189  0.255 -0.458  NaN  0.066  777\n",
              "C  0.435 -0.584  0.817  0.673  NaN  0.233  777\n",
              "D -0.104 -0.531  1.030 -0.438  NaN  0.498  777\n",
              "E -1.118  1.619  1.542 -0.252  NaN  3.161  777"
            ]
          },
          "execution_count": 64,
          "metadata": {},
          "output_type": "execute_result"
        }
      ],
      "source": [
        "df['E'] = 777\n",
        "df"
      ]
    },
    {
      "cell_type": "code",
      "execution_count": null,
      "id": "c6337a22",
      "metadata": {
        "id": "c6337a22",
        "outputId": "4790dc7e-3632-46ab-f6b9-e5b8cd4ac5d1"
      },
      "outputs": [
        {
          "data": {
            "text/plain": [
              "A   -0.252\n",
              "B   -1.070\n",
              "C    0.435\n",
              "D   -0.104\n",
              "E   -1.118\n",
              "Name: W, dtype: float64"
            ]
          },
          "execution_count": 66,
          "metadata": {},
          "output_type": "execute_result"
        }
      ],
      "source": [
        "df['W']"
      ]
    },
    {
      "cell_type": "code",
      "execution_count": null,
      "id": "fdd0a7f6",
      "metadata": {
        "id": "fdd0a7f6",
        "outputId": "f2214898-bfe8-4f48-9198-b93717932bfe"
      },
      "outputs": [
        {
          "data": {
            "text/html": [
              "<div>\n",
              "<style scoped>\n",
              "    .dataframe tbody tr th:only-of-type {\n",
              "        vertical-align: middle;\n",
              "    }\n",
              "\n",
              "    .dataframe tbody tr th {\n",
              "        vertical-align: top;\n",
              "    }\n",
              "\n",
              "    .dataframe thead th {\n",
              "        text-align: right;\n",
              "    }\n",
              "</style>\n",
              "<table border=\"1\" class=\"dataframe\">\n",
              "  <thead>\n",
              "    <tr style=\"text-align: right;\">\n",
              "      <th></th>\n",
              "      <th>W</th>\n",
              "      <th>X</th>\n",
              "      <th>Y</th>\n",
              "      <th>Z</th>\n",
              "      <th>new</th>\n",
              "      <th>a</th>\n",
              "      <th>E</th>\n",
              "      <th>T</th>\n",
              "    </tr>\n",
              "  </thead>\n",
              "  <tbody>\n",
              "    <tr>\n",
              "      <th>A</th>\n",
              "      <td>-0.252</td>\n",
              "      <td>0.981</td>\n",
              "      <td>0.514</td>\n",
              "      <td>0.221</td>\n",
              "      <td>NaN</td>\n",
              "      <td>1.496</td>\n",
              "      <td>777</td>\n",
              "      <td>1</td>\n",
              "    </tr>\n",
              "    <tr>\n",
              "      <th>B</th>\n",
              "      <td>-1.070</td>\n",
              "      <td>-0.189</td>\n",
              "      <td>0.255</td>\n",
              "      <td>-0.458</td>\n",
              "      <td>NaN</td>\n",
              "      <td>0.066</td>\n",
              "      <td>777</td>\n",
              "      <td>2</td>\n",
              "    </tr>\n",
              "    <tr>\n",
              "      <th>C</th>\n",
              "      <td>0.435</td>\n",
              "      <td>-0.584</td>\n",
              "      <td>0.817</td>\n",
              "      <td>0.673</td>\n",
              "      <td>NaN</td>\n",
              "      <td>0.233</td>\n",
              "      <td>777</td>\n",
              "      <td>3</td>\n",
              "    </tr>\n",
              "    <tr>\n",
              "      <th>D</th>\n",
              "      <td>-0.104</td>\n",
              "      <td>-0.531</td>\n",
              "      <td>1.030</td>\n",
              "      <td>-0.438</td>\n",
              "      <td>NaN</td>\n",
              "      <td>0.498</td>\n",
              "      <td>777</td>\n",
              "      <td>4</td>\n",
              "    </tr>\n",
              "    <tr>\n",
              "      <th>E</th>\n",
              "      <td>-1.118</td>\n",
              "      <td>1.619</td>\n",
              "      <td>1.542</td>\n",
              "      <td>-0.252</td>\n",
              "      <td>NaN</td>\n",
              "      <td>3.161</td>\n",
              "      <td>777</td>\n",
              "      <td>5</td>\n",
              "    </tr>\n",
              "  </tbody>\n",
              "</table>\n",
              "</div>"
            ],
            "text/plain": [
              "       W      X      Y      Z  new      a    E  T\n",
              "A -0.252  0.981  0.514  0.221  NaN  1.496  777  1\n",
              "B -1.070 -0.189  0.255 -0.458  NaN  0.066  777  2\n",
              "C  0.435 -0.584  0.817  0.673  NaN  0.233  777  3\n",
              "D -0.104 -0.531  1.030 -0.438  NaN  0.498  777  4\n",
              "E -1.118  1.619  1.542 -0.252  NaN  3.161  777  5"
            ]
          },
          "execution_count": 67,
          "metadata": {},
          "output_type": "execute_result"
        }
      ],
      "source": [
        "df['T'] = [1, 2, 3, 4, 5]\n",
        "df"
      ]
    },
    {
      "cell_type": "code",
      "execution_count": null,
      "id": "c57cae63",
      "metadata": {
        "id": "c57cae63",
        "outputId": "baa7cae2-2e71-448f-fd9c-e30decffda18"
      },
      "outputs": [
        {
          "data": {
            "text/html": [
              "<div>\n",
              "<style scoped>\n",
              "    .dataframe tbody tr th:only-of-type {\n",
              "        vertical-align: middle;\n",
              "    }\n",
              "\n",
              "    .dataframe tbody tr th {\n",
              "        vertical-align: top;\n",
              "    }\n",
              "\n",
              "    .dataframe thead th {\n",
              "        text-align: right;\n",
              "    }\n",
              "</style>\n",
              "<table border=\"1\" class=\"dataframe\">\n",
              "  <thead>\n",
              "    <tr style=\"text-align: right;\">\n",
              "      <th></th>\n",
              "      <th>W</th>\n",
              "      <th>X</th>\n",
              "      <th>Y</th>\n",
              "      <th>Z</th>\n",
              "      <th>new</th>\n",
              "      <th>a</th>\n",
              "      <th>E</th>\n",
              "      <th>T</th>\n",
              "    </tr>\n",
              "  </thead>\n",
              "  <tbody>\n",
              "    <tr>\n",
              "      <th>A</th>\n",
              "      <td>-0.252</td>\n",
              "      <td>0.981</td>\n",
              "      <td>0.514</td>\n",
              "      <td>0.221</td>\n",
              "      <td>NaN</td>\n",
              "      <td>1.496</td>\n",
              "      <td>777</td>\n",
              "      <td>1</td>\n",
              "    </tr>\n",
              "    <tr>\n",
              "      <th>B</th>\n",
              "      <td>-1.070</td>\n",
              "      <td>-0.189</td>\n",
              "      <td>0.255</td>\n",
              "      <td>-0.458</td>\n",
              "      <td>NaN</td>\n",
              "      <td>0.066</td>\n",
              "      <td>777</td>\n",
              "      <td>2</td>\n",
              "    </tr>\n",
              "    <tr>\n",
              "      <th>...</th>\n",
              "      <td>...</td>\n",
              "      <td>...</td>\n",
              "      <td>...</td>\n",
              "      <td>...</td>\n",
              "      <td>...</td>\n",
              "      <td>...</td>\n",
              "      <td>...</td>\n",
              "      <td>...</td>\n",
              "    </tr>\n",
              "    <tr>\n",
              "      <th>E</th>\n",
              "      <td>-1.118</td>\n",
              "      <td>1.619</td>\n",
              "      <td>1.542</td>\n",
              "      <td>-0.252</td>\n",
              "      <td>NaN</td>\n",
              "      <td>3.161</td>\n",
              "      <td>777</td>\n",
              "      <td>5</td>\n",
              "    </tr>\n",
              "    <tr>\n",
              "      <th>F</th>\n",
              "      <td>123.000</td>\n",
              "      <td>123.000</td>\n",
              "      <td>123.000</td>\n",
              "      <td>123.000</td>\n",
              "      <td>123.0</td>\n",
              "      <td>123.000</td>\n",
              "      <td>123</td>\n",
              "      <td>123</td>\n",
              "    </tr>\n",
              "  </tbody>\n",
              "</table>\n",
              "<p>6 rows × 8 columns</p>\n",
              "</div>"
            ],
            "text/plain": [
              "          W        X        Y        Z    new        a    E    T\n",
              "A    -0.252    0.981    0.514    0.221    NaN    1.496  777    1\n",
              "B    -1.070   -0.189    0.255   -0.458    NaN    0.066  777    2\n",
              "..      ...      ...      ...      ...    ...      ...  ...  ...\n",
              "E    -1.118    1.619    1.542   -0.252    NaN    3.161  777    5\n",
              "F   123.000  123.000  123.000  123.000  123.0  123.000  123  123\n",
              "\n",
              "[6 rows x 8 columns]"
            ]
          },
          "execution_count": 69,
          "metadata": {},
          "output_type": "execute_result"
        }
      ],
      "source": [
        "# Add a row (create a new object - append() is very expensive)\n",
        "\n",
        "df.loc['F'] = [123 ]* len(df.columns)\n",
        "df\n"
      ]
    },
    {
      "cell_type": "code",
      "execution_count": null,
      "id": "526de2e8",
      "metadata": {
        "id": "526de2e8"
      },
      "outputs": [],
      "source": [
        "fdnew = df.append (  { col: 666 for col in df.columns   }, ignore_index=True  )"
      ]
    },
    {
      "cell_type": "code",
      "execution_count": null,
      "id": "6aa987e7",
      "metadata": {
        "scrolled": true,
        "id": "6aa987e7",
        "outputId": "4f7fb336-e417-4257-b238-f9fe3fac9ae9"
      },
      "outputs": [
        {
          "data": {
            "text/plain": [
              "{'W': 666,\n",
              " 'X': 666,\n",
              " 'Y': 666,\n",
              " 'Z': 666,\n",
              " 'new': 666,\n",
              " 'a': 666,\n",
              " 'E': 666,\n",
              " 'T': 666}"
            ]
          },
          "execution_count": 74,
          "metadata": {},
          "output_type": "execute_result"
        }
      ],
      "source": [
        "{ col: 666 for col in df.columns   }"
      ]
    },
    {
      "cell_type": "code",
      "execution_count": null,
      "id": "7aa965c8",
      "metadata": {
        "id": "7aa965c8",
        "outputId": "aac7a65c-e415-4b3e-dd5c-7451ac964398"
      },
      "outputs": [
        {
          "data": {
            "text/plain": [
              "dict"
            ]
          },
          "execution_count": 75,
          "metadata": {},
          "output_type": "execute_result"
        }
      ],
      "source": [
        "type({ col: 666 for col in df.columns   })"
      ]
    },
    {
      "cell_type": "code",
      "execution_count": null,
      "id": "4818ef64",
      "metadata": {
        "id": "4818ef64",
        "outputId": "4edbef1b-61b4-4960-b31f-f2b62dc069e6"
      },
      "outputs": [
        {
          "data": {
            "text/html": [
              "<div>\n",
              "<style scoped>\n",
              "    .dataframe tbody tr th:only-of-type {\n",
              "        vertical-align: middle;\n",
              "    }\n",
              "\n",
              "    .dataframe tbody tr th {\n",
              "        vertical-align: top;\n",
              "    }\n",
              "\n",
              "    .dataframe thead th {\n",
              "        text-align: right;\n",
              "    }\n",
              "</style>\n",
              "<table border=\"1\" class=\"dataframe\">\n",
              "  <thead>\n",
              "    <tr style=\"text-align: right;\">\n",
              "      <th></th>\n",
              "      <th>W</th>\n",
              "      <th>X</th>\n",
              "      <th>Y</th>\n",
              "      <th>Z</th>\n",
              "      <th>new</th>\n",
              "      <th>a</th>\n",
              "      <th>E</th>\n",
              "      <th>T</th>\n",
              "    </tr>\n",
              "  </thead>\n",
              "  <tbody>\n",
              "    <tr>\n",
              "      <th>0</th>\n",
              "      <td>-0.252</td>\n",
              "      <td>0.981</td>\n",
              "      <td>0.514</td>\n",
              "      <td>0.221</td>\n",
              "      <td>NaN</td>\n",
              "      <td>1.496</td>\n",
              "      <td>777</td>\n",
              "      <td>1</td>\n",
              "    </tr>\n",
              "    <tr>\n",
              "      <th>1</th>\n",
              "      <td>-1.070</td>\n",
              "      <td>-0.189</td>\n",
              "      <td>0.255</td>\n",
              "      <td>-0.458</td>\n",
              "      <td>NaN</td>\n",
              "      <td>0.066</td>\n",
              "      <td>777</td>\n",
              "      <td>2</td>\n",
              "    </tr>\n",
              "    <tr>\n",
              "      <th>...</th>\n",
              "      <td>...</td>\n",
              "      <td>...</td>\n",
              "      <td>...</td>\n",
              "      <td>...</td>\n",
              "      <td>...</td>\n",
              "      <td>...</td>\n",
              "      <td>...</td>\n",
              "      <td>...</td>\n",
              "    </tr>\n",
              "    <tr>\n",
              "      <th>5</th>\n",
              "      <td>123.000</td>\n",
              "      <td>123.000</td>\n",
              "      <td>123.000</td>\n",
              "      <td>123.000</td>\n",
              "      <td>123.0</td>\n",
              "      <td>123.000</td>\n",
              "      <td>123</td>\n",
              "      <td>123</td>\n",
              "    </tr>\n",
              "    <tr>\n",
              "      <th>6</th>\n",
              "      <td>666.000</td>\n",
              "      <td>666.000</td>\n",
              "      <td>666.000</td>\n",
              "      <td>666.000</td>\n",
              "      <td>666.0</td>\n",
              "      <td>666.000</td>\n",
              "      <td>666</td>\n",
              "      <td>666</td>\n",
              "    </tr>\n",
              "  </tbody>\n",
              "</table>\n",
              "<p>7 rows × 8 columns</p>\n",
              "</div>"
            ],
            "text/plain": [
              "          W        X        Y        Z    new        a    E    T\n",
              "0    -0.252    0.981    0.514    0.221    NaN    1.496  777    1\n",
              "1    -1.070   -0.189    0.255   -0.458    NaN    0.066  777    2\n",
              "..      ...      ...      ...      ...    ...      ...  ...  ...\n",
              "5   123.000  123.000  123.000  123.000  123.0  123.000  123  123\n",
              "6   666.000  666.000  666.000  666.000  666.0  666.000  666  666\n",
              "\n",
              "[7 rows x 8 columns]"
            ]
          },
          "execution_count": 73,
          "metadata": {},
          "output_type": "execute_result"
        }
      ],
      "source": [
        "fdnew"
      ]
    },
    {
      "cell_type": "code",
      "execution_count": null,
      "id": "28c9b176",
      "metadata": {
        "id": "28c9b176",
        "outputId": "3c532f52-27e8-4765-b4cb-8fc10880ab8b"
      },
      "outputs": [
        {
          "data": {
            "text/plain": [
              "RangeIndex(start=0, stop=7, step=1)"
            ]
          },
          "execution_count": 76,
          "metadata": {},
          "output_type": "execute_result"
        }
      ],
      "source": [
        "fdnew.index"
      ]
    },
    {
      "cell_type": "code",
      "execution_count": null,
      "id": "4807a161",
      "metadata": {
        "id": "4807a161"
      },
      "outputs": [],
      "source": [
        "new_ix = list(df.index)"
      ]
    },
    {
      "cell_type": "code",
      "execution_count": null,
      "id": "468f8690",
      "metadata": {
        "id": "468f8690",
        "outputId": "107157d0-a7cb-4cba-fa90-a5da9b959bf2"
      },
      "outputs": [
        {
          "data": {
            "text/plain": [
              "['A', 'B', 'C', 'D', 'E', 'F']"
            ]
          },
          "execution_count": 80,
          "metadata": {},
          "output_type": "execute_result"
        }
      ],
      "source": [
        "new_ix"
      ]
    },
    {
      "cell_type": "code",
      "execution_count": null,
      "id": "f59b25c7",
      "metadata": {
        "id": "f59b25c7"
      },
      "outputs": [],
      "source": [
        "new_ix.append('G')"
      ]
    },
    {
      "cell_type": "code",
      "execution_count": null,
      "id": "91a7189f",
      "metadata": {
        "id": "91a7189f",
        "outputId": "acebacd0-968f-4666-f563-9d83b4ad64c2"
      },
      "outputs": [
        {
          "data": {
            "text/html": [
              "<div>\n",
              "<style scoped>\n",
              "    .dataframe tbody tr th:only-of-type {\n",
              "        vertical-align: middle;\n",
              "    }\n",
              "\n",
              "    .dataframe tbody tr th {\n",
              "        vertical-align: top;\n",
              "    }\n",
              "\n",
              "    .dataframe thead th {\n",
              "        text-align: right;\n",
              "    }\n",
              "</style>\n",
              "<table border=\"1\" class=\"dataframe\">\n",
              "  <thead>\n",
              "    <tr style=\"text-align: right;\">\n",
              "      <th></th>\n",
              "      <th>W</th>\n",
              "      <th>X</th>\n",
              "      <th>Y</th>\n",
              "      <th>Z</th>\n",
              "      <th>new</th>\n",
              "      <th>a</th>\n",
              "      <th>E</th>\n",
              "      <th>T</th>\n",
              "    </tr>\n",
              "  </thead>\n",
              "  <tbody>\n",
              "    <tr>\n",
              "      <th>A</th>\n",
              "      <td>-0.252</td>\n",
              "      <td>0.981</td>\n",
              "      <td>0.514</td>\n",
              "      <td>0.221</td>\n",
              "      <td>NaN</td>\n",
              "      <td>1.496</td>\n",
              "      <td>777</td>\n",
              "      <td>1</td>\n",
              "    </tr>\n",
              "    <tr>\n",
              "      <th>B</th>\n",
              "      <td>-1.070</td>\n",
              "      <td>-0.189</td>\n",
              "      <td>0.255</td>\n",
              "      <td>-0.458</td>\n",
              "      <td>NaN</td>\n",
              "      <td>0.066</td>\n",
              "      <td>777</td>\n",
              "      <td>2</td>\n",
              "    </tr>\n",
              "    <tr>\n",
              "      <th>...</th>\n",
              "      <td>...</td>\n",
              "      <td>...</td>\n",
              "      <td>...</td>\n",
              "      <td>...</td>\n",
              "      <td>...</td>\n",
              "      <td>...</td>\n",
              "      <td>...</td>\n",
              "      <td>...</td>\n",
              "    </tr>\n",
              "    <tr>\n",
              "      <th>F</th>\n",
              "      <td>123.000</td>\n",
              "      <td>123.000</td>\n",
              "      <td>123.000</td>\n",
              "      <td>123.000</td>\n",
              "      <td>123.0</td>\n",
              "      <td>123.000</td>\n",
              "      <td>123</td>\n",
              "      <td>123</td>\n",
              "    </tr>\n",
              "    <tr>\n",
              "      <th>G</th>\n",
              "      <td>666.000</td>\n",
              "      <td>666.000</td>\n",
              "      <td>666.000</td>\n",
              "      <td>666.000</td>\n",
              "      <td>666.0</td>\n",
              "      <td>666.000</td>\n",
              "      <td>666</td>\n",
              "      <td>666</td>\n",
              "    </tr>\n",
              "  </tbody>\n",
              "</table>\n",
              "<p>7 rows × 8 columns</p>\n",
              "</div>"
            ],
            "text/plain": [
              "          W        X        Y        Z    new        a    E    T\n",
              "A    -0.252    0.981    0.514    0.221    NaN    1.496  777    1\n",
              "B    -1.070   -0.189    0.255   -0.458    NaN    0.066  777    2\n",
              "..      ...      ...      ...      ...    ...      ...  ...  ...\n",
              "F   123.000  123.000  123.000  123.000  123.0  123.000  123  123\n",
              "G   666.000  666.000  666.000  666.000  666.0  666.000  666  666\n",
              "\n",
              "[7 rows x 8 columns]"
            ]
          },
          "execution_count": 82,
          "metadata": {},
          "output_type": "execute_result"
        }
      ],
      "source": [
        "fdnew.index = new_ix\n",
        "fdnew"
      ]
    },
    {
      "cell_type": "markdown",
      "id": "404ca250",
      "metadata": {
        "id": "404ca250"
      },
      "source": [
        "## Dropping rows and columns"
      ]
    },
    {
      "cell_type": "code",
      "execution_count": null,
      "id": "ba9060a1",
      "metadata": {
        "id": "ba9060a1",
        "outputId": "80c7bdd5-bed5-4470-f26e-8d572caae8cf"
      },
      "outputs": [
        {
          "name": "stdout",
          "output_type": "stream",
          "text": [
            "1984263589600\n",
            "1984263589600 1984265777312\n"
          ]
        }
      ],
      "source": [
        "# axis=0  rows;   axis=1   cols\n",
        "print(id(df))\n",
        "ndf = df.drop('a', axis=1, inplace=False )\n",
        "print(id(df), id(ndf))\n"
      ]
    },
    {
      "cell_type": "code",
      "execution_count": null,
      "id": "f8af595c",
      "metadata": {
        "id": "f8af595c",
        "outputId": "95ac829d-0713-454a-85a4-3765c9d72a72"
      },
      "outputs": [
        {
          "name": "stdout",
          "output_type": "stream",
          "text": [
            "1984263589600\n",
            "1984263589600 140735362935488\n",
            "True\n"
          ]
        }
      ],
      "source": [
        "print(id(df))\n",
        "ndf = df.drop('a', axis=1, inplace=True )\n",
        "print(id(df), id(ndf))\n",
        "print(ndf is None)"
      ]
    },
    {
      "cell_type": "code",
      "execution_count": null,
      "id": "449adbf9",
      "metadata": {
        "id": "449adbf9",
        "outputId": "09288530-0874-4152-9fb0-e0276fa2bb98"
      },
      "outputs": [
        {
          "data": {
            "text/html": [
              "<div>\n",
              "<style scoped>\n",
              "    .dataframe tbody tr th:only-of-type {\n",
              "        vertical-align: middle;\n",
              "    }\n",
              "\n",
              "    .dataframe tbody tr th {\n",
              "        vertical-align: top;\n",
              "    }\n",
              "\n",
              "    .dataframe thead th {\n",
              "        text-align: right;\n",
              "    }\n",
              "</style>\n",
              "<table border=\"1\" class=\"dataframe\">\n",
              "  <thead>\n",
              "    <tr style=\"text-align: right;\">\n",
              "      <th></th>\n",
              "      <th>W</th>\n",
              "      <th>X</th>\n",
              "      <th>Y</th>\n",
              "      <th>Z</th>\n",
              "      <th>E</th>\n",
              "      <th>T</th>\n",
              "    </tr>\n",
              "  </thead>\n",
              "  <tbody>\n",
              "    <tr>\n",
              "      <th>A</th>\n",
              "      <td>-0.252</td>\n",
              "      <td>0.981</td>\n",
              "      <td>0.514</td>\n",
              "      <td>0.221</td>\n",
              "      <td>777</td>\n",
              "      <td>1</td>\n",
              "    </tr>\n",
              "    <tr>\n",
              "      <th>B</th>\n",
              "      <td>-1.070</td>\n",
              "      <td>-0.189</td>\n",
              "      <td>0.255</td>\n",
              "      <td>-0.458</td>\n",
              "      <td>777</td>\n",
              "      <td>2</td>\n",
              "    </tr>\n",
              "    <tr>\n",
              "      <th>...</th>\n",
              "      <td>...</td>\n",
              "      <td>...</td>\n",
              "      <td>...</td>\n",
              "      <td>...</td>\n",
              "      <td>...</td>\n",
              "      <td>...</td>\n",
              "    </tr>\n",
              "    <tr>\n",
              "      <th>E</th>\n",
              "      <td>-1.118</td>\n",
              "      <td>1.619</td>\n",
              "      <td>1.542</td>\n",
              "      <td>-0.252</td>\n",
              "      <td>777</td>\n",
              "      <td>5</td>\n",
              "    </tr>\n",
              "    <tr>\n",
              "      <th>F</th>\n",
              "      <td>123.000</td>\n",
              "      <td>123.000</td>\n",
              "      <td>123.000</td>\n",
              "      <td>123.000</td>\n",
              "      <td>123</td>\n",
              "      <td>123</td>\n",
              "    </tr>\n",
              "  </tbody>\n",
              "</table>\n",
              "<p>6 rows × 6 columns</p>\n",
              "</div>"
            ],
            "text/plain": [
              "          W        X        Y        Z    E    T\n",
              "A    -0.252    0.981    0.514    0.221  777    1\n",
              "B    -1.070   -0.189    0.255   -0.458  777    2\n",
              "..      ...      ...      ...      ...  ...  ...\n",
              "E    -1.118    1.619    1.542   -0.252  777    5\n",
              "F   123.000  123.000  123.000  123.000  123  123\n",
              "\n",
              "[6 rows x 6 columns]"
            ]
          },
          "execution_count": 89,
          "metadata": {},
          "output_type": "execute_result"
        }
      ],
      "source": [
        "df"
      ]
    },
    {
      "cell_type": "code",
      "execution_count": null,
      "id": "bf6c1ec5",
      "metadata": {
        "id": "bf6c1ec5",
        "outputId": "b538aca8-ee55-485d-8a88-3612bd42179e"
      },
      "outputs": [
        {
          "data": {
            "text/html": [
              "<div>\n",
              "<style scoped>\n",
              "    .dataframe tbody tr th:only-of-type {\n",
              "        vertical-align: middle;\n",
              "    }\n",
              "\n",
              "    .dataframe tbody tr th {\n",
              "        vertical-align: top;\n",
              "    }\n",
              "\n",
              "    .dataframe thead th {\n",
              "        text-align: right;\n",
              "    }\n",
              "</style>\n",
              "<table border=\"1\" class=\"dataframe\">\n",
              "  <thead>\n",
              "    <tr style=\"text-align: right;\">\n",
              "      <th></th>\n",
              "      <th>W</th>\n",
              "      <th>X</th>\n",
              "      <th>Y</th>\n",
              "    </tr>\n",
              "  </thead>\n",
              "  <tbody>\n",
              "    <tr>\n",
              "      <th>A</th>\n",
              "      <td>-0.252</td>\n",
              "      <td>0.981</td>\n",
              "      <td>0.514</td>\n",
              "    </tr>\n",
              "    <tr>\n",
              "      <th>B</th>\n",
              "      <td>-1.070</td>\n",
              "      <td>-0.189</td>\n",
              "      <td>0.255</td>\n",
              "    </tr>\n",
              "    <tr>\n",
              "      <th>...</th>\n",
              "      <td>...</td>\n",
              "      <td>...</td>\n",
              "      <td>...</td>\n",
              "    </tr>\n",
              "    <tr>\n",
              "      <th>E</th>\n",
              "      <td>-1.118</td>\n",
              "      <td>1.619</td>\n",
              "      <td>1.542</td>\n",
              "    </tr>\n",
              "    <tr>\n",
              "      <th>F</th>\n",
              "      <td>123.000</td>\n",
              "      <td>123.000</td>\n",
              "      <td>123.000</td>\n",
              "    </tr>\n",
              "  </tbody>\n",
              "</table>\n",
              "<p>6 rows × 3 columns</p>\n",
              "</div>"
            ],
            "text/plain": [
              "          W        X        Y\n",
              "A    -0.252    0.981    0.514\n",
              "B    -1.070   -0.189    0.255\n",
              "..      ...      ...      ...\n",
              "E    -1.118    1.619    1.542\n",
              "F   123.000  123.000  123.000\n",
              "\n",
              "[6 rows x 3 columns]"
            ]
          },
          "execution_count": 90,
          "metadata": {},
          "output_type": "execute_result"
        }
      ],
      "source": [
        "df.drop( ['Z', 'E', 'T'], axis=1, inplace=True  )\n",
        "df\n"
      ]
    },
    {
      "cell_type": "code",
      "execution_count": null,
      "id": "d38b30ef",
      "metadata": {
        "id": "d38b30ef",
        "outputId": "693f3bce-7e2b-410d-9516-1a189ce11748"
      },
      "outputs": [
        {
          "data": {
            "text/html": [
              "<div>\n",
              "<style scoped>\n",
              "    .dataframe tbody tr th:only-of-type {\n",
              "        vertical-align: middle;\n",
              "    }\n",
              "\n",
              "    .dataframe tbody tr th {\n",
              "        vertical-align: top;\n",
              "    }\n",
              "\n",
              "    .dataframe thead th {\n",
              "        text-align: right;\n",
              "    }\n",
              "</style>\n",
              "<table border=\"1\" class=\"dataframe\">\n",
              "  <thead>\n",
              "    <tr style=\"text-align: right;\">\n",
              "      <th></th>\n",
              "      <th>W</th>\n",
              "      <th>X</th>\n",
              "      <th>Y</th>\n",
              "    </tr>\n",
              "  </thead>\n",
              "  <tbody>\n",
              "    <tr>\n",
              "      <th>E</th>\n",
              "      <td>-1.118</td>\n",
              "      <td>1.619</td>\n",
              "      <td>1.542</td>\n",
              "    </tr>\n",
              "    <tr>\n",
              "      <th>F</th>\n",
              "      <td>123.000</td>\n",
              "      <td>123.000</td>\n",
              "      <td>123.000</td>\n",
              "    </tr>\n",
              "  </tbody>\n",
              "</table>\n",
              "</div>"
            ],
            "text/plain": [
              "         W        X        Y\n",
              "E   -1.118    1.619    1.542\n",
              "F  123.000  123.000  123.000"
            ]
          },
          "execution_count": 91,
          "metadata": {},
          "output_type": "execute_result"
        }
      ],
      "source": [
        "df.drop( [ 'A', 'B', 'C', 'D'  ], axis=0, inplace=True)\n",
        "df"
      ]
    },
    {
      "cell_type": "code",
      "execution_count": null,
      "id": "0e87c886",
      "metadata": {
        "id": "0e87c886",
        "outputId": "637d7fed-2f44-4896-a41c-69266709ed54"
      },
      "outputs": [
        {
          "data": {
            "text/plain": [
              "0      1\n",
              "1      2\n",
              "2      4\n",
              "3      5\n",
              "4    234\n",
              "dtype: int64"
            ]
          },
          "execution_count": 92,
          "metadata": {},
          "output_type": "execute_result"
        }
      ],
      "source": [
        "ser = pd.Series([1, 2, 4, 5, 234])\n",
        "ser"
      ]
    },
    {
      "cell_type": "code",
      "execution_count": null,
      "id": "1d052a8d",
      "metadata": {
        "id": "1d052a8d",
        "outputId": "dedc1059-43c4-4be7-821a-c435adf5878f"
      },
      "outputs": [
        {
          "data": {
            "text/plain": [
              "5"
            ]
          },
          "execution_count": 93,
          "metadata": {},
          "output_type": "execute_result"
        }
      ],
      "source": [
        "ser[3]"
      ]
    },
    {
      "cell_type": "code",
      "execution_count": null,
      "id": "80af76d2",
      "metadata": {
        "id": "80af76d2",
        "outputId": "17f99193-302a-4394-e7be-a8142d1444c4"
      },
      "outputs": [
        {
          "data": {
            "text/plain": [
              "3      5\n",
              "4    234\n",
              "dtype: int64"
            ]
          },
          "execution_count": 95,
          "metadata": {},
          "output_type": "execute_result"
        }
      ],
      "source": [
        "ser [ser>4]"
      ]
    },
    {
      "cell_type": "code",
      "execution_count": null,
      "id": "41116dc1",
      "metadata": {
        "id": "41116dc1"
      },
      "outputs": [],
      "source": [
        "df [df['X']>5]\n",
        "df3 = df.copy()"
      ]
    },
    {
      "cell_type": "code",
      "execution_count": null,
      "id": "52c1f12d",
      "metadata": {
        "id": "52c1f12d",
        "outputId": "395eed5c-299f-4340-d401-daf1abc62fff"
      },
      "outputs": [
        {
          "data": {
            "text/html": [
              "<div>\n",
              "<style scoped>\n",
              "    .dataframe tbody tr th:only-of-type {\n",
              "        vertical-align: middle;\n",
              "    }\n",
              "\n",
              "    .dataframe tbody tr th {\n",
              "        vertical-align: top;\n",
              "    }\n",
              "\n",
              "    .dataframe thead th {\n",
              "        text-align: right;\n",
              "    }\n",
              "</style>\n",
              "<table border=\"1\" class=\"dataframe\">\n",
              "  <thead>\n",
              "    <tr style=\"text-align: right;\">\n",
              "      <th></th>\n",
              "      <th>W</th>\n",
              "      <th>Y</th>\n",
              "    </tr>\n",
              "  </thead>\n",
              "  <tbody>\n",
              "    <tr>\n",
              "      <th>E</th>\n",
              "      <td>-1.118</td>\n",
              "      <td>1.542</td>\n",
              "    </tr>\n",
              "    <tr>\n",
              "      <th>F</th>\n",
              "      <td>123.000</td>\n",
              "      <td>123.000</td>\n",
              "    </tr>\n",
              "  </tbody>\n",
              "</table>\n",
              "</div>"
            ],
            "text/plain": [
              "         W        Y\n",
              "E   -1.118    1.542\n",
              "F  123.000  123.000"
            ]
          },
          "execution_count": 99,
          "metadata": {},
          "output_type": "execute_result"
        }
      ],
      "source": [
        "df3 [df3['Y']>0] [['W','Y']]"
      ]
    },
    {
      "cell_type": "code",
      "execution_count": null,
      "id": "ff3eac2f",
      "metadata": {
        "id": "ff3eac2f"
      },
      "outputs": [],
      "source": [
        ""
      ]
    }
  ],
  "metadata": {
    "kernelspec": {
      "display_name": "py39",
      "language": "python",
      "name": "py39"
    },
    "language_info": {
      "codemirror_mode": {
        "name": "ipython",
        "version": 3
      },
      "file_extension": ".py",
      "mimetype": "text/x-python",
      "name": "python",
      "nbconvert_exporter": "python",
      "pygments_lexer": "ipython3",
      "version": "3.9.7"
    },
    "toc": {
      "base_numbering": 1,
      "nav_menu": {},
      "number_sections": true,
      "sideBar": true,
      "skip_h1_title": false,
      "title_cell": "Table of Contents",
      "title_sidebar": "Contents",
      "toc_cell": true,
      "toc_position": {},
      "toc_section_display": true,
      "toc_window_display": true
    },
    "colab": {
      "name": "DAwPy-S4.class_notes.ipynb",
      "provenance": [],
      "include_colab_link": true
    }
  },
  "nbformat": 4,
  "nbformat_minor": 5
}