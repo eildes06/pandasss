{
  "cells": [
    {
      "cell_type": "markdown",
      "metadata": {
        "id": "view-in-github",
        "colab_type": "text"
      },
      "source": [
        "<a href=\"https://colab.research.google.com/github/eildes06/pandasss/blob/main/2_DVwPy_S2_Matplotlib_Emine_Notebook_02_03_2022.ipynb\" target=\"_parent\"><img src=\"https://colab.research.google.com/assets/colab-badge.svg\" alt=\"Open In Colab\"/></a>"
      ]
    },
    {
      "cell_type": "markdown",
      "metadata": {
        "id": "a1a62752"
      },
      "source": [
        "___\n",
        "\n",
        "<p style=\"text-align: center;\"><img src=\"https://docs.google.com/uc?id=1lY0Uj5R04yMY3-ZppPWxqCr5pvBLYPnV\" class=\"img-fluid\" \n",
        "alt=\"CLRSWY\"></p>\n",
        "\n",
        "## <p style=\"background-color:#FDFEFE; font-family:newtimeroman; color:#9d4f8c; font-size:100%; text-align:center; border-radius:10px 10px;\">WAY TO REINVENT YOURSELF</p>"
      ],
      "id": "a1a62752"
    },
    {
      "cell_type": "markdown",
      "metadata": {
        "id": "14902c7b"
      },
      "source": [
        "![image-3.png](attachment:image-3.png)\n",
        "\n",
        "Matplotlib is a two-dimensional (2D) plotting library for Python. It was created by John D. Hunter, an American neurobiologist, and was first released in 2002. With Matplotlib, you can generate lines, scatter graphs, bar charts, histograms, error bars, etc, and even do simple 3D plots using the mplot3d toolkit. Matplotlib has a module called Pyplot, which provides an interface similar to MatLab.\n",
        "\n",
        "https://medium.com/@developit19/matplotlib-python-651fd07e9234"
      ],
      "id": "14902c7b"
    },
    {
      "cell_type": "markdown",
      "metadata": {
        "id": "22142974"
      },
      "source": [
        "<a id=\"toc\"></a>\n",
        "\n",
        "## <p style=\"background-color:#9d4f8c; font-family:newtimeroman; color:#FFF9ED; font-size:150%; text-align:center; border-radius:10px 10px;\">CONTENT</p>\n",
        "\n",
        "* [IMPORTING LIBRARIES NEEDED IN THIS NOTEBOOK](#0)\n",
        "* [REVIEW](#1)\n",
        "    * [Subplot](#1.1)\n",
        "    * [Optional](#1.2)\n",
        "* [SPECIAL PLOT TYPES](#2)\n",
        "* [SCATTER PLOT](#3)\n",
        "* [BAR PLOT](#4)\n",
        "    * [Optional](#4.1)\n",
        "* [HISTOGRAM](#5) \n",
        "* [BOX PLOT](#6)\n",
        "* [PIE CHART](#7)\n",
        "* [PANDAS SCATTER](#8) \n",
        "* [PANDAS BAR PLOT](#9)\n",
        "* [PANDAS HISTOGRAM](#10)\n",
        "* [PANDAS BOX PLOT](#11) \n",
        "* [PANDAS PIE CHART](#12)\n",
        "* [KERNEL DENSITY ESTIMATION (KDE)](#13)\n",
        "* [3-DIMENSIONAL PLOTTING IN MATPLOTLIB](#14)"
      ],
      "id": "22142974"
    },
    {
      "cell_type": "markdown",
      "metadata": {
        "id": "445382ca"
      },
      "source": [
        "## <p style=\"background-color:#9d4f8c; font-family:newtimeroman; color:#FFF9ED; font-size:150%; text-align:center; border-radius:10px 10px;\">IMPORTING LIBRARIES NEEDED IN THIS NOTEBOOK</p>\n",
        "\n",
        "<a id=\"0\"></a>\n",
        "<a href=\"#toc\" class=\"btn btn-primary btn-sm\" role=\"button\" aria-pressed=\"true\" \n",
        "style=\"color:blue; background-color:#dfa8e4\" data-toggle=\"popover\">Content</a>"
      ],
      "id": "445382ca"
    },
    {
      "cell_type": "code",
      "execution_count": 1,
      "metadata": {
        "id": "induced-pursuit"
      },
      "outputs": [],
      "source": [
        "import matplotlib.pyplot as plt\n",
        "%matplotlib inline\n",
        "import numpy as np\n",
        "import pandas as pd\n",
        "import seaborn as sns\n",
        "\n",
        "import warnings;\n",
        "warnings.filterwarnings('ignore')"
      ],
      "id": "induced-pursuit"
    },
    {
      "cell_type": "code",
      "source": [
        "#objecde bir figur olustur\n",
        "#sonra sub plot tanimla\n",
        "#defaultu mavi getiryor\n",
        "#sub flot olusturma\n",
        "#func da plt sub plot num of colum ve hangine cizdirce sonra plt plot diyon\n",
        "#sonra 2 cisi icinde aynisini yapiyon\n",
        "#tight layout anomalerin olusmasina engel oluyor\n",
        "#toplam image benim figurum"
      ],
      "metadata": {
        "id": "K-rs-JC6piy7"
      },
      "id": "K-rs-JC6piy7",
      "execution_count": null,
      "outputs": []
    },
    {
      "cell_type": "code",
      "source": [
        "#scatter plot iki sayisal degiskenin karsilasmasinda kullanilir\n",
        "#korelasyonunu inceliyorsun\n",
        "#"
      ],
      "metadata": {
        "id": "FUQda8hOpivd"
      },
      "id": "FUQda8hOpivd",
      "execution_count": null,
      "outputs": []
    },
    {
      "cell_type": "code",
      "source": [
        "#bar plot categorik degiskenlerin karsilasmasi \n",
        "#birden fazla kategorik veriyi karsilastirmaya yarayan grafik turu\n",
        "#"
      ],
      "metadata": {
        "id": "j6D0cVDQpiq3"
      },
      "id": "j6D0cVDQpiq3",
      "execution_count": null,
      "outputs": []
    },
    {
      "cell_type": "code",
      "execution_count": null,
      "metadata": {
        "id": "2AbI3MW3ptGe"
      },
      "outputs": [],
      "source": [
        "#histogram numarik degerlerin frequency lerini cizebiliyorum contionues bunlar\n",
        "#box plot outlierin tespitinde kullanilir visker disinda kalan degerler aoutlier oluyir\n",
        "#istatiksel analiz icin kullanidigimiz tur box pot"
      ],
      "id": "2AbI3MW3ptGe"
    },
    {
      "cell_type": "code",
      "source": [
        "#pie chart yuzdelik olrak "
      ],
      "metadata": {
        "id": "j49yKBaqr7wz"
      },
      "id": "j49yKBaqr7wz",
      "execution_count": null,
      "outputs": []
    },
    {
      "cell_type": "code",
      "execution_count": 2,
      "metadata": {
        "id": "consecutive-aspect"
      },
      "outputs": [],
      "source": [
        "age = [25, 27, 29, 31, 33, 35, 37, 39, 41, 43, 45]\n",
        "\n",
        "salary = [38496, 42000, 46752, 49320, 53200,\n",
        "         56000, 62316, 64928, 67317, 68748, 73752]\n",
        "\n",
        "salary_2 = [45372, 48876, 53850, 57287, 63016,\n",
        "            65998, 70003, 70000, 71496, 75370, 83640]\n"
      ],
      "id": "consecutive-aspect"
    },
    {
      "cell_type": "markdown",
      "metadata": {
        "id": "631093d6"
      },
      "source": [
        "## <p style=\"background-color:#9d4f8c; font-family:newtimeroman; color:#FFF9ED; font-size:150%; text-align:center; border-radius:10px 10px;\">REVIEW</p>\n",
        "\n",
        "<a id=\"1\"></a>\n",
        "<a href=\"#toc\" class=\"btn btn-primary btn-sm\" role=\"button\" aria-pressed=\"true\" \n",
        "style=\"color:blue; background-color:#dfa8e4\" data-toggle=\"popover\">Content</a>"
      ],
      "id": "631093d6"
    },
    {
      "cell_type": "code",
      "execution_count": 3,
      "metadata": {
        "colab": {
          "base_uri": "https://localhost:8080/",
          "height": 295
        },
        "id": "narrow-marine",
        "outputId": "2f8f08c9-8bc4-4a22-b5fd-be1f3c473982"
      },
      "outputs": [
        {
          "output_type": "display_data",
          "data": {
            "image/png": "[encoded data removed]",
            "text/plain": [
              "<Figure size 432x288 with 1 Axes>"
            ]
          },
          "metadata": {
            "needs_background": "light"
          }
        }
      ],
      "source": [
        "# Functional \n",
        "\n",
        "plt.plot(age, salary)\n",
        "plt.xlabel(\"age\")\n",
        "plt.ylabel(\"salary\")\n",
        "plt.title(\"Salary by Age\");\n",
        "plt.show()"
      ],
      "id": "narrow-marine"
    },
    {
      "cell_type": "code",
      "execution_count": 4,
      "metadata": {
        "colab": {
          "base_uri": "https://localhost:8080/",
          "height": 241
        },
        "id": "defensive-washington",
        "outputId": "dca31aaa-7ff6-4854-9b07-05bc2b94f1d1"
      },
      "outputs": [
        {
          "output_type": "display_data",
          "data": {
            "image/png": "[encoded data removed]",
            "text/plain": [
              "<Figure size 432x216 with 1 Axes>"
            ]
          },
          "metadata": {
            "needs_background": "light"
          }
        }
      ],
      "source": [
        "# Object Oriented\n",
        "\n",
        "fig, ax = plt.subplots(figsize=(6, 3))\n",
        "\n",
        "ax.plot(age, salary, 'r')\n",
        "ax.set_xlabel('age')\n",
        "ax.set_ylabel('salary')\n",
        "ax.set_title('title')\n",
        "\n",
        "plt.show()"
      ],
      "id": "defensive-washington"
    },
    {
      "cell_type": "code",
      "execution_count": 5,
      "metadata": {
        "colab": {
          "base_uri": "https://localhost:8080/",
          "height": 265
        },
        "id": "desperate-oasis",
        "outputId": "ecb5f128-e343-45f5-d140-9bda5081f522"
      },
      "outputs": [
        {
          "output_type": "display_data",
          "data": {
            "image/png": "[encoded data removed]",
            "text/plain": [
              "<Figure size 432x288 with 1 Axes>"
            ]
          },
          "metadata": {
            "needs_background": "light"
          }
        }
      ],
      "source": [
        "plt.plot(age, salary, age,salary_2)\n",
        "\n",
        "plt.show()"
      ],
      "id": "desperate-oasis"
    },
    {
      "cell_type": "markdown",
      "metadata": {
        "id": "3131780a"
      },
      "source": [
        "### <p style=\"background-color:#9d4f8c; font-family:newtimeroman; color:#FFF9ED; font-size:150%; text-align:left; border-radius:10px 10px;\">Subplot</p>\n",
        "\n",
        "<a id=\"1.1\"></a>\n",
        "<a href=\"#toc\" class=\"btn btn-primary btn-sm\" role=\"button\" aria-pressed=\"true\" \n",
        "style=\"color:blue; background-color:#dfa8e4\" data-toggle=\"popover\">Content</a>\n",
        "\n",
        "![image.png](attachment:image.png) Photo by Tengyart on Unsplash\n",
        "\n",
        "Sometimes it is helpful to compare different views of data side by side. To this end, Matplotlib has the concept of subplots: groups of smaller axes that can exist together within a single figure. These subplots might be insets, grids of plots, or other more complicated layouts.\n",
        "\n",
        "Matplotlib provides a convenient method called subplots to do this. Subplots mean a group of smaller axes (where each axis is a plot) that can exist together within a single figure.\n",
        "\n",
        "https://matplotlib.org/stable/gallery/subplots_axes_and_figures/subplots_demo.html\n",
        "\n",
        "https://www.machinelearningplus.com/plots/subplots-python-matplotlib/\n",
        "\n",
        "https://jakevdp.github.io/PythonDataScienceHandbook/04.08-multiple-subplots.html\n",
        "\n",
        "https://python-course.eu/numerical-programming/creating-subplots-in-matplotlib.php\n",
        "\n",
        "https://www.tutorialspoint.com/matplotlib/matplotlib_subplots_function.htm\n",
        "\n",
        "https://towardsdatascience.com/take-full-control-over-the-subplots-in-matplotlib-71b3bc11ff0b\n",
        "\n",
        "https://www.youtube.com/watch?v=j4eGsLdh9ws"
      ],
      "id": "3131780a"
    },
    {
      "cell_type": "code",
      "execution_count": 6,
      "metadata": {
        "colab": {
          "base_uri": "https://localhost:8080/",
          "height": 178
        },
        "id": "indie-relations",
        "outputId": "4480f3fe-625e-4b42-8885-3842619aec04"
      },
      "outputs": [
        {
          "output_type": "display_data",
          "data": {
            "image/png": "[encoded data removed]",
            "text/plain": [
              "<Figure size 1080x216 with 2 Axes>"
            ]
          },
          "metadata": {
            "needs_background": "light"
          }
        }
      ],
      "source": [
        "# Functional \n",
        "\n",
        "plt.figure(figsize=(15, 3))\n",
        "\n",
        "plt.subplot(1, 2, 1)\n",
        "plt.plot(age, salary, \"r+\", ls=\"--\")\n",
        "\n",
        "\n",
        "plt.subplot(1, 2, 2)\n",
        "plt.plot(age, salary_2, \"bo\", ls=\":\")\n",
        "\n",
        "plt.show()"
      ],
      "id": "indie-relations"
    },
    {
      "cell_type": "code",
      "execution_count": 7,
      "metadata": {
        "colab": {
          "base_uri": "https://localhost:8080/",
          "height": 159
        },
        "id": "suitable-southwest",
        "outputId": "6da6b4be-9fc5-4021-b132-78354d3a3941"
      },
      "outputs": [
        {
          "output_type": "display_data",
          "data": {
            "image/png": "[encoded data removed]",
            "text/plain": [
              "<Figure size 1080x216 with 2 Axes>"
            ]
          },
          "metadata": {
            "needs_background": "light"
          }
        }
      ],
      "source": [
        "# Object Oriented\n",
        "\n",
        "fig, ax = plt.subplots(nrows=1, ncols=2, figsize=(15, 3))\n",
        "\n",
        "ax[0].plot(age, salary)\n",
        "ax[0].set_xlabel('age')\n",
        "ax[0].set_title('First')\n",
        "\n",
        "ax[1].plot(age, salary_2)\n",
        "ax[1].set_title('Second')\n",
        "ax[1].set_xlabel('age')\n",
        "\n",
        "plt.tight_layout()\n",
        "\n",
        "plt.show()"
      ],
      "id": "suitable-southwest"
    },
    {
      "cell_type": "markdown",
      "metadata": {
        "id": "18acdae9"
      },
      "source": [
        "### <p style=\"background-color:#9d4f8c; font-family:newtimeroman; color:#FFF9ED; font-size:150%; text-align:left; border-radius:10px 10px;\">Optional</p>\n",
        "\n",
        "<a id=\"1.2\"></a>\n",
        "<a href=\"#toc\" class=\"btn btn-primary btn-sm\" role=\"button\" aria-pressed=\"true\" \n",
        "style=\"color:blue; background-color:#dfa8e4\" data-toggle=\"popover\">Content</a>"
      ],
      "id": "18acdae9"
    },
    {
      "cell_type": "code",
      "execution_count": 8,
      "metadata": {
        "colab": {
          "base_uri": "https://localhost:8080/",
          "height": 302
        },
        "id": "completed-forum",
        "outputId": "fde05fc1-228f-4619-dd7c-f895aa307238"
      },
      "outputs": [
        {
          "output_type": "display_data",
          "data": {
            "image/png": "[encoded data removed]",
            "text/plain": [
              "<Figure size 432x288 with 6 Axes>"
            ]
          },
          "metadata": {
            "needs_background": "light"
          }
        }
      ],
      "source": [
        "for i in range(1, 7):\n",
        "    plt.subplot(2, 3, i)\n",
        "    plt.text(0.5, 0.5, str((2, 3, i)), fontsize=18, ha='center')\n",
        "    plt.title(f\"Subplot: {i}\")\n",
        "\n",
        "plt.suptitle(\"This is Functional Matplotlib Subplots Created By For Loop\")\n",
        "plt.tight_layout() \n",
        "\n",
        "plt.show()#"
      ],
      "id": "completed-forum"
    },
    {
      "cell_type": "code",
      "source": [
        "for i in range(1, 7):\n",
        "    plt.subplot(2, 3, i)\n",
        "    plt.text(0.5, 0.5, str((2, 3, i)), fontsize=18, ha='center')\n",
        "    plt.title(f\"Subplot: {i}\")\n",
        "\n",
        "plt.suptitle(\"This is Functional Matplotlib Subplots Created By For Loop\")\n",
        "plt.tight_layout() \n",
        "\n",
        "plt.show()"
      ],
      "metadata": {
        "id": "VU17bsVpxtGn"
      },
      "id": "VU17bsVpxtGn",
      "execution_count": null,
      "outputs": []
    },
    {
      "cell_type": "markdown",
      "metadata": {
        "id": "6350de08"
      },
      "source": [
        "**Adding Text Inside the Plot in Matplotlib**\n",
        "\n",
        "The matplotlib.pyplot.text() function is used to add text inside the plot. The syntax adds text at an arbitrary location of the axes. It also supports mathematical expressions.\n",
        "\n",
        "**Syntax:** matplotlib.pyplot.text(x, y, s, fontdict=None, **kwargs)\n",
        "\n",
        "Parameters:\n",
        "\n",
        "- where x, y – coordinates\n",
        "- s – text to be added inside the plot(string)\n",
        "- fontdict – optional parameter. It overrides the default text properties\n",
        "- **kwargs – text properties\n",
        "\n",
        "https://matplotlib.org/stable/api/_as_gen/matplotlib.pyplot.text.html\n",
        "\n",
        "https://www.geeksforgeeks.org/add-text-inside-the-plot-in-matplotlib/"
      ],
      "id": "6350de08"
    },
    {
      "cell_type": "markdown",
      "metadata": {
        "id": "71ff8b1a"
      },
      "source": [
        "## <p style=\"background-color:#9d4f8c; font-family:newtimeroman; color:#FFF9ED; font-size:150%; text-align:center; border-radius:10px 10px;\">SPECIAL PLOT TYPES</p>\n",
        "\n",
        "<a id=\"2\"></a>\n",
        "<a href=\"#toc\" class=\"btn btn-primary btn-sm\" role=\"button\" aria-pressed=\"true\" \n",
        "style=\"color:blue; background-color:#dfa8e4\" data-toggle=\"popover\">Content</a>"
      ],
      "id": "71ff8b1a"
    },
    {
      "cell_type": "markdown",
      "metadata": {
        "id": "de88d69c"
      },
      "source": [
        "![Capture6.PNG](attachment:Capture6.PNG)"
      ],
      "id": "de88d69c"
    },
    {
      "cell_type": "markdown",
      "metadata": {
        "id": "aJtfc-gHcwUY"
      },
      "source": [
        "## <p style=\"background-color:#9d4f8c; font-family:newtimeroman; color:#FFF9ED; font-size:150%; text-align:center; border-radius:10px 10px;\">SCATTER PLOT</p>\n",
        "\n",
        "<a id=\"3\"></a>\n",
        "<a href=\"#toc\" class=\"btn btn-primary btn-sm\" role=\"button\" aria-pressed=\"true\" \n",
        "style=\"color:blue; background-color:#dfa8e4\" data-toggle=\"popover\">Content</a>\n",
        "\n",
        "A `scatter plot` (2D) is a useful method of comparing variables against each other. `Scatter` plots look similar to `line plots` in that they both map independent and dependent variables on a 2D graph. While the data points are connected together by a line in a line plot, they are not connected in a scatter plot. The data in a scatter plot is considered to express a trend. With further analysis using tools like regression, we can mathematically calculate this relationship and use it to predict trends outside the dataset."
      ],
      "id": "aJtfc-gHcwUY"
    },
    {
      "cell_type": "markdown",
      "metadata": {
        "id": "38f8a11a"
      },
      "source": [
        "![Capture7.PNG](attachment:Capture7.PNG)"
      ],
      "id": "38f8a11a"
    },
    {
      "cell_type": "code",
      "execution_count": 9,
      "metadata": {
        "colab": {
          "base_uri": "https://localhost:8080/",
          "height": 268
        },
        "id": "norman-haiti",
        "outputId": "d6928abc-f6d8-47c1-cfec-9c2934877c37"
      },
      "outputs": [
        {
          "output_type": "display_data",
          "data": {
            "image/png": "[encoded data removed]",
            "text/plain": [
              "<Figure size 432x288 with 1 Axes>"
            ]
          },
          "metadata": {
            "needs_background": "light"
          }
        }
      ],
      "source": [
        "x = np.array([15, 17, 18, 17, 12, 17, 12, 19, 14, 11, 12, 19, 16, 13])\n",
        "y = np.array([99, 86, 87, 88, 81, 86, 93, 87, 94, 78, 77, 85, 86, 85])\n",
        "\n",
        "plt.scatter(x, y)\n",
        "plt.show()"
      ],
      "id": "norman-haiti"
    },
    {
      "cell_type": "code",
      "execution_count": 10,
      "metadata": {
        "colab": {
          "base_uri": "https://localhost:8080/",
          "height": 269
        },
        "id": "jtjogzmS06XD",
        "outputId": "8e216515-3d7a-4812-8206-0c6b059cf9bc"
      },
      "outputs": [
        {
          "output_type": "display_data",
          "data": {
            "image/png": "[encoded data removed]",
            "text/plain": [
              "<Figure size 432x288 with 1 Axes>"
            ]
          },
          "metadata": {
            "needs_background": "light"
          }
        }
      ],
      "source": [
        "y = np.random.randint(10, 100, 50)\n",
        "x = np.random.randint(10, 100, 50)\n",
        "\n",
        "plt.scatter(x, y)\n",
        "plt.show()"
      ],
      "id": "jtjogzmS06XD"
    },
    {
      "cell_type": "code",
      "execution_count": 11,
      "metadata": {
        "id": "624669e1",
        "outputId": "86f44874-fcb7-4af1-f1b6-06824ae5b2a8",
        "colab": {
          "base_uri": "https://localhost:8080/",
          "height": 206
        }
      },
      "outputs": [
        {
          "output_type": "execute_result",
          "data": {
            "text/html": [
              "\n",
              "  <div id=\"df-800ea9d2-4202-47c2-8b62-8975f15b5a08\">\n",
              "    <div class=\"colab-df-container\">\n",
              "      <div>\n",
              "<style scoped>\n",
              "    .dataframe tbody tr th:only-of-type {\n",
              "        vertical-align: middle;\n",
              "    }\n",
              "\n",
              "    .dataframe tbody tr th {\n",
              "        vertical-align: top;\n",
              "    }\n",
              "\n",
              "    .dataframe thead th {\n",
              "        text-align: right;\n",
              "    }\n",
              "</style>\n",
              "<table border=\"1\" class=\"dataframe\">\n",
              "  <thead>\n",
              "    <tr style=\"text-align: right;\">\n",
              "      <th></th>\n",
              "      <th>total_bill</th>\n",
              "      <th>tip</th>\n",
              "      <th>sex</th>\n",
              "      <th>smoker</th>\n",
              "      <th>day</th>\n",
              "      <th>time</th>\n",
              "      <th>size</th>\n",
              "    </tr>\n",
              "  </thead>\n",
              "  <tbody>\n",
              "    <tr>\n",
              "      <th>0</th>\n",
              "      <td>16.99</td>\n",
              "      <td>1.01</td>\n",
              "      <td>Female</td>\n",
              "      <td>No</td>\n",
              "      <td>Sun</td>\n",
              "      <td>Dinner</td>\n",
              "      <td>2</td>\n",
              "    </tr>\n",
              "    <tr>\n",
              "      <th>1</th>\n",
              "      <td>10.34</td>\n",
              "      <td>1.66</td>\n",
              "      <td>Male</td>\n",
              "      <td>No</td>\n",
              "      <td>Sun</td>\n",
              "      <td>Dinner</td>\n",
              "      <td>3</td>\n",
              "    </tr>\n",
              "    <tr>\n",
              "      <th>2</th>\n",
              "      <td>21.01</td>\n",
              "      <td>3.50</td>\n",
              "      <td>Male</td>\n",
              "      <td>No</td>\n",
              "      <td>Sun</td>\n",
              "      <td>Dinner</td>\n",
              "      <td>3</td>\n",
              "    </tr>\n",
              "    <tr>\n",
              "      <th>3</th>\n",
              "      <td>23.68</td>\n",
              "      <td>3.31</td>\n",
              "      <td>Male</td>\n",
              "      <td>No</td>\n",
              "      <td>Sun</td>\n",
              "      <td>Dinner</td>\n",
              "      <td>2</td>\n",
              "    </tr>\n",
              "    <tr>\n",
              "      <th>4</th>\n",
              "      <td>24.59</td>\n",
              "      <td>3.61</td>\n",
              "      <td>Female</td>\n",
              "      <td>No</td>\n",
              "      <td>Sun</td>\n",
              "      <td>Dinner</td>\n",
              "      <td>4</td>\n",
              "    </tr>\n",
              "  </tbody>\n",
              "</table>\n",
              "</div>\n",
              "      <button class=\"colab-df-convert\" onclick=\"convertToInteractive('df-800ea9d2-4202-47c2-8b62-8975f15b5a08')\"\n",
              "              title=\"Convert this dataframe to an interactive table.\"\n",
              "              style=\"display:none;\">\n",
              "        \n",
              "  <svg xmlns=\"http://www.w3.org/2000/svg\" height=\"24px\"viewBox=\"0 0 24 24\"\n",
              "       width=\"24px\">\n",
              "    <path d=\"M0 0h24v24H0V0z\" fill=\"none\"/>\n",
              "    <path d=\"M18.56 5.44l.94 2.06.94-2.06 2.06-.94-2.06-.94-.94-2.06-.94 2.06-2.06.94zm-11 1L8.5 8.5l.94-2.06 2.06-.94-2.06-.94L8.5 2.5l-.94 2.06-2.06.94zm10 10l.94 2.06.94-2.06 2.06-.94-2.06-.94-.94-2.06-.94 2.06-2.06.94z\"/><path d=\"M17.41 7.96l-1.37-1.37c-.4-.4-.92-.59-1.43-.59-.52 0-1.04.2-1.43.59L10.3 9.45l-7.72 7.72c-.78.78-.78 2.05 0 2.83L4 21.41c.39.39.9.59 1.41.59.51 0 1.02-.2 1.41-.59l7.78-7.78 2.81-2.81c.8-.78.8-2.07 0-2.86zM5.41 20L4 18.59l7.72-7.72 1.47 1.35L5.41 20z\"/>\n",
              "  </svg>\n",
              "      </button>\n",
              "      \n",
              "  <style>\n",
              "    .colab-df-container {\n",
              "      display:flex;\n",
              "      flex-wrap:wrap;\n",
              "      gap: 12px;\n",
              "    }\n",
              "\n",
              "    .colab-df-convert {\n",
              "      background-color: #E8F0FE;\n",
              "      border: none;\n",
              "      border-radius: 50%;\n",
              "      cursor: pointer;\n",
              "      display: none;\n",
              "      fill: #1967D2;\n",
              "      height: 32px;\n",
              "      padding: 0 0 0 0;\n",
              "      width: 32px;\n",
              "    }\n",
              "\n",
              "    .colab-df-convert:hover {\n",
              "      background-color: #E2EBFA;\n",
              "      box-shadow: 0px 1px 2px rgba(60, 64, 67, 0.3), 0px 1px 3px 1px rgba(60, 64, 67, 0.15);\n",
              "      fill: #174EA6;\n",
              "    }\n",
              "\n",
              "    [theme=dark] .colab-df-convert {\n",
              "      background-color: #3B4455;\n",
              "      fill: #D2E3FC;\n",
              "    }\n",
              "\n",
              "    [theme=dark] .colab-df-convert:hover {\n",
              "      background-color: #434B5C;\n",
              "      box-shadow: 0px 1px 3px 1px rgba(0, 0, 0, 0.15);\n",
              "      filter: drop-shadow(0px 1px 2px rgba(0, 0, 0, 0.3));\n",
              "      fill: #FFFFFF;\n",
              "    }\n",
              "  </style>\n",
              "\n",
              "      <script>\n",
              "        const buttonEl =\n",
              "          document.querySelector('#df-800ea9d2-4202-47c2-8b62-8975f15b5a08 button.colab-df-convert');\n",
              "        buttonEl.style.display =\n",
              "          google.colab.kernel.accessAllowed ? 'block' : 'none';\n",
              "\n",
              "        async function convertToInteractive(key) {\n",
              "          const element = document.querySelector('#df-800ea9d2-4202-47c2-8b62-8975f15b5a08');\n",
              "          const dataTable =\n",
              "            await google.colab.kernel.invokeFunction('convertToInteractive',\n",
              "                                                     [key], {});\n",
              "          if (!dataTable) return;\n",
              "\n",
              "          const docLinkHtml = 'Like what you see? Visit the ' +\n",
              "            '<a target=\"_blank\" href=https://colab.research.google.com/notebooks/data_table.ipynb>data table notebook</a>'\n",
              "            + ' to learn more about interactive tables.';\n",
              "          element.innerHTML = '';\n",
              "          dataTable['output_type'] = 'display_data';\n",
              "          await google.colab.output.renderOutput(dataTable, element);\n",
              "          const docLink = document.createElement('div');\n",
              "          docLink.innerHTML = docLinkHtml;\n",
              "          element.appendChild(docLink);\n",
              "        }\n",
              "      </script>\n",
              "    </div>\n",
              "  </div>\n",
              "  "
            ],
            "text/plain": [
              "   total_bill   tip     sex smoker  day    time  size\n",
              "0       16.99  1.01  Female     No  Sun  Dinner     2\n",
              "1       10.34  1.66    Male     No  Sun  Dinner     3\n",
              "2       21.01  3.50    Male     No  Sun  Dinner     3\n",
              "3       23.68  3.31    Male     No  Sun  Dinner     2\n",
              "4       24.59  3.61  Female     No  Sun  Dinner     4"
            ]
          },
          "metadata": {},
          "execution_count": 11
        }
      ],
      "source": [
        "tips = sns.load_dataset(\"tips\")\n",
        "\n",
        "tips.head()"
      ],
      "id": "624669e1"
    },
    {
      "cell_type": "code",
      "source": [
        "plt.figure(figsize=(12, 8))\n",
        "\n",
        "plt.scatter(tips['tip'], tips['total_bill']);"
      ],
      "metadata": {
        "colab": {
          "base_uri": "https://localhost:8080/",
          "height": 483
        },
        "id": "fscnskpq0LgL",
        "outputId": "b0810bc5-6699-4f43-950a-29c3f12c0747"
      },
      "id": "fscnskpq0LgL",
      "execution_count": 12,
      "outputs": [
        {
          "output_type": "display_data",
          "data": {
            "image/png": "[encoded data removed]",
            "text/plain": [
              "<Figure size 864x576 with 1 Axes>"
            ]
          },
          "metadata": {
            "needs_background": "light"
          }
        }
      ]
    },
    {
      "cell_type": "code",
      "execution_count": null,
      "metadata": {
        "id": "xvr542FQb0GY"
      },
      "outputs": [],
      "source": [
        "langs = ['C', 'C++', 'Java', 'Python', 'PHP']\n",
        "students = [23, 17, 35, 29, 12]"
      ],
      "id": "xvr542FQb0GY"
    },
    {
      "cell_type": "code",
      "execution_count": 14,
      "metadata": {
        "colab": {
          "base_uri": "https://localhost:8080/",
          "height": 206
        },
        "id": "yrOi4kL_b0Dk",
        "outputId": "ed317ac3-1b61-4c5f-e46a-08ab9760a8b4"
      },
      "outputs": [
        {
          "output_type": "execute_result",
          "data": {
            "text/html": [
              "\n",
              "  <div id=\"df-9b2d5f9a-f01c-443d-8574-dfe70da2f3d6\">\n",
              "    <div class=\"colab-df-container\">\n",
              "      <div>\n",
              "<style scoped>\n",
              "    .dataframe tbody tr th:only-of-type {\n",
              "        vertical-align: middle;\n",
              "    }\n",
              "\n",
              "    .dataframe tbody tr th {\n",
              "        vertical-align: top;\n",
              "    }\n",
              "\n",
              "    .dataframe thead th {\n",
              "        text-align: right;\n",
              "    }\n",
              "</style>\n",
              "<table border=\"1\" class=\"dataframe\">\n",
              "  <thead>\n",
              "    <tr style=\"text-align: right;\">\n",
              "      <th></th>\n",
              "      <th>total_bill</th>\n",
              "      <th>tip</th>\n",
              "      <th>size</th>\n",
              "    </tr>\n",
              "    <tr>\n",
              "      <th>day</th>\n",
              "      <th></th>\n",
              "      <th></th>\n",
              "      <th></th>\n",
              "    </tr>\n",
              "  </thead>\n",
              "  <tbody>\n",
              "    <tr>\n",
              "      <th>Thur</th>\n",
              "      <td>1096.33</td>\n",
              "      <td>171.83</td>\n",
              "      <td>152</td>\n",
              "    </tr>\n",
              "    <tr>\n",
              "      <th>Fri</th>\n",
              "      <td>325.88</td>\n",
              "      <td>51.96</td>\n",
              "      <td>40</td>\n",
              "    </tr>\n",
              "    <tr>\n",
              "      <th>Sat</th>\n",
              "      <td>1778.40</td>\n",
              "      <td>260.40</td>\n",
              "      <td>219</td>\n",
              "    </tr>\n",
              "    <tr>\n",
              "      <th>Sun</th>\n",
              "      <td>1627.16</td>\n",
              "      <td>247.39</td>\n",
              "      <td>216</td>\n",
              "    </tr>\n",
              "  </tbody>\n",
              "</table>\n",
              "</div>\n",
              "      <button class=\"colab-df-convert\" onclick=\"convertToInteractive('df-9b2d5f9a-f01c-443d-8574-dfe70da2f3d6')\"\n",
              "              title=\"Convert this dataframe to an interactive table.\"\n",
              "              style=\"display:none;\">\n",
              "        \n",
              "  <svg xmlns=\"http://www.w3.org/2000/svg\" height=\"24px\"viewBox=\"0 0 24 24\"\n",
              "       width=\"24px\">\n",
              "    <path d=\"M0 0h24v24H0V0z\" fill=\"none\"/>\n",
              "    <path d=\"M18.56 5.44l.94 2.06.94-2.06 2.06-.94-2.06-.94-.94-2.06-.94 2.06-2.06.94zm-11 1L8.5 8.5l.94-2.06 2.06-.94-2.06-.94L8.5 2.5l-.94 2.06-2.06.94zm10 10l.94 2.06.94-2.06 2.06-.94-2.06-.94-.94-2.06-.94 2.06-2.06.94z\"/><path d=\"M17.41 7.96l-1.37-1.37c-.4-.4-.92-.59-1.43-.59-.52 0-1.04.2-1.43.59L10.3 9.45l-7.72 7.72c-.78.78-.78 2.05 0 2.83L4 21.41c.39.39.9.59 1.41.59.51 0 1.02-.2 1.41-.59l7.78-7.78 2.81-2.81c.8-.78.8-2.07 0-2.86zM5.41 20L4 18.59l7.72-7.72 1.47 1.35L5.41 20z\"/>\n",
              "  </svg>\n",
              "      </button>\n",
              "      \n",
              "  <style>\n",
              "    .colab-df-container {\n",
              "      display:flex;\n",
              "      flex-wrap:wrap;\n",
              "      gap: 12px;\n",
              "    }\n",
              "\n",
              "    .colab-df-convert {\n",
              "      background-color: #E8F0FE;\n",
              "      border: none;\n",
              "      border-radius: 50%;\n",
              "      cursor: pointer;\n",
              "      display: none;\n",
              "      fill: #1967D2;\n",
              "      height: 32px;\n",
              "      padding: 0 0 0 0;\n",
              "      width: 32px;\n",
              "    }\n",
              "\n",
              "    .colab-df-convert:hover {\n",
              "      background-color: #E2EBFA;\n",
              "      box-shadow: 0px 1px 2px rgba(60, 64, 67, 0.3), 0px 1px 3px 1px rgba(60, 64, 67, 0.15);\n",
              "      fill: #174EA6;\n",
              "    }\n",
              "\n",
              "    [theme=dark] .colab-df-convert {\n",
              "      background-color: #3B4455;\n",
              "      fill: #D2E3FC;\n",
              "    }\n",
              "\n",
              "    [theme=dark] .colab-df-convert:hover {\n",
              "      background-color: #434B5C;\n",
              "      box-shadow: 0px 1px 3px 1px rgba(0, 0, 0, 0.15);\n",
              "      filter: drop-shadow(0px 1px 2px rgba(0, 0, 0, 0.3));\n",
              "      fill: #FFFFFF;\n",
              "    }\n",
              "  </style>\n",
              "\n",
              "      <script>\n",
              "        const buttonEl =\n",
              "          document.querySelector('#df-9b2d5f9a-f01c-443d-8574-dfe70da2f3d6 button.colab-df-convert');\n",
              "        buttonEl.style.display =\n",
              "          google.colab.kernel.accessAllowed ? 'block' : 'none';\n",
              "\n",
              "        async function convertToInteractive(key) {\n",
              "          const element = document.querySelector('#df-9b2d5f9a-f01c-443d-8574-dfe70da2f3d6');\n",
              "          const dataTable =\n",
              "            await google.colab.kernel.invokeFunction('convertToInteractive',\n",
              "                                                     [key], {});\n",
              "          if (!dataTable) return;\n",
              "\n",
              "          const docLinkHtml = 'Like what you see? Visit the ' +\n",
              "            '<a target=\"_blank\" href=https://colab.research.google.com/notebooks/data_table.ipynb>data table notebook</a>'\n",
              "            + ' to learn more about interactive tables.';\n",
              "          element.innerHTML = '';\n",
              "          dataTable['output_type'] = 'display_data';\n",
              "          await google.colab.output.renderOutput(dataTable, element);\n",
              "          const docLink = document.createElement('div');\n",
              "          docLink.innerHTML = docLinkHtml;\n",
              "          element.appendChild(docLink);\n",
              "        }\n",
              "      </script>\n",
              "    </div>\n",
              "  </div>\n",
              "  "
            ],
            "text/plain": [
              "      total_bill     tip  size\n",
              "day                           \n",
              "Thur     1096.33  171.83   152\n",
              "Fri       325.88   51.96    40\n",
              "Sat      1778.40  260.40   219\n",
              "Sun      1627.16  247.39   216"
            ]
          },
          "metadata": {},
          "execution_count": 14
        }
      ],
      "source": [
        "tips.groupby(tips[\"day\"]).sum()"
      ],
      "id": "yrOi4kL_b0Dk"
    },
    {
      "cell_type": "code",
      "source": [
        "day = tips.groupby(\"day\").sum().index   # tips.day.unique()\n",
        "day"
      ],
      "metadata": {
        "colab": {
          "base_uri": "https://localhost:8080/"
        },
        "id": "Mpb73A_C09mZ",
        "outputId": "6ed067af-30c1-4405-c15e-df1e0de6243f"
      },
      "id": "Mpb73A_C09mZ",
      "execution_count": 15,
      "outputs": [
        {
          "output_type": "execute_result",
          "data": {
            "text/plain": [
              "CategoricalIndex(['Thur', 'Fri', 'Sat', 'Sun'], categories=['Thur', 'Fri', 'Sat', 'Sun'], ordered=False, dtype='category', name='day')"
            ]
          },
          "metadata": {},
          "execution_count": 15
        }
      ]
    },
    {
      "cell_type": "code",
      "source": [
        "day = tips.groupby(\"day\").sum().index\n",
        "day\n",
        "total = tips.groupby(\"day\").sum()[\"total_bill\"].values\n",
        "fig, ax = plt.subplots()\n",
        "ax.bar(day,total);\n",
        "#Tips data setimde herbir gune karsilik gelen total bill leri bar plot olarak cizdirin"
      ],
      "metadata": {
        "colab": {
          "base_uri": "https://localhost:8080/",
          "height": 265
        },
        "id": "PM9mT8Ip09i9",
        "outputId": "a10fde0e-1642-4ea7-9fca-1d4f51e2da81"
      },
      "id": "PM9mT8Ip09i9",
      "execution_count": 16,
      "outputs": [
        {
          "output_type": "display_data",
          "data": {
            "image/png": "[encoded data removed]",
            "text/plain": [
              "<Figure size 432x288 with 1 Axes>"
            ]
          },
          "metadata": {
            "needs_background": "light"
          }
        }
      ]
    },
    {
      "cell_type": "code",
      "source": [
        "total_tips = tips.groupby(\"day\").sum()[\"tip\"].values\n",
        "fig, ax = plt.subplots()\n",
        "ax.bar(day,total_tips);"
      ],
      "metadata": {
        "colab": {
          "base_uri": "https://localhost:8080/",
          "height": 265
        },
        "id": "7VhGHB2809eb",
        "outputId": "4b4d1102-7620-4b48-aeb4-aa7efd578ce1"
      },
      "id": "7VhGHB2809eb",
      "execution_count": 17,
      "outputs": [
        {
          "output_type": "display_data",
          "data": {
            "image/png": "[encoded data removed]",
            "text/plain": [
              "<Figure size 432x288 with 1 Axes>"
            ]
          },
          "metadata": {
            "needs_background": "light"
          }
        }
      ]
    },
    {
      "cell_type": "code",
      "source": [
        "total_tips = tips.groupby(\"day\").sum()[\"tip\"].values\n",
        "total_bill = tips.groupby(\"day\").sum()[\"total_bill\"].values\n",
        "fig, ax = plt.subplots()\n",
        "ax.bar(day,total_tips)\n",
        "ax.bar(day,total_bill);"
      ],
      "metadata": {
        "colab": {
          "base_uri": "https://localhost:8080/",
          "height": 265
        },
        "id": "JUH-2sxf2dGI",
        "outputId": "ea61524b-9d54-406e-9195-13b9d2189636"
      },
      "id": "JUH-2sxf2dGI",
      "execution_count": 18,
      "outputs": [
        {
          "output_type": "display_data",
          "data": {
            "image/png": "[encoded data removed]",
            "text/plain": [
              "<Figure size 432x288 with 1 Axes>"
            ]
          },
          "metadata": {
            "needs_background": "light"
          }
        }
      ]
    },
    {
      "cell_type": "code",
      "source": [
        "total_tips = tips.groupby(\"day\").sum()[\"tip\"].values\n",
        "total_bill = tips.groupby(\"day\").sum()[\"total_bill\"].values\n",
        "fig, ax = plt.subplots()\n",
        "ax.bar(day,total_bill, label = 'total bill')\n",
        "ax.bar(day,total_tips, label = 'tip')\n",
        "plt.legend();"
      ],
      "metadata": {
        "colab": {
          "base_uri": "https://localhost:8080/",
          "height": 265
        },
        "id": "Qukd7LOX2c-1",
        "outputId": "289f5fff-3ca0-4a28-eb5e-40eac7d64309"
      },
      "id": "Qukd7LOX2c-1",
      "execution_count": 19,
      "outputs": [
        {
          "output_type": "display_data",
          "data": {
            "image/png": "[encoded data removed]",
            "text/plain": [
              "<Figure size 432x288 with 1 Axes>"
            ]
          },
          "metadata": {
            "needs_background": "light"
          }
        }
      ]
    },
    {
      "cell_type": "code",
      "source": [
        "# Optional hard to coding\n",
        "fig, ax = plt.subplots(figsize=(10, 5))\n",
        "p = np.arange(len(day))\n",
        "width = 0.20\n",
        "ax.bar(p - width/2, total_bill, width, label=\"total_bill\")\n",
        "ax.bar(p + width/2, total_tips,           width, label=\"tip\")\n",
        "ax.set_xticks(p)\n",
        "ax.set_xticklabels(day)\n",
        "plt.legend()\n",
        "plt.show()"
      ],
      "metadata": {
        "colab": {
          "base_uri": "https://localhost:8080/",
          "height": 320
        },
        "id": "r4F1gmHD2c69",
        "outputId": "f45104b8-1b75-4937-983a-d65780561c7f"
      },
      "id": "r4F1gmHD2c69",
      "execution_count": 20,
      "outputs": [
        {
          "output_type": "display_data",
          "data": {
            "image/png": "[encoded data removed]",
            "text/plain": [
              "<Figure size 720x360 with 1 Axes>"
            ]
          },
          "metadata": {
            "needs_background": "light"
          }
        }
      ]
    },
    {
      "cell_type": "code",
      "source": [
        "total_bill = tips.groupby(\"day\").sum()[\"total_bill\"].values\n",
        "total_tips = tips.groupby(\"day\").sum()[\"tip\"].values\n",
        "days = np.arange(len(day))\n",
        "\n",
        "fig, ax = plt.subplots()\n",
        "ax.set_xticks(days)\n",
        "ax.set_xticklabels(day)\n",
        "ax.bar(days+0.2,total_bill,width=0.4, label=\"total bill\")\n",
        "ax.bar(days-0.2,total_tips,width=0.4, label=\"tip\")\n",
        "plt.legend();"
      ],
      "metadata": {
        "id": "XUg-zsTe44-V"
      },
      "id": "XUg-zsTe44-V",
      "execution_count": null,
      "outputs": []
    },
    {
      "cell_type": "code",
      "source": [
        "# Optional hard to coding\n",
        "fig, ax = plt.subplots(figsize=(10, 5))\n",
        "p = np.arange(len(day))\n",
        "width = 0.20\n",
        "ax.bar(p - width/2, total_bill, width, label=\"total_bill\")\n",
        "ax.bar(p + width/2, total_tips,           width, label=\"tip\")\n",
        "ax.set_xticks(p)\n",
        "ax.set_xticklabels(day)\n",
        "plt.legend()\n",
        "plt.show()"
      ],
      "metadata": {
        "id": "ERZv9UvO4464"
      },
      "id": "ERZv9UvO4464",
      "execution_count": null,
      "outputs": []
    },
    {
      "cell_type": "code",
      "source": [
        "fig, ax = plt.subplots(figsize=(10, 5))\n",
        "\n",
        "width = 0.20\n",
        "\n",
        "ax.bar(-0.1, total_bill, width, label=\"total_bill\");"
      ],
      "metadata": {
        "id": "ZpooxudB4422"
      },
      "id": "ZpooxudB4422",
      "execution_count": null,
      "outputs": []
    },
    {
      "cell_type": "code",
      "source": [
        "fig, ax = plt.subplots(figsize=(10, 5))\n",
        "\n",
        "width = 0.20\n",
        "\n",
        "ax.bar(-0.1 - width/2, total_bill, width, label=\"total_bill\");"
      ],
      "metadata": {
        "colab": {
          "base_uri": "https://localhost:8080/",
          "height": 320
        },
        "id": "ze-qHyZI5Hm5",
        "outputId": "d4f21fcf-ebab-42a6-d404-6363d654d678"
      },
      "id": "ze-qHyZI5Hm5",
      "execution_count": 21,
      "outputs": [
        {
          "output_type": "display_data",
          "data": {
            "image/png": "[encoded data removed]",
            "text/plain": [
              "<Figure size 720x360 with 1 Axes>"
            ]
          },
          "metadata": {
            "needs_background": "light"
          }
        }
      ]
    },
    {
      "cell_type": "code",
      "source": [
        "plt.hist(tips['total_bill'], bins=50 )\n",
        "plt.show()"
      ],
      "metadata": {
        "id": "s0xDa1RF5HjP"
      },
      "id": "s0xDa1RF5HjP",
      "execution_count": null,
      "outputs": []
    },
    {
      "cell_type": "code",
      "source": [
        "X = np.random.normal(170, 10, 250)"
      ],
      "metadata": {
        "id": "avd-3AQ65HfI"
      },
      "id": "avd-3AQ65HfI",
      "execution_count": null,
      "outputs": []
    },
    {
      "cell_type": "code",
      "source": [
        "plt.boxplot(X)\n",
        "plt.show() "
      ],
      "metadata": {
        "id": "VWiqCdrk-OxF"
      },
      "id": "VWiqCdrk-OxF",
      "execution_count": null,
      "outputs": []
    },
    {
      "cell_type": "code",
      "source": [
        "X = np.random.normal(170, 10, 250)\n",
        "\n",
        "plt.boxplot(X, vert=False)\n",
        "plt.show() "
      ],
      "metadata": {
        "id": "Wh3ruOwN-OtK"
      },
      "id": "Wh3ruOwN-OtK",
      "execution_count": null,
      "outputs": []
    },
    {
      "cell_type": "code",
      "source": [
        "box = np.array(np.random.rand(10, 4))\n",
        "\n",
        "plt.boxplot(box, labels=['A', 'B', 'C', 'D'])\n",
        "plt.show()"
      ],
      "metadata": {
        "id": "DsnprLtY-Opp"
      },
      "id": "DsnprLtY-Opp",
      "execution_count": null,
      "outputs": []
    },
    {
      "cell_type": "code",
      "source": [
        "plt.boxplot(tips['tip'])\n",
        "plt.show() "
      ],
      "metadata": {
        "id": "Hc-i0Hn9-uhQ"
      },
      "id": "Hc-i0Hn9-uhQ",
      "execution_count": null,
      "outputs": []
    },
    {
      "cell_type": "code",
      "source": [
        "plt.boxplot(np.array(tips.iloc[:, 0:2]), labels=['total_bill', 'tip'])\n",
        "plt.show() "
      ],
      "metadata": {
        "id": "KxEwSWYp-udg"
      },
      "id": "KxEwSWYp-udg",
      "execution_count": null,
      "outputs": []
    },
    {
      "cell_type": "code",
      "source": [
        "plt.figure(figsize=(10, 8))\n",
        "\n",
        "y = np.array([35, 25, 25, 15])\n",
        "mylabels = [\"Apples\", \"Bananas\", \"Cherries\", \"Dates\"]\n",
        "\n",
        "plt.pie(y, labels=mylabels, labeldistance=0.7, autopct=\"%.1f\")\n",
        "plt.show()"
      ],
      "metadata": {
        "colab": {
          "base_uri": "https://localhost:8080/",
          "height": 466
        },
        "id": "uU0nkhM4AFHC",
        "outputId": "ae7d6424-83d9-48d1-ade0-09a0d5834a2c"
      },
      "id": "uU0nkhM4AFHC",
      "execution_count": 22,
      "outputs": [
        {
          "output_type": "display_data",
          "data": {
            "image/png": "[encoded data removed]",
            "text/plain": [
              "<Figure size 720x576 with 1 Axes>"
            ]
          },
          "metadata": {}
        }
      ]
    },
    {
      "cell_type": "code",
      "source": [
        "plt.figure(figsize=(10, 8))\n",
        "\n",
        "colors_list = ['gold', 'yellowgreen', 'lightcoral', 'lightskyblue', 'lightgreen', 'pink']\n",
        "explode_list = [0, 0, 0.1, 0.1] # ratio for each continent with which to offset each wedge.\n",
        "\n",
        "\n",
        "y = np.array([25, 35, 25, 15])\n",
        "mylabels = [\"Bananas\", \"Apples\", \"Cherries\", \"Dates\"]\n",
        "myexplode = [0.1, 0, 0, 0]\n",
        "\n",
        "plt.pie(y, \n",
        "        labels = mylabels,\n",
        "        labeldistance=0.7, \n",
        "        autopct=\"%.1f\", \n",
        "        startangle=90, \n",
        "        shadow=True, \n",
        "        pctdistance=1.1, \n",
        "        colors=colors_list, \n",
        "        explode=explode_list)\n",
        "\n",
        "plt.legend()\n",
        "plt.show()"
      ],
      "metadata": {
        "id": "_c1tSExaA-PW"
      },
      "id": "_c1tSExaA-PW",
      "execution_count": null,
      "outputs": []
    },
    {
      "cell_type": "markdown",
      "metadata": {
        "id": "catholic-floating"
      },
      "source": [
        "## <p style=\"background-color:#9d4f8c; font-family:newtimeroman; color:#FFF9ED; font-size:150%; text-align:center; border-radius:10px 10px;\">BAR PLOT</p>\n",
        "\n",
        "<a id=\"4\"></a>\n",
        "<a href=\"#toc\" class=\"btn btn-primary btn-sm\" role=\"button\" aria-pressed=\"true\" \n",
        "style=\"color:blue; background-color:#dfa8e4\" data-toggle=\"popover\">Content</a>"
      ],
      "id": "catholic-floating"
    },
    {
      "cell_type": "markdown",
      "metadata": {
        "id": "701b848c"
      },
      "source": [
        "![Capture8.PNG](attachment:Capture8.PNG)"
      ],
      "id": "701b848c"
    },
    {
      "cell_type": "code",
      "execution_count": null,
      "metadata": {
        "id": "changing-contents"
      },
      "outputs": [],
      "source": [
        ""
      ],
      "id": "changing-contents"
    },
    {
      "cell_type": "code",
      "execution_count": null,
      "metadata": {
        "id": "VGcMQl7Q2M1O"
      },
      "outputs": [],
      "source": [
        ""
      ],
      "id": "VGcMQl7Q2M1O"
    },
    {
      "cell_type": "code",
      "execution_count": null,
      "metadata": {
        "id": "grGAdu7JbWQg"
      },
      "outputs": [],
      "source": [
        ""
      ],
      "id": "grGAdu7JbWQg"
    },
    {
      "cell_type": "code",
      "execution_count": null,
      "metadata": {
        "id": "1vOb5x10beZl"
      },
      "outputs": [],
      "source": [
        ""
      ],
      "id": "1vOb5x10beZl"
    },
    {
      "cell_type": "code",
      "execution_count": null,
      "metadata": {
        "id": "ek7afVKpbeW8"
      },
      "outputs": [],
      "source": [
        ""
      ],
      "id": "ek7afVKpbeW8"
    },
    {
      "cell_type": "code",
      "execution_count": null,
      "metadata": {
        "id": "7KlJSOnV31kI"
      },
      "outputs": [],
      "source": [
        ""
      ],
      "id": "7KlJSOnV31kI"
    },
    {
      "cell_type": "code",
      "execution_count": null,
      "metadata": {
        "id": "1ZOdVGSBbeUZ"
      },
      "outputs": [],
      "source": [
        ""
      ],
      "id": "1ZOdVGSBbeUZ"
    },
    {
      "cell_type": "code",
      "execution_count": null,
      "metadata": {
        "id": "ba7fb4d1"
      },
      "outputs": [],
      "source": [
        ""
      ],
      "id": "ba7fb4d1"
    },
    {
      "cell_type": "code",
      "execution_count": null,
      "metadata": {
        "id": "iP5Ei7FnbeRx"
      },
      "outputs": [],
      "source": [
        ""
      ],
      "id": "iP5Ei7FnbeRx"
    },
    {
      "cell_type": "code",
      "execution_count": null,
      "metadata": {
        "id": "ILVPkRU0ksdX"
      },
      "outputs": [],
      "source": [
        ""
      ],
      "id": "ILVPkRU0ksdX"
    },
    {
      "cell_type": "code",
      "execution_count": null,
      "metadata": {
        "id": "gT0ty6M-6dR3"
      },
      "outputs": [],
      "source": [
        ""
      ],
      "id": "gT0ty6M-6dR3"
    },
    {
      "cell_type": "markdown",
      "metadata": {
        "id": "8fc4d28b"
      },
      "source": [
        "### <p style=\"background-color:#9d4f8c; font-family:newtimeroman; color:#FFF9ED; font-size:150%; text-align:left; border-radius:10px 10px;\">Optional</p>\n",
        "\n",
        "<a id=\"4.1\"></a>\n",
        "<a href=\"#toc\" class=\"btn btn-primary btn-sm\" role=\"button\" aria-pressed=\"true\" \n",
        "style=\"color:blue; background-color:#dfa8e4\" data-toggle=\"popover\">Content</a>"
      ],
      "id": "8fc4d28b"
    },
    {
      "cell_type": "code",
      "execution_count": null,
      "metadata": {
        "id": "4343eaa8"
      },
      "outputs": [],
      "source": [
        ""
      ],
      "id": "4343eaa8"
    },
    {
      "cell_type": "code",
      "execution_count": null,
      "metadata": {
        "id": "5a71afdf"
      },
      "outputs": [],
      "source": [
        ""
      ],
      "id": "5a71afdf"
    },
    {
      "cell_type": "code",
      "execution_count": null,
      "metadata": {
        "id": "be0b8a25"
      },
      "outputs": [],
      "source": [
        ""
      ],
      "id": "be0b8a25"
    },
    {
      "cell_type": "code",
      "execution_count": null,
      "metadata": {
        "id": "ac54a4d7"
      },
      "outputs": [],
      "source": [
        ""
      ],
      "id": "ac54a4d7"
    },
    {
      "cell_type": "code",
      "execution_count": null,
      "metadata": {
        "id": "a754fbce"
      },
      "outputs": [],
      "source": [
        ""
      ],
      "id": "a754fbce"
    },
    {
      "cell_type": "code",
      "execution_count": null,
      "metadata": {
        "id": "QwEeX5Unk0wC"
      },
      "outputs": [],
      "source": [
        ""
      ],
      "id": "QwEeX5Unk0wC"
    },
    {
      "cell_type": "code",
      "execution_count": null,
      "metadata": {
        "id": "9DPOGkeZk0tX"
      },
      "outputs": [],
      "source": [
        ""
      ],
      "id": "9DPOGkeZk0tX"
    },
    {
      "cell_type": "code",
      "execution_count": null,
      "metadata": {
        "id": "9b9e1c9a"
      },
      "outputs": [],
      "source": [
        ""
      ],
      "id": "9b9e1c9a"
    },
    {
      "cell_type": "markdown",
      "metadata": {
        "id": "robust-wisdom"
      },
      "source": [
        "## <p style=\"background-color:#9d4f8c; font-family:newtimeroman; color:#FFF9ED; font-size:150%; text-align:center; border-radius:10px 10px;\">HISTOGRAM</p>\n",
        "\n",
        "<a id=\"5\"></a>\n",
        "<a href=\"#toc\" class=\"btn btn-primary btn-sm\" role=\"button\" aria-pressed=\"true\" \n",
        "style=\"color:blue; background-color:#dfa8e4\" data-toggle=\"popover\">Content</a>"
      ],
      "id": "robust-wisdom"
    },
    {
      "cell_type": "markdown",
      "metadata": {
        "id": "05cb51f6"
      },
      "source": [
        "![Capture9.PNG](attachment:Capture9.PNG)"
      ],
      "id": "05cb51f6"
    },
    {
      "cell_type": "code",
      "execution_count": null,
      "metadata": {
        "id": "cZrSONmG8GXX"
      },
      "outputs": [],
      "source": [
        ""
      ],
      "id": "cZrSONmG8GXX"
    },
    {
      "cell_type": "code",
      "execution_count": null,
      "metadata": {
        "id": "continent-sperm"
      },
      "outputs": [],
      "source": [
        ""
      ],
      "id": "continent-sperm"
    },
    {
      "cell_type": "code",
      "execution_count": null,
      "metadata": {
        "id": "sharp-answer"
      },
      "outputs": [],
      "source": [
        ""
      ],
      "id": "sharp-answer"
    },
    {
      "cell_type": "code",
      "execution_count": null,
      "metadata": {
        "id": "eab1a90e"
      },
      "outputs": [],
      "source": [
        ""
      ],
      "id": "eab1a90e"
    },
    {
      "cell_type": "code",
      "execution_count": null,
      "metadata": {
        "id": "1Fbf3L2-ca1v"
      },
      "outputs": [],
      "source": [
        ""
      ],
      "id": "1Fbf3L2-ca1v"
    },
    {
      "cell_type": "code",
      "execution_count": null,
      "metadata": {
        "id": "_bMzECY3cbLX"
      },
      "outputs": [],
      "source": [
        ""
      ],
      "id": "_bMzECY3cbLX"
    },
    {
      "cell_type": "markdown",
      "metadata": {
        "id": "bca54923"
      },
      "source": [
        "## <p style=\"background-color:#9d4f8c; font-family:newtimeroman; color:#FFF9ED; font-size:150%; text-align:center; border-radius:10px 10px;\">BOX PLOT</p>\n",
        "\n",
        "<a id=\"6\"></a>\n",
        "<a href=\"#toc\" class=\"btn btn-primary btn-sm\" role=\"button\" aria-pressed=\"true\" \n",
        "style=\"color:blue; background-color:#dfa8e4\" data-toggle=\"popover\">Content</a>"
      ],
      "id": "bca54923"
    },
    {
      "cell_type": "markdown",
      "metadata": {
        "id": "happy-original"
      },
      "source": [
        "A `box plot` is a way of statistically representing the *distribution* of the data through five main dimensions:\n",
        "\n",
        "*   **Minimum:** The smallest number in the dataset excluding the outliers.\n",
        "*   **First quartile:** Middle number between the `minimum` and the `median`.\n",
        "*   **Second quartile (Median):** Middle number of the (sorted) dataset.\n",
        "*   **Third quartile:** Middle number between `median` and `maximum`.\n",
        "*   **Maximum:** The largest number in the dataset excluding the outliers.\n",
        "\n",
        "https://matplotlib.org/3.1.1/api/_as_gen/matplotlib.pyplot.boxplot.html\n",
        "\n",
        "https://towardsdatascience.com/creating-boxplots-of-well-log-data-using-matplotlib-in-python-34c3816e73f4\n",
        "\n",
        "https://stackabuse.com/matplotlib-box-plot-tutorial-and-examples/\n",
        "\n",
        "https://www.tutorialspoint.com/matplotlib/matplotlib_box_plot.htm\n",
        "\n",
        "https://blog.finxter.com/matplotlib-boxplot/\n",
        "\n",
        "https://www.youtube.com/watch?v=qb6krT2k3xw\n",
        "\n",
        "https://youtu.be/xAoljeRJ3lU"
      ],
      "id": "happy-original"
    },
    {
      "cell_type": "markdown",
      "metadata": {
        "id": "aa6ff07a"
      },
      "source": [
        "![Capture10.PNG](attachment:Capture10.PNG)"
      ],
      "id": "aa6ff07a"
    },
    {
      "cell_type": "markdown",
      "metadata": {
        "id": "cx13fXFNlUXD"
      },
      "source": [
        "<img src=\"https://cf-courses-data.s3.us.cloud-object-storage.appdomain.cloud/IBMDeveloperSkillsNetwork-DV0101EN-SkillsNetwork/labs/Module%203/images/boxplot_complete.png\" width=440, align=\"center\">"
      ],
      "id": "cx13fXFNlUXD"
    },
    {
      "cell_type": "code",
      "execution_count": null,
      "metadata": {
        "id": "roman-delivery"
      },
      "outputs": [],
      "source": [
        ""
      ],
      "id": "roman-delivery"
    },
    {
      "cell_type": "code",
      "execution_count": null,
      "metadata": {
        "id": "tk6lc-vifDGu"
      },
      "outputs": [],
      "source": [
        ""
      ],
      "id": "tk6lc-vifDGu"
    },
    {
      "cell_type": "code",
      "execution_count": null,
      "metadata": {
        "id": "ecological-cargo"
      },
      "outputs": [],
      "source": [
        ""
      ],
      "id": "ecological-cargo"
    },
    {
      "cell_type": "code",
      "execution_count": null,
      "metadata": {
        "id": "217cbca0"
      },
      "outputs": [],
      "source": [
        ""
      ],
      "id": "217cbca0"
    },
    {
      "cell_type": "code",
      "execution_count": null,
      "metadata": {
        "id": "directed-accreditation"
      },
      "outputs": [],
      "source": [
        ""
      ],
      "id": "directed-accreditation"
    },
    {
      "cell_type": "code",
      "execution_count": null,
      "metadata": {
        "id": "60228623"
      },
      "outputs": [],
      "source": [
        ""
      ],
      "id": "60228623"
    },
    {
      "cell_type": "code",
      "execution_count": null,
      "metadata": {
        "id": "processed-learning"
      },
      "outputs": [],
      "source": [
        ""
      ],
      "id": "processed-learning"
    },
    {
      "cell_type": "markdown",
      "metadata": {
        "id": "square-throat"
      },
      "source": [
        "## <p style=\"background-color:#9d4f8c; font-family:newtimeroman; color:#FFF9ED; font-size:150%; text-align:center; border-radius:10px 10px;\">PIE CHART</p>\n",
        "\n",
        "<a id=\"7\"></a>\n",
        "<a href=\"#toc\" class=\"btn btn-primary btn-sm\" role=\"button\" aria-pressed=\"true\" \n",
        "style=\"color:blue; background-color:#dfa8e4\" data-toggle=\"popover\">Content</a>\n",
        "\n",
        "A `pie chart` is a circular graphic that displays numeric proportions by dividing a circle (or pie) into proportional slices. You are most likely already familiar with pie charts as it is widely used in business and media. We can create pie charts in Matplotlib by passing in the `kind=pie` keyword.\n",
        "\n",
        "https://matplotlib.org/stable/gallery/pie_and_polar_charts/pie_features.html\n",
        "\n",
        "https://www.tutorialspoint.com/matplotlib/matplotlib_pie_chart.htm\n",
        "\n",
        "https://pythonguides.com/matplotlib-pie-chart/\n",
        "\n",
        "https://stackabuse.com/matplotlib-pie-chart-tutorial-and-examples/\n",
        "\n",
        "https://www.youtube.com/watch?v=MPiz50TsyF0\n",
        "\n",
        "https://www.youtube.com/watch?v=oUe2Q2yz5tM"
      ],
      "id": "square-throat"
    },
    {
      "cell_type": "markdown",
      "metadata": {
        "id": "eac6279b"
      },
      "source": [
        "![Capture11.PNG](attachment:Capture11.PNG)"
      ],
      "id": "eac6279b"
    },
    {
      "cell_type": "code",
      "execution_count": null,
      "metadata": {
        "id": "phantom-dream"
      },
      "outputs": [],
      "source": [
        ""
      ],
      "id": "phantom-dream"
    },
    {
      "cell_type": "markdown",
      "metadata": {
        "id": "QUEt22QFmabN"
      },
      "source": [
        "The above visual is not very clear, the numbers and text overlap in some instances. Let's make a few modifications to improve the visuals:\n",
        "\n",
        "*   Remove the text labels on the pie chart by passing in `legend` and add it as a seperate legend using `plt.legend()`.\n",
        "*   Push out the percentages to sit just outside the pie chart by passing in `pctdistance` parameter.\n",
        "*   Pass in a custom set of colors for continents by passing in `colors` parameter.\n",
        "*   **Explode** the pie chart to emphasize the lowest three continents (Bananas, Apples, Dates and Cherries) by passing in `explode` parameter."
      ],
      "id": "QUEt22QFmabN"
    },
    {
      "cell_type": "code",
      "execution_count": null,
      "metadata": {
        "id": "lucky-appliance"
      },
      "outputs": [],
      "source": [
        ""
      ],
      "id": "lucky-appliance"
    },
    {
      "cell_type": "code",
      "execution_count": null,
      "metadata": {
        "id": "steady-green"
      },
      "outputs": [],
      "source": [
        ""
      ],
      "id": "steady-green"
    },
    {
      "cell_type": "markdown",
      "metadata": {
        "id": "worst-samoa"
      },
      "source": [
        "![image.png](attachment:image.png)"
      ],
      "id": "worst-samoa"
    },
    {
      "cell_type": "code",
      "execution_count": null,
      "metadata": {
        "id": "parental-cooperation"
      },
      "outputs": [],
      "source": [
        ""
      ],
      "id": "parental-cooperation"
    },
    {
      "cell_type": "code",
      "execution_count": null,
      "metadata": {
        "id": "terminal-maker"
      },
      "outputs": [],
      "source": [
        ""
      ],
      "id": "terminal-maker"
    },
    {
      "cell_type": "code",
      "execution_count": null,
      "metadata": {
        "id": "yellow-seeking"
      },
      "outputs": [],
      "source": [
        ""
      ],
      "id": "yellow-seeking"
    },
    {
      "cell_type": "markdown",
      "metadata": {
        "id": "geographic-equipment"
      },
      "source": [
        "## <p style=\"background-color:#9d4f8c; font-family:newtimeroman; color:#FFF9ED; font-size:150%; text-align:center; border-radius:10px 10px;\">PANDAS SCATTER</p>\n",
        "\n",
        "<a id=\"8\"></a>\n",
        "<a href=\"#toc\" class=\"btn btn-primary btn-sm\" role=\"button\" aria-pressed=\"true\" \n",
        "style=\"color:blue; background-color:#dfa8e4\" data-toggle=\"popover\">Content</a>\n",
        "\n",
        "https://pandas.pydata.org/pandas-docs/version/0.25.0/reference/api/pandas.DataFrame.plot.scatter.html\n",
        "\n",
        "https://www.geeksforgeeks.org/pandas-scatter-plot-dataframe-plot-scatter/#:~:text=A%20Scatter%20plot%20is%20a,relationship%20between%20two%20numerical%20variables.&text=Calling%20the%20scatter()%20method,two%20columns%20of%20pandas%20DataFrame.\n",
        "\n",
        "https://data36.com/scatter-plot-pandas-matplotlib/\n",
        "\n",
        "https://pythontic.com/pandas/dataframe-plotting/scatter%20plot\n",
        "\n",
        "https://saralgyaan.com/posts/matplotlib-tutorial-in-python-chapter-6-scatter-plotting/\n",
        "\n",
        "https://www.youtube.com/watch?v=0IKz-KxDCuM\n",
        "\n",
        "https://www.youtube.com/watch?v=DWhwQ1_oXnw\n",
        "\n",
        "https://www.youtube.com/watch?v=i_H5fjqRUDE\n",
        "\n",
        "https://www.youtube.com/watch?v=9q-d7TzRjG0&t=28s"
      ],
      "id": "geographic-equipment"
    },
    {
      "cell_type": "code",
      "execution_count": null,
      "metadata": {
        "colab": {
          "base_uri": "https://localhost:8080/",
          "height": 296
        },
        "id": "directed-brain",
        "outputId": "7aab1956-8be4-490e-90b8-d430e842b1df"
      },
      "outputs": [
        {
          "ename": "NameError",
          "evalue": "name 'tips' is not defined",
          "output_type": "error",
          "traceback": [
            "\u001b[1;31m---------------------------------------------------------------------------\u001b[0m",
            "\u001b[1;31mNameError\u001b[0m                                 Traceback (most recent call last)",
            "\u001b[1;32m<ipython-input-9-a9888c3042aa>\u001b[0m in \u001b[0;36m<module>\u001b[1;34m\u001b[0m\n\u001b[1;32m----> 1\u001b[1;33m \u001b[0mtips\u001b[0m\u001b[1;33m.\u001b[0m\u001b[0mplot\u001b[0m\u001b[1;33m.\u001b[0m\u001b[0mscatter\u001b[0m\u001b[1;33m(\u001b[0m\u001b[0mx\u001b[0m\u001b[1;33m=\u001b[0m\u001b[1;34m'tip'\u001b[0m\u001b[1;33m,\u001b[0m \u001b[0my\u001b[0m\u001b[1;33m=\u001b[0m\u001b[1;34m'total_bill'\u001b[0m\u001b[1;33m)\u001b[0m\u001b[1;33m;\u001b[0m\u001b[1;33m\u001b[0m\u001b[1;33m\u001b[0m\u001b[0m\n\u001b[0m",
            "\u001b[1;31mNameError\u001b[0m: name 'tips' is not defined"
          ]
        }
      ],
      "source": [
        "tips.plot.scatter(x='tip', y='total_bill');"
      ],
      "id": "directed-brain"
    },
    {
      "cell_type": "code",
      "execution_count": null,
      "metadata": {
        "colab": {
          "base_uri": "https://localhost:8080/",
          "height": 296
        },
        "id": "greater-savannah",
        "outputId": "0d85cb7e-4262-4291-efb1-9f8c95a66fb7"
      },
      "outputs": [
        {
          "ename": "NameError",
          "evalue": "name 'tips' is not defined",
          "output_type": "error",
          "traceback": [
            "\u001b[1;31m---------------------------------------------------------------------------\u001b[0m",
            "\u001b[1;31mNameError\u001b[0m                                 Traceback (most recent call last)",
            "\u001b[1;32m<ipython-input-10-24d4b7dc5b9e>\u001b[0m in \u001b[0;36m<module>\u001b[1;34m\u001b[0m\n\u001b[1;32m----> 1\u001b[1;33m \u001b[0mtips\u001b[0m\u001b[1;33m.\u001b[0m\u001b[0mplot\u001b[0m\u001b[1;33m(\u001b[0m\u001b[0mx\u001b[0m\u001b[1;33m=\u001b[0m\u001b[1;34m'tip'\u001b[0m\u001b[1;33m,\u001b[0m \u001b[0my\u001b[0m\u001b[1;33m=\u001b[0m\u001b[1;34m'total_bill'\u001b[0m\u001b[1;33m,\u001b[0m \u001b[0mkind\u001b[0m\u001b[1;33m=\u001b[0m\u001b[1;34m\"scatter\"\u001b[0m\u001b[1;33m)\u001b[0m\u001b[1;33m;\u001b[0m\u001b[1;33m\u001b[0m\u001b[1;33m\u001b[0m\u001b[0m\n\u001b[0m",
            "\u001b[1;31mNameError\u001b[0m: name 'tips' is not defined"
          ]
        }
      ],
      "source": [
        "tips.plot(x='tip', y='total_bill', kind=\"scatter\");"
      ],
      "id": "greater-savannah"
    },
    {
      "cell_type": "markdown",
      "metadata": {
        "id": "speaking-composer"
      },
      "source": [
        "## <p style=\"background-color:#9d4f8c; font-family:newtimeroman; color:#FFF9ED; font-size:150%; text-align:center; border-radius:10px 10px;\">PANDAS BAR PLOT</p>\n",
        "\n",
        "<a id=\"9\"></a>\n",
        "<a href=\"#toc\" class=\"btn btn-primary btn-sm\" role=\"button\" aria-pressed=\"true\" \n",
        "style=\"color:blue; background-color:#dfa8e4\" data-toggle=\"popover\">Content</a>\n",
        "\n",
        "https://pandas.pydata.org/docs/reference/api/pandas.DataFrame.plot.bar.html\n",
        "\n",
        "https://pythontic.com/pandas/dataframe-plotting/bar%20chart\n",
        "\n",
        "https://stackoverflow.com/questions/29498652/plot-bar-graph-from-pandas-dataframe\n",
        "\n",
        "https://www.youtube.com/watch?v=lRPisI6kzLg\n",
        "\n",
        "https://www.youtube.com/watch?v=lRPisI6kzLg\n",
        "\n",
        "https://youtu.be/lomuFOEGLSM"
      ],
      "id": "speaking-composer"
    },
    {
      "cell_type": "code",
      "execution_count": null,
      "metadata": {
        "colab": {
          "base_uri": "https://localhost:8080/",
          "height": 279
        },
        "id": "JfOm3eU4Ffk3",
        "outputId": "98380ff8-4fa8-493c-c6b0-4ce243cabc6a"
      },
      "outputs": [
        {
          "name": "stdout",
          "output_type": "stream",
          "text": [
            "          a         b         c         d\n",
            "0  0.192037  0.602551  0.604820  0.026770\n",
            "1  0.076753  0.861262  0.367835  0.155015\n",
            "2  0.215712  0.880915  0.400154  0.683240\n",
            "3  0.787539  0.090410  0.610240  0.152993\n",
            "4  0.226991  0.622118  0.317458  0.349787\n"
          ]
        },
        {
          "data": {
            "text/plain": [
              "<AxesSubplot:>"
            ]
          },
          "execution_count": 11,
          "metadata": {},
          "output_type": "execute_result"
        },
        {
          "data": {
            "image/png": "[encoded data removed]",
            "text/plain": [
              "<Figure size 432x288 with 1 Axes>"
            ]
          },
          "metadata": {
            "needs_background": "light"
          },
          "output_type": "display_data"
        }
      ],
      "source": [
        "df = pd.DataFrame(np.random.rand(5, 4), columns=['a', 'b', 'c', 'd'])\n",
        "print(df)\n",
        "df.plot.bar()\n",
        "# df.plot.bar(rot=0)\n",
        "# plt.legend(loc=(1.04, 0));"
      ],
      "id": "JfOm3eU4Ffk3"
    },
    {
      "cell_type": "code",
      "execution_count": null,
      "metadata": {
        "colab": {
          "base_uri": "https://localhost:8080/",
          "height": 279
        },
        "id": "ka9mTO-qFptY",
        "outputId": "cec8ac07-c038-48b4-f917-0d5ae1f77336"
      },
      "outputs": [
        {
          "data": {
            "image/png": "[encoded data removed]",
            "text/plain": [
              "<Figure size 432x288 with 1 Axes>"
            ]
          },
          "metadata": {
            "needs_background": "light"
          },
          "output_type": "display_data"
        }
      ],
      "source": [
        "df = pd.DataFrame(np.random.rand(5, 4), columns=['a', 'b', 'c', 'd'])\n",
        "df.plot.bar(stacked=True);"
      ],
      "id": "ka9mTO-qFptY"
    },
    {
      "cell_type": "code",
      "execution_count": null,
      "metadata": {
        "colab": {
          "base_uri": "https://localhost:8080/",
          "height": 309
        },
        "id": "T1f6-TyYBAV9",
        "outputId": "8f75f4ac-6029-4330-b112-7225c7a65f52"
      },
      "outputs": [
        {
          "ename": "NameError",
          "evalue": "name 'tips' is not defined",
          "output_type": "error",
          "traceback": [
            "\u001b[1;31m---------------------------------------------------------------------------\u001b[0m",
            "\u001b[1;31mNameError\u001b[0m                                 Traceback (most recent call last)",
            "\u001b[1;32m<ipython-input-13-fdb321f2bba1>\u001b[0m in \u001b[0;36m<module>\u001b[1;34m\u001b[0m\n\u001b[1;32m----> 1\u001b[1;33m \u001b[0mtips\u001b[0m\u001b[1;33m.\u001b[0m\u001b[0mgroupby\u001b[0m\u001b[1;33m(\u001b[0m\u001b[1;34m\"day\"\u001b[0m\u001b[1;33m)\u001b[0m\u001b[1;33m[\u001b[0m\u001b[1;34m\"tip\"\u001b[0m\u001b[1;33m]\u001b[0m\u001b[1;33m.\u001b[0m\u001b[0msum\u001b[0m\u001b[1;33m(\u001b[0m\u001b[1;33m)\u001b[0m\u001b[1;33m.\u001b[0m\u001b[0mplot\u001b[0m\u001b[1;33m.\u001b[0m\u001b[0mbar\u001b[0m\u001b[1;33m(\u001b[0m\u001b[0mx\u001b[0m\u001b[1;33m=\u001b[0m\u001b[1;34m\"day\"\u001b[0m\u001b[1;33m,\u001b[0m \u001b[0my\u001b[0m\u001b[1;33m=\u001b[0m\u001b[1;34m\"tip\"\u001b[0m\u001b[1;33m)\u001b[0m\u001b[1;33m;\u001b[0m\u001b[1;33m\u001b[0m\u001b[1;33m\u001b[0m\u001b[0m\n\u001b[0m",
            "\u001b[1;31mNameError\u001b[0m: name 'tips' is not defined"
          ]
        }
      ],
      "source": [
        "tips.groupby(\"day\")[\"tip\"].sum().plot.bar(x=\"day\", y=\"tip\");"
      ],
      "id": "T1f6-TyYBAV9"
    },
    {
      "cell_type": "code",
      "execution_count": null,
      "metadata": {
        "colab": {
          "base_uri": "https://localhost:8080/",
          "height": 322
        },
        "id": "optical-command",
        "outputId": "588b85f2-a203-4e02-9fe6-890aac4076ba"
      },
      "outputs": [
        {
          "ename": "NameError",
          "evalue": "name 'tips' is not defined",
          "output_type": "error",
          "traceback": [
            "\u001b[1;31m---------------------------------------------------------------------------\u001b[0m",
            "\u001b[1;31mNameError\u001b[0m                                 Traceback (most recent call last)",
            "\u001b[1;32m<ipython-input-14-facb6b5adfd2>\u001b[0m in \u001b[0;36m<module>\u001b[1;34m\u001b[0m\n\u001b[1;32m----> 1\u001b[1;33m \u001b[0mtips\u001b[0m\u001b[1;33m.\u001b[0m\u001b[0mgroupby\u001b[0m\u001b[1;33m(\u001b[0m\u001b[1;34m\"sex\"\u001b[0m\u001b[1;33m)\u001b[0m\u001b[1;33m[\u001b[0m\u001b[1;34m\"tip\"\u001b[0m\u001b[1;33m]\u001b[0m\u001b[1;33m.\u001b[0m\u001b[0msum\u001b[0m\u001b[1;33m(\u001b[0m\u001b[1;33m)\u001b[0m\u001b[1;33m.\u001b[0m\u001b[0mplot\u001b[0m\u001b[1;33m.\u001b[0m\u001b[0mbar\u001b[0m\u001b[1;33m(\u001b[0m\u001b[0mx\u001b[0m\u001b[1;33m=\u001b[0m\u001b[1;34m\"sex\"\u001b[0m\u001b[1;33m,\u001b[0m\u001b[0my\u001b[0m\u001b[1;33m=\u001b[0m\u001b[1;34m\"tip\"\u001b[0m\u001b[1;33m)\u001b[0m\u001b[1;33m;\u001b[0m\u001b[1;33m\u001b[0m\u001b[1;33m\u001b[0m\u001b[0m\n\u001b[0m",
            "\u001b[1;31mNameError\u001b[0m: name 'tips' is not defined"
          ]
        }
      ],
      "source": [
        "tips.groupby(\"sex\")[\"tip\"].sum().plot.bar(x=\"sex\",y=\"tip\");"
      ],
      "id": "optical-command"
    },
    {
      "cell_type": "markdown",
      "metadata": {
        "id": "d6c20708"
      },
      "source": [
        "## <p style=\"background-color:#9d4f8c; font-family:newtimeroman; color:#FFF9ED; font-size:150%; text-align:center; border-radius:10px 10px;\">PANDAS HISTOGRAM</p>\n",
        "\n",
        "<a id=\"10\"></a>\n",
        "<a href=\"#toc\" class=\"btn btn-primary btn-sm\" role=\"button\" aria-pressed=\"true\" \n",
        "style=\"color:blue; background-color:#dfa8e4\" data-toggle=\"popover\">Content</a>\n",
        "\n",
        "https://pandas.pydata.org/docs/reference/api/pandas.DataFrame.hist.html\n",
        "\n",
        "https://www.machinelearningplus.com/pandas/pandas-histogram/\n",
        "\n",
        "https://www.dataindependent.com/pandas/pandas-histogram/\n",
        "\n",
        "https://www.tutorialspoint.com/python-plot-a-histogram-for-pandas-dataframe-with-matplotlib\n",
        "\n",
        "https://www.youtube.com/watch?v=zNvxJNQhmRs\n",
        "\n",
        "https://youtu.be/zNvxJNQhmRs"
      ],
      "id": "d6c20708"
    },
    {
      "cell_type": "code",
      "execution_count": null,
      "metadata": {
        "colab": {
          "base_uri": "https://localhost:8080/",
          "height": 282
        },
        "id": "changed-eclipse",
        "outputId": "8111b737-cf42-4b43-ca7f-f275455544dd"
      },
      "outputs": [
        {
          "ename": "NameError",
          "evalue": "name 'tips' is not defined",
          "output_type": "error",
          "traceback": [
            "\u001b[1;31m---------------------------------------------------------------------------\u001b[0m",
            "\u001b[1;31mNameError\u001b[0m                                 Traceback (most recent call last)",
            "\u001b[1;32m<ipython-input-15-d133cbb05ed1>\u001b[0m in \u001b[0;36m<module>\u001b[1;34m\u001b[0m\n\u001b[1;32m----> 1\u001b[1;33m \u001b[0mtips\u001b[0m\u001b[1;33m.\u001b[0m\u001b[0mplot\u001b[0m\u001b[1;33m.\u001b[0m\u001b[0mhist\u001b[0m\u001b[1;33m(\u001b[0m\u001b[0mbins\u001b[0m\u001b[1;33m=\u001b[0m\u001b[1;36m50\u001b[0m\u001b[1;33m)\u001b[0m\u001b[1;33m;\u001b[0m\u001b[1;33m\u001b[0m\u001b[1;33m\u001b[0m\u001b[0m\n\u001b[0m",
            "\u001b[1;31mNameError\u001b[0m: name 'tips' is not defined"
          ]
        }
      ],
      "source": [
        "tips.plot.hist(bins=50);"
      ],
      "id": "changed-eclipse"
    },
    {
      "cell_type": "code",
      "execution_count": null,
      "metadata": {
        "colab": {
          "base_uri": "https://localhost:8080/",
          "height": 281
        },
        "id": "national-founder",
        "outputId": "bb59195c-2449-4b4d-f814-188d4299b574"
      },
      "outputs": [
        {
          "ename": "NameError",
          "evalue": "name 'tips' is not defined",
          "output_type": "error",
          "traceback": [
            "\u001b[1;31m---------------------------------------------------------------------------\u001b[0m",
            "\u001b[1;31mNameError\u001b[0m                                 Traceback (most recent call last)",
            "\u001b[1;32m<ipython-input-16-697014b9d801>\u001b[0m in \u001b[0;36m<module>\u001b[1;34m\u001b[0m\n\u001b[1;32m----> 1\u001b[1;33m \u001b[0mtips\u001b[0m\u001b[1;33m[\u001b[0m\u001b[1;33m[\u001b[0m\u001b[1;34m\"tip\"\u001b[0m\u001b[1;33m,\u001b[0m \u001b[1;34m\"total_bill\"\u001b[0m\u001b[1;33m,\u001b[0m \u001b[1;34m\"size\"\u001b[0m\u001b[1;33m]\u001b[0m\u001b[1;33m]\u001b[0m\u001b[1;33m.\u001b[0m\u001b[0mdiff\u001b[0m\u001b[1;33m(\u001b[0m\u001b[1;33m)\u001b[0m\u001b[1;33m.\u001b[0m\u001b[0mhist\u001b[0m\u001b[1;33m(\u001b[0m\u001b[0mbins\u001b[0m\u001b[1;33m=\u001b[0m\u001b[1;36m10\u001b[0m\u001b[1;33m)\u001b[0m\u001b[1;33m\u001b[0m\u001b[1;33m\u001b[0m\u001b[0m\n\u001b[0m\u001b[0;32m      2\u001b[0m \u001b[0mplt\u001b[0m\u001b[1;33m.\u001b[0m\u001b[0mshow\u001b[0m\u001b[1;33m(\u001b[0m\u001b[1;33m)\u001b[0m\u001b[1;33m\u001b[0m\u001b[1;33m\u001b[0m\u001b[0m\n",
            "\u001b[1;31mNameError\u001b[0m: name 'tips' is not defined"
          ]
        }
      ],
      "source": [
        "tips[[\"tip\", \"total_bill\", \"size\"]].diff().hist(bins=10)\n",
        "plt.show()"
      ],
      "id": "national-founder"
    },
    {
      "cell_type": "markdown",
      "metadata": {
        "id": "academic-universal"
      },
      "source": [
        "## <p style=\"background-color:#9d4f8c; font-family:newtimeroman; color:#FFF9ED; font-size:150%; text-align:center; border-radius:10px 10px;\">PANDAS BOX PLOT</p>\n",
        "\n",
        "<a id=\"11\"></a>\n",
        "<a href=\"#toc\" class=\"btn btn-primary btn-sm\" role=\"button\" aria-pressed=\"true\" \n",
        "style=\"color:blue; background-color:#dfa8e4\" data-toggle=\"popover\">Content</a>\n",
        "\n",
        "a box plot is a method for graphically depicting groups of numerical data through their quartiles.\n",
        "\n",
        "a box plot generally shows median, 25th and 75th percentiles, and outliers.\n",
        "\n",
        "https://pandas.pydata.org/docs/reference/api/pandas.DataFrame.boxplot.html\n",
        "\n",
        "https://www.educative.io/edpresso/how-to-make-a-boxplot-in-pandas\n",
        "\n",
        "https://stackoverflow.com/questions/38120688/how-do-i-create-a-box-plot-for-each-column-in-a-pandas-dataframe\n",
        "\n",
        "https://www.youtube.com/watch?v=TJDYXmE1swY"
      ],
      "id": "academic-universal"
    },
    {
      "cell_type": "code",
      "execution_count": null,
      "metadata": {
        "colab": {
          "base_uri": "https://localhost:8080/",
          "height": 266
        },
        "id": "lucky-history",
        "outputId": "e9616d3e-d7a3-4e62-c17a-ec2548657c2e"
      },
      "outputs": [
        {
          "ename": "NameError",
          "evalue": "name 'tips' is not defined",
          "output_type": "error",
          "traceback": [
            "\u001b[1;31m---------------------------------------------------------------------------\u001b[0m",
            "\u001b[1;31mNameError\u001b[0m                                 Traceback (most recent call last)",
            "\u001b[1;32m<ipython-input-17-a29ee67c0c6a>\u001b[0m in \u001b[0;36m<module>\u001b[1;34m\u001b[0m\n\u001b[1;32m----> 1\u001b[1;33m \u001b[0mtips\u001b[0m\u001b[1;33m.\u001b[0m\u001b[0mplot\u001b[0m\u001b[1;33m.\u001b[0m\u001b[0mbox\u001b[0m\u001b[1;33m(\u001b[0m\u001b[1;33m)\u001b[0m\u001b[1;33m;\u001b[0m\u001b[1;33m\u001b[0m\u001b[1;33m\u001b[0m\u001b[0m\n\u001b[0m",
            "\u001b[1;31mNameError\u001b[0m: name 'tips' is not defined"
          ]
        }
      ],
      "source": [
        "tips.plot.box();"
      ],
      "id": "lucky-history"
    },
    {
      "cell_type": "markdown",
      "metadata": {
        "id": "bClfS9TyEkWO"
      },
      "source": [
        "## <p style=\"background-color:#9d4f8c; font-family:newtimeroman; color:#FFF9ED; font-size:150%; text-align:center; border-radius:10px 10px;\">PANDAS PIE CHART</p>\n",
        "\n",
        "<a id=\"12\"></a>\n",
        "<a href=\"#toc\" class=\"btn btn-primary btn-sm\" role=\"button\" aria-pressed=\"true\" \n",
        "style=\"color:blue; background-color:#dfa8e4\" data-toggle=\"popover\">Content</a>\n",
        "\n",
        "https://pandas.pydata.org/docs/reference/api/pandas.DataFrame.plot.pie.html\n",
        "\n",
        "https://www.plus2net.com/python/pandas-dataframe-plot-pie.php\n",
        "\n",
        "https://blog.finxter.com/boxplot-the-pandas-plotting-module/\n",
        "\n",
        "https://youtu.be/yWwlVsiefWQ\n",
        "\n",
        "https://www.youtube.com/watch?v=kX5oTJoadJ8\n",
        "\n",
        "https://www.youtube.com/watch?v=tWEYMIJdxjk"
      ],
      "id": "bClfS9TyEkWO"
    },
    {
      "cell_type": "code",
      "execution_count": null,
      "metadata": {
        "id": "c75ff806",
        "outputId": "a571abe1-9dea-4609-bb3c-7244f215bf7d"
      },
      "outputs": [
        {
          "ename": "NameError",
          "evalue": "name 'tips' is not defined",
          "output_type": "error",
          "traceback": [
            "\u001b[1;31m---------------------------------------------------------------------------\u001b[0m",
            "\u001b[1;31mNameError\u001b[0m                                 Traceback (most recent call last)",
            "\u001b[1;32m<ipython-input-18-53a0cf752a4f>\u001b[0m in \u001b[0;36m<module>\u001b[1;34m\u001b[0m\n\u001b[1;32m----> 1\u001b[1;33m \u001b[0mtips\u001b[0m\u001b[1;33m.\u001b[0m\u001b[0mhead\u001b[0m\u001b[1;33m(\u001b[0m\u001b[1;33m)\u001b[0m\u001b[1;33m\u001b[0m\u001b[1;33m\u001b[0m\u001b[0m\n\u001b[0m",
            "\u001b[1;31mNameError\u001b[0m: name 'tips' is not defined"
          ]
        }
      ],
      "source": [
        "tips.head()"
      ],
      "id": "c75ff806"
    },
    {
      "cell_type": "code",
      "execution_count": null,
      "metadata": {
        "id": "7c6bd945",
        "outputId": "32a9662e-e83f-46cb-cdd7-7ded5c51ee52"
      },
      "outputs": [
        {
          "ename": "NameError",
          "evalue": "name 'tips' is not defined",
          "output_type": "error",
          "traceback": [
            "\u001b[1;31m---------------------------------------------------------------------------\u001b[0m",
            "\u001b[1;31mNameError\u001b[0m                                 Traceback (most recent call last)",
            "\u001b[1;32m<ipython-input-19-8b9c56c87719>\u001b[0m in \u001b[0;36m<module>\u001b[1;34m\u001b[0m\n\u001b[1;32m----> 1\u001b[1;33m \u001b[0mtips\u001b[0m\u001b[1;33m.\u001b[0m\u001b[0mgroupby\u001b[0m\u001b[1;33m(\u001b[0m\u001b[1;34m\"day\"\u001b[0m\u001b[1;33m)\u001b[0m\u001b[1;33m.\u001b[0m\u001b[0msum\u001b[0m\u001b[1;33m(\u001b[0m\u001b[1;33m)\u001b[0m\u001b[1;33m\u001b[0m\u001b[1;33m\u001b[0m\u001b[0m\n\u001b[0m",
            "\u001b[1;31mNameError\u001b[0m: name 'tips' is not defined"
          ]
        }
      ],
      "source": [
        "tips.groupby(\"day\").sum()"
      ],
      "id": "7c6bd945"
    },
    {
      "cell_type": "code",
      "execution_count": null,
      "metadata": {
        "colab": {
          "base_uri": "https://localhost:8080/",
          "height": 303
        },
        "id": "32Z_OFZMDIYN",
        "outputId": "d92c4cd3-eaee-4092-f70c-8a6a46063d89"
      },
      "outputs": [
        {
          "ename": "NameError",
          "evalue": "name 'tips' is not defined",
          "output_type": "error",
          "traceback": [
            "\u001b[1;31m---------------------------------------------------------------------------\u001b[0m",
            "\u001b[1;31mNameError\u001b[0m                                 Traceback (most recent call last)",
            "\u001b[1;32m<ipython-input-20-b80600d4ad2c>\u001b[0m in \u001b[0;36m<module>\u001b[1;34m\u001b[0m\n\u001b[1;32m----> 1\u001b[1;33m \u001b[0mtips\u001b[0m\u001b[1;33m.\u001b[0m\u001b[0mgroupby\u001b[0m\u001b[1;33m(\u001b[0m\u001b[1;34m\"day\"\u001b[0m\u001b[1;33m)\u001b[0m\u001b[1;33m.\u001b[0m\u001b[0msum\u001b[0m\u001b[1;33m(\u001b[0m\u001b[1;33m)\u001b[0m\u001b[1;33m.\u001b[0m\u001b[0mplot\u001b[0m\u001b[1;33m.\u001b[0m\u001b[0mpie\u001b[0m\u001b[1;33m(\u001b[0m\u001b[0msubplots\u001b[0m\u001b[1;33m=\u001b[0m\u001b[1;32mTrue\u001b[0m\u001b[1;33m,\u001b[0m \u001b[0mfigsize\u001b[0m\u001b[1;33m=\u001b[0m\u001b[1;33m(\u001b[0m\u001b[1;36m18\u001b[0m\u001b[1;33m,\u001b[0m \u001b[1;36m5\u001b[0m\u001b[1;33m)\u001b[0m\u001b[1;33m,\u001b[0m \u001b[0mautopct\u001b[0m\u001b[1;33m=\u001b[0m\u001b[1;34m\"%.2f\"\u001b[0m\u001b[1;33m,\u001b[0m \u001b[0mlabeldistance\u001b[0m\u001b[1;33m=\u001b[0m\u001b[1;36m0.8\u001b[0m\u001b[1;33m)\u001b[0m\u001b[1;33m\u001b[0m\u001b[1;33m\u001b[0m\u001b[0m\n\u001b[0m\u001b[0;32m      2\u001b[0m \u001b[0mplt\u001b[0m\u001b[1;33m.\u001b[0m\u001b[0mlegend\u001b[0m\u001b[1;33m(\u001b[0m\u001b[1;33m)\u001b[0m\u001b[1;33m\u001b[0m\u001b[1;33m\u001b[0m\u001b[0m\n\u001b[0;32m      3\u001b[0m \u001b[0mplt\u001b[0m\u001b[1;33m.\u001b[0m\u001b[0mshow\u001b[0m\u001b[1;33m(\u001b[0m\u001b[1;33m)\u001b[0m\u001b[1;33m\u001b[0m\u001b[1;33m\u001b[0m\u001b[0m\n",
            "\u001b[1;31mNameError\u001b[0m: name 'tips' is not defined"
          ]
        }
      ],
      "source": [
        "tips.groupby(\"day\").sum().plot.pie(subplots=True, figsize=(18, 5), autopct=\"%.2f\", labeldistance=0.8)\n",
        "plt.legend()\n",
        "plt.show()"
      ],
      "id": "32Z_OFZMDIYN"
    },
    {
      "cell_type": "markdown",
      "metadata": {
        "id": "46f527ed"
      },
      "source": [
        "## <p style=\"background-color:#9d4f8c; font-family:newtimeroman; color:#FFF9ED; font-size:150%; text-align:center; border-radius:10px 10px;\">KERNEL DENSITY ESTIMATION (KDE)</p>\n",
        "\n",
        "<a id=\"13\"></a>\n",
        "<a href=\"#toc\" class=\"btn btn-primary btn-sm\" role=\"button\" aria-pressed=\"true\" \n",
        "style=\"color:blue; background-color:#dfa8e4\" data-toggle=\"popover\">Content</a>\n",
        "\n",
        "https://pandas.pydata.org/docs/reference/api/pandas.DataFrame.plot.kde.html\n",
        "\n",
        "https://www.geeksforgeeks.org/kde-plot-visualization-with-pandas-and-seaborn/\n",
        "\n",
        "https://neptune.ai/blog/pandas-plot-deep-dive-into-plotting-directly-with-pandas"
      ],
      "id": "46f527ed"
    },
    {
      "cell_type": "code",
      "execution_count": null,
      "metadata": {
        "colab": {
          "base_uri": "https://localhost:8080/",
          "height": 269
        },
        "id": "third-thesis",
        "outputId": "5f3de400-07d0-445d-a523-248a5fd21852"
      },
      "outputs": [
        {
          "data": {
            "image/png": "[encoded data removed]",
            "text/plain": [
              "<Figure size 432x288 with 1 Axes>"
            ]
          },
          "metadata": {
            "needs_background": "light"
          },
          "output_type": "display_data"
        }
      ],
      "source": [
        "df_kde = pd.Series(np.random.randn(1000))\n",
        "\n",
        "df_kde.plot.kde();"
      ],
      "id": "third-thesis"
    },
    {
      "cell_type": "code",
      "execution_count": null,
      "metadata": {
        "colab": {
          "base_uri": "https://localhost:8080/",
          "height": 282
        },
        "id": "solid-nevada",
        "outputId": "4c4233a9-0f60-46ae-c608-9a8437cf30f0"
      },
      "outputs": [
        {
          "ename": "NameError",
          "evalue": "name 'tips' is not defined",
          "output_type": "error",
          "traceback": [
            "\u001b[1;31m---------------------------------------------------------------------------\u001b[0m",
            "\u001b[1;31mNameError\u001b[0m                                 Traceback (most recent call last)",
            "\u001b[1;32m<ipython-input-22-6c5c7a9bb735>\u001b[0m in \u001b[0;36m<module>\u001b[1;34m\u001b[0m\n\u001b[1;32m----> 1\u001b[1;33m \u001b[0mtips\u001b[0m\u001b[1;33m.\u001b[0m\u001b[0mgroupby\u001b[0m\u001b[1;33m(\u001b[0m\u001b[1;34m\"day\"\u001b[0m\u001b[1;33m)\u001b[0m\u001b[1;33m[\u001b[0m\u001b[1;34m\"size\"\u001b[0m\u001b[1;33m,\u001b[0m \u001b[1;34m\"tip\"\u001b[0m\u001b[1;33m]\u001b[0m\u001b[1;33m.\u001b[0m\u001b[0msum\u001b[0m\u001b[1;33m(\u001b[0m\u001b[1;33m)\u001b[0m\u001b[1;33m.\u001b[0m\u001b[0mplot\u001b[0m\u001b[1;33m.\u001b[0m\u001b[0mkde\u001b[0m\u001b[1;33m(\u001b[0m\u001b[1;33m)\u001b[0m\u001b[1;33m;\u001b[0m\u001b[1;33m\u001b[0m\u001b[1;33m\u001b[0m\u001b[0m\n\u001b[0m",
            "\u001b[1;31mNameError\u001b[0m: name 'tips' is not defined"
          ]
        }
      ],
      "source": [
        "tips.groupby(\"day\")[\"size\", \"tip\"].sum().plot.kde();"
      ],
      "id": "solid-nevada"
    },
    {
      "cell_type": "code",
      "execution_count": null,
      "metadata": {
        "id": "K3JAow7XFDOT"
      },
      "outputs": [],
      "source": [
        ""
      ],
      "id": "K3JAow7XFDOT"
    },
    {
      "cell_type": "markdown",
      "metadata": {
        "id": "coated-august"
      },
      "source": [
        "## <p style=\"background-color:#9d4f8c; font-family:newtimeroman; color:#FFF9ED; font-size:150%; text-align:center; border-radius:10px 10px;\">3-DIMENSIONAL PLOTTING IN MATPLOTLIB</p>\n",
        "\n",
        "<a id=\"14\"></a>\n",
        "<a href=\"#toc\" class=\"btn btn-primary btn-sm\" role=\"button\" aria-pressed=\"true\" \n",
        "style=\"color:blue; background-color:#dfa8e4\" data-toggle=\"popover\">Content</a>\n",
        "\n",
        "![image.png](attachment:image.png)\n",
        "\n",
        "Matplotlib was introduced keeping in mind, only two-dimensional plotting. But at the time when the release of 1.0 occurred, the 3d utilities were developed upon the 2d and thus, we have 3d implementation of data available today! The 3d plots are enabled by importing the mplot3d toolkit. \n",
        "\n",
        "https://www.tutorialspoint.com/matplotlib/matplotlib_three_dimensional_plotting.htm\n",
        "\n",
        "https://towardsdatascience.com/an-easy-introduction-to-3d-plotting-with-matplotlib-801561999725\n",
        "\n",
        "https://www.geeksforgeeks.org/three-dimensional-plotting-in-python-using-matplotlib/\n",
        "\n",
        "https://jakevdp.github.io/PythonDataScienceHandbook/04.12-three-dimensional-plotting.html\n",
        "\n",
        "https://www.youtube.com/watch?v=gqoLLGgbeAE\n",
        "\n",
        "https://www.youtube.com/watch?v=6ljHxJQ47Uk"
      ],
      "id": "coated-august"
    },
    {
      "cell_type": "code",
      "execution_count": null,
      "metadata": {
        "colab": {
          "base_uri": "https://localhost:8080/",
          "height": 248
        },
        "id": "phantom-briefing",
        "outputId": "7cb4fd07-d27d-4387-eb00-1250d3dd09b8"
      },
      "outputs": [
        {
          "data": {
            "image/png": "[encoded data removed]",
            "text/plain": [
              "<Figure size 864x576 with 1 Axes>"
            ]
          },
          "metadata": {
            "needs_background": "light"
          },
          "output_type": "display_data"
        }
      ],
      "source": [
        "from mpl_toolkits import mplot3d\n",
        "\n",
        "fig = plt.figure(figsize=(12, 8))\n",
        "ax = plt.axes(projection='3d')"
      ],
      "id": "phantom-briefing"
    },
    {
      "cell_type": "code",
      "execution_count": null,
      "metadata": {
        "colab": {
          "base_uri": "https://localhost:8080/",
          "height": 265
        },
        "id": "duplicate-fabric",
        "outputId": "1a54ca50-efb9-4f4b-a538-b9d9838098ad"
      },
      "outputs": [
        {
          "data": {
            "image/png": "[encoded data removed]",
            "text/plain": [
              "<Figure size 864x576 with 1 Axes>"
            ]
          },
          "metadata": {
            "needs_background": "light"
          },
          "output_type": "display_data"
        }
      ],
      "source": [
        "# Data for a three-dimensional line\n",
        "\n",
        "zline = np.linspace(0, 15, 1000)\n",
        "xline = np.sin(zline)\n",
        "yline = np.cos(zline)\n",
        "\n",
        "fig = plt.figure(figsize=(12, 8))\n",
        "ax = fig.add_subplot(projection='3d')\n",
        "\n",
        "ax.plot3D(xline, yline, zline, 'gray');"
      ],
      "id": "duplicate-fabric"
    },
    {
      "cell_type": "code",
      "execution_count": null,
      "metadata": {
        "colab": {
          "base_uri": "https://localhost:8080/",
          "height": 248
        },
        "id": "eiGQGbF7QVID",
        "outputId": "97e37919-5893-473d-acbf-8eee75fc5c6d"
      },
      "outputs": [
        {
          "data": {
            "image/png": "[encoded data removed]",
            "text/plain": [
              "<Figure size 864x576 with 1 Axes>"
            ]
          },
          "metadata": {
            "needs_background": "light"
          },
          "output_type": "display_data"
        }
      ],
      "source": [
        "# Data for three-dimensional scattered points\n",
        "\n",
        "zdata = 15 * np.random.random(100)\n",
        "xdata = np.sin(zdata) + 0.1 * np.random.randn(100)\n",
        "ydata = np.cos(zdata) + 0.1 * np.random.randn(100)\n",
        "\n",
        "fig = plt.figure(figsize=(12, 8))\n",
        "ax = fig.add_subplot(projection='3d')\n",
        "\n",
        "ax.scatter3D(xdata, ydata, zdata, c=zdata, cmap='Reds');"
      ],
      "id": "eiGQGbF7QVID"
    },
    {
      "cell_type": "code",
      "execution_count": null,
      "metadata": {
        "colab": {
          "base_uri": "https://localhost:8080/",
          "height": 417
        },
        "id": "informal-marine",
        "outputId": "83cf6142-c7f8-489a-b699-34f69615b7bd"
      },
      "outputs": [
        {
          "data": {
            "text/html": [
              "<div>\n",
              "<style scoped>\n",
              "    .dataframe tbody tr th:only-of-type {\n",
              "        vertical-align: middle;\n",
              "    }\n",
              "\n",
              "    .dataframe tbody tr th {\n",
              "        vertical-align: top;\n",
              "    }\n",
              "\n",
              "    .dataframe thead th {\n",
              "        text-align: right;\n",
              "    }\n",
              "</style>\n",
              "<table border=\"1\" class=\"dataframe\">\n",
              "  <thead>\n",
              "    <tr style=\"text-align: right;\">\n",
              "      <th></th>\n",
              "      <th>year</th>\n",
              "      <th>month</th>\n",
              "      <th>passengers</th>\n",
              "    </tr>\n",
              "  </thead>\n",
              "  <tbody>\n",
              "    <tr>\n",
              "      <th>0</th>\n",
              "      <td>1949</td>\n",
              "      <td>Jan</td>\n",
              "      <td>112</td>\n",
              "    </tr>\n",
              "    <tr>\n",
              "      <th>1</th>\n",
              "      <td>1949</td>\n",
              "      <td>Feb</td>\n",
              "      <td>118</td>\n",
              "    </tr>\n",
              "    <tr>\n",
              "      <th>2</th>\n",
              "      <td>1949</td>\n",
              "      <td>Mar</td>\n",
              "      <td>132</td>\n",
              "    </tr>\n",
              "    <tr>\n",
              "      <th>3</th>\n",
              "      <td>1949</td>\n",
              "      <td>Apr</td>\n",
              "      <td>129</td>\n",
              "    </tr>\n",
              "    <tr>\n",
              "      <th>4</th>\n",
              "      <td>1949</td>\n",
              "      <td>May</td>\n",
              "      <td>121</td>\n",
              "    </tr>\n",
              "    <tr>\n",
              "      <th>...</th>\n",
              "      <td>...</td>\n",
              "      <td>...</td>\n",
              "      <td>...</td>\n",
              "    </tr>\n",
              "    <tr>\n",
              "      <th>139</th>\n",
              "      <td>1960</td>\n",
              "      <td>Aug</td>\n",
              "      <td>606</td>\n",
              "    </tr>\n",
              "    <tr>\n",
              "      <th>140</th>\n",
              "      <td>1960</td>\n",
              "      <td>Sep</td>\n",
              "      <td>508</td>\n",
              "    </tr>\n",
              "    <tr>\n",
              "      <th>141</th>\n",
              "      <td>1960</td>\n",
              "      <td>Oct</td>\n",
              "      <td>461</td>\n",
              "    </tr>\n",
              "    <tr>\n",
              "      <th>142</th>\n",
              "      <td>1960</td>\n",
              "      <td>Nov</td>\n",
              "      <td>390</td>\n",
              "    </tr>\n",
              "    <tr>\n",
              "      <th>143</th>\n",
              "      <td>1960</td>\n",
              "      <td>Dec</td>\n",
              "      <td>432</td>\n",
              "    </tr>\n",
              "  </tbody>\n",
              "</table>\n",
              "<p>144 rows × 3 columns</p>\n",
              "</div>"
            ],
            "text/plain": [
              "     year month  passengers\n",
              "0    1949   Jan         112\n",
              "1    1949   Feb         118\n",
              "2    1949   Mar         132\n",
              "3    1949   Apr         129\n",
              "4    1949   May         121\n",
              "..    ...   ...         ...\n",
              "139  1960   Aug         606\n",
              "140  1960   Sep         508\n",
              "141  1960   Oct         461\n",
              "142  1960   Nov         390\n",
              "143  1960   Dec         432\n",
              "\n",
              "[144 rows x 3 columns]"
            ]
          },
          "execution_count": 26,
          "metadata": {},
          "output_type": "execute_result"
        }
      ],
      "source": [
        "flights = sns.load_dataset(\"flights\")\n",
        "flights"
      ],
      "id": "informal-marine"
    },
    {
      "cell_type": "markdown",
      "metadata": {
        "id": "e084f69f"
      },
      "source": [
        "___\n",
        "\n",
        "<p style=\"text-align: center;\"><img src=\"https://docs.google.com/uc?id=1lY0Uj5R04yMY3-ZppPWxqCr5pvBLYPnV\" class=\"img-fluid\" alt=\"CLRSWY\"></p>\n",
        "\n",
        "## <p style=\"background-color:#FDFEFE; font-family:newtimeroman; color:#9d4f8c; font-size:100%; text-align:center; border-radius:10px 10px;\">WAY TO REINVENT YOURSELF</p>\n",
        "___"
      ],
      "id": "e084f69f"
    },
    {
      "cell_type": "code",
      "execution_count": null,
      "metadata": {
        "id": "H8i2kb2JpVon"
      },
      "outputs": [],
      "source": [
        ""
      ],
      "id": "H8i2kb2JpVon"
    },
    {
      "cell_type": "code",
      "execution_count": null,
      "metadata": {
        "id": "RkN_k6I1pVon"
      },
      "outputs": [],
      "source": [
        ""
      ],
      "id": "RkN_k6I1pVon"
    }
  ],
  "metadata": {
    "colab": {
      "collapsed_sections": [],
      "name": "2_DVwPy_S2_Matplotlib_Emine Notebook 02_03_2022.ipynb",
      "provenance": [],
      "include_colab_link": true
    },
    "kernelspec": {
      "display_name": "Python 3",
      "language": "python",
      "name": "python3"
    },
    "language_info": {
      "codemirror_mode": {
        "name": "ipython",
        "version": 3
      },
      "file_extension": ".py",
      "mimetype": "text/x-python",
      "name": "python",
      "nbconvert_exporter": "python",
      "pygments_lexer": "ipython3",
      "version": "3.7.9"
    }
  },
  "nbformat": 4,
  "nbformat_minor": 5
}